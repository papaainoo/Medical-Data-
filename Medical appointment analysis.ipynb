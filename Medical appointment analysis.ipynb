{
 "cells": [
  {
   "cell_type": "code",
   "execution_count": 59,
   "id": "ff82853f-635e-464e-b90a-dcae553a62b8",
   "metadata": {},
   "outputs": [],
   "source": [
    "import numpy as np\n",
    "import pandas as pd\n",
    "import matplotlib.pyplot as plt\n",
    "import seaborn as sns"
   ]
  },
  {
   "cell_type": "code",
   "execution_count": 60,
   "id": "8bd96831-787c-492c-827a-14a26a9bb498",
   "metadata": {},
   "outputs": [
    {
     "data": {
      "text/html": [
       "<div>\n",
       "<style scoped>\n",
       "    .dataframe tbody tr th:only-of-type {\n",
       "        vertical-align: middle;\n",
       "    }\n",
       "\n",
       "    .dataframe tbody tr th {\n",
       "        vertical-align: top;\n",
       "    }\n",
       "\n",
       "    .dataframe thead th {\n",
       "        text-align: right;\n",
       "    }\n",
       "</style>\n",
       "<table border=\"1\" class=\"dataframe\">\n",
       "  <thead>\n",
       "    <tr style=\"text-align: right;\">\n",
       "      <th></th>\n",
       "      <th>PatientId</th>\n",
       "      <th>AppointmentID</th>\n",
       "      <th>Gender</th>\n",
       "      <th>ScheduledDay</th>\n",
       "      <th>AppointmentDay</th>\n",
       "      <th>Age</th>\n",
       "      <th>Neighbourhood</th>\n",
       "      <th>Scholarship</th>\n",
       "      <th>Hipertension</th>\n",
       "      <th>Diabetes</th>\n",
       "      <th>Alcoholism</th>\n",
       "      <th>Handcap</th>\n",
       "      <th>SMS_received</th>\n",
       "      <th>No-show</th>\n",
       "    </tr>\n",
       "  </thead>\n",
       "  <tbody>\n",
       "    <tr>\n",
       "      <th>0</th>\n",
       "      <td>2.987250e+13</td>\n",
       "      <td>5642903</td>\n",
       "      <td>F</td>\n",
       "      <td>2016-04-29T18:38:08Z</td>\n",
       "      <td>2016-04-29T00:00:00Z</td>\n",
       "      <td>62</td>\n",
       "      <td>JARDIM DA PENHA</td>\n",
       "      <td>0</td>\n",
       "      <td>1</td>\n",
       "      <td>0</td>\n",
       "      <td>0</td>\n",
       "      <td>0</td>\n",
       "      <td>0</td>\n",
       "      <td>No</td>\n",
       "    </tr>\n",
       "    <tr>\n",
       "      <th>1</th>\n",
       "      <td>5.589980e+14</td>\n",
       "      <td>5642503</td>\n",
       "      <td>M</td>\n",
       "      <td>2016-04-29T16:08:27Z</td>\n",
       "      <td>2016-04-29T00:00:00Z</td>\n",
       "      <td>56</td>\n",
       "      <td>JARDIM DA PENHA</td>\n",
       "      <td>0</td>\n",
       "      <td>0</td>\n",
       "      <td>0</td>\n",
       "      <td>0</td>\n",
       "      <td>0</td>\n",
       "      <td>0</td>\n",
       "      <td>No</td>\n",
       "    </tr>\n",
       "    <tr>\n",
       "      <th>2</th>\n",
       "      <td>4.262960e+12</td>\n",
       "      <td>5642549</td>\n",
       "      <td>F</td>\n",
       "      <td>2016-04-29T16:19:04Z</td>\n",
       "      <td>2016-04-29T00:00:00Z</td>\n",
       "      <td>62</td>\n",
       "      <td>MATA DA PRAIA</td>\n",
       "      <td>0</td>\n",
       "      <td>0</td>\n",
       "      <td>0</td>\n",
       "      <td>0</td>\n",
       "      <td>0</td>\n",
       "      <td>0</td>\n",
       "      <td>No</td>\n",
       "    </tr>\n",
       "    <tr>\n",
       "      <th>3</th>\n",
       "      <td>8.679510e+11</td>\n",
       "      <td>5642828</td>\n",
       "      <td>F</td>\n",
       "      <td>2016-04-29T17:29:31Z</td>\n",
       "      <td>2016-04-29T00:00:00Z</td>\n",
       "      <td>8</td>\n",
       "      <td>PONTAL DE CAMBURI</td>\n",
       "      <td>0</td>\n",
       "      <td>0</td>\n",
       "      <td>0</td>\n",
       "      <td>0</td>\n",
       "      <td>0</td>\n",
       "      <td>0</td>\n",
       "      <td>No</td>\n",
       "    </tr>\n",
       "    <tr>\n",
       "      <th>4</th>\n",
       "      <td>8.841190e+12</td>\n",
       "      <td>5642494</td>\n",
       "      <td>F</td>\n",
       "      <td>2016-04-29T16:07:23Z</td>\n",
       "      <td>2016-04-29T00:00:00Z</td>\n",
       "      <td>56</td>\n",
       "      <td>JARDIM DA PENHA</td>\n",
       "      <td>0</td>\n",
       "      <td>1</td>\n",
       "      <td>1</td>\n",
       "      <td>0</td>\n",
       "      <td>0</td>\n",
       "      <td>0</td>\n",
       "      <td>No</td>\n",
       "    </tr>\n",
       "  </tbody>\n",
       "</table>\n",
       "</div>"
      ],
      "text/plain": [
       "      PatientId  AppointmentID Gender          ScheduledDay  \\\n",
       "0  2.987250e+13        5642903      F  2016-04-29T18:38:08Z   \n",
       "1  5.589980e+14        5642503      M  2016-04-29T16:08:27Z   \n",
       "2  4.262960e+12        5642549      F  2016-04-29T16:19:04Z   \n",
       "3  8.679510e+11        5642828      F  2016-04-29T17:29:31Z   \n",
       "4  8.841190e+12        5642494      F  2016-04-29T16:07:23Z   \n",
       "\n",
       "         AppointmentDay  Age      Neighbourhood  Scholarship  Hipertension  \\\n",
       "0  2016-04-29T00:00:00Z   62    JARDIM DA PENHA            0             1   \n",
       "1  2016-04-29T00:00:00Z   56    JARDIM DA PENHA            0             0   \n",
       "2  2016-04-29T00:00:00Z   62      MATA DA PRAIA            0             0   \n",
       "3  2016-04-29T00:00:00Z    8  PONTAL DE CAMBURI            0             0   \n",
       "4  2016-04-29T00:00:00Z   56    JARDIM DA PENHA            0             1   \n",
       "\n",
       "   Diabetes  Alcoholism  Handcap  SMS_received No-show  \n",
       "0         0           0        0             0      No  \n",
       "1         0           0        0             0      No  \n",
       "2         0           0        0             0      No  \n",
       "3         0           0        0             0      No  \n",
       "4         1           0        0             0      No  "
      ]
     },
     "execution_count": 60,
     "metadata": {},
     "output_type": "execute_result"
    }
   ],
   "source": [
    "#Lets read the data\n",
    "df=pd.read_csv(\"...\\Hospital appointment\\data.csv\")\n",
    "df.head()"
   ]
  },
  {
   "cell_type": "code",
   "execution_count": 61,
   "id": "73207810-6341-4f16-ad37-d16d20261310",
   "metadata": {},
   "outputs": [
    {
     "data": {
      "text/html": [
       "<div>\n",
       "<style scoped>\n",
       "    .dataframe tbody tr th:only-of-type {\n",
       "        vertical-align: middle;\n",
       "    }\n",
       "\n",
       "    .dataframe tbody tr th {\n",
       "        vertical-align: top;\n",
       "    }\n",
       "\n",
       "    .dataframe thead th {\n",
       "        text-align: right;\n",
       "    }\n",
       "</style>\n",
       "<table border=\"1\" class=\"dataframe\">\n",
       "  <thead>\n",
       "    <tr style=\"text-align: right;\">\n",
       "      <th></th>\n",
       "      <th>PatientId</th>\n",
       "      <th>AppointmentID</th>\n",
       "      <th>Gender</th>\n",
       "      <th>ScheduledDay</th>\n",
       "      <th>AppointmentDay</th>\n",
       "      <th>Age</th>\n",
       "      <th>Neighbourhood</th>\n",
       "      <th>Scholarship</th>\n",
       "      <th>Hipertension</th>\n",
       "      <th>Diabetes</th>\n",
       "      <th>Alcoholism</th>\n",
       "      <th>Handcap</th>\n",
       "      <th>SMS_received</th>\n",
       "      <th>No-show</th>\n",
       "    </tr>\n",
       "  </thead>\n",
       "  <tbody>\n",
       "    <tr>\n",
       "      <th>110522</th>\n",
       "      <td>2.572130e+12</td>\n",
       "      <td>5651768</td>\n",
       "      <td>F</td>\n",
       "      <td>2016-05-03T09:15:35Z</td>\n",
       "      <td>2016-06-07T00:00:00Z</td>\n",
       "      <td>56</td>\n",
       "      <td>MARIA ORTIZ</td>\n",
       "      <td>0</td>\n",
       "      <td>0</td>\n",
       "      <td>0</td>\n",
       "      <td>0</td>\n",
       "      <td>0</td>\n",
       "      <td>1</td>\n",
       "      <td>No</td>\n",
       "    </tr>\n",
       "    <tr>\n",
       "      <th>110523</th>\n",
       "      <td>3.596270e+12</td>\n",
       "      <td>5650093</td>\n",
       "      <td>F</td>\n",
       "      <td>2016-05-03T07:27:33Z</td>\n",
       "      <td>2016-06-07T00:00:00Z</td>\n",
       "      <td>51</td>\n",
       "      <td>MARIA ORTIZ</td>\n",
       "      <td>0</td>\n",
       "      <td>0</td>\n",
       "      <td>0</td>\n",
       "      <td>0</td>\n",
       "      <td>0</td>\n",
       "      <td>1</td>\n",
       "      <td>No</td>\n",
       "    </tr>\n",
       "    <tr>\n",
       "      <th>110524</th>\n",
       "      <td>1.557660e+13</td>\n",
       "      <td>5630692</td>\n",
       "      <td>F</td>\n",
       "      <td>2016-04-27T16:03:52Z</td>\n",
       "      <td>2016-06-07T00:00:00Z</td>\n",
       "      <td>21</td>\n",
       "      <td>MARIA ORTIZ</td>\n",
       "      <td>0</td>\n",
       "      <td>0</td>\n",
       "      <td>0</td>\n",
       "      <td>0</td>\n",
       "      <td>0</td>\n",
       "      <td>1</td>\n",
       "      <td>No</td>\n",
       "    </tr>\n",
       "    <tr>\n",
       "      <th>110525</th>\n",
       "      <td>9.213490e+13</td>\n",
       "      <td>5630323</td>\n",
       "      <td>F</td>\n",
       "      <td>2016-04-27T15:09:23Z</td>\n",
       "      <td>2016-06-07T00:00:00Z</td>\n",
       "      <td>38</td>\n",
       "      <td>MARIA ORTIZ</td>\n",
       "      <td>0</td>\n",
       "      <td>0</td>\n",
       "      <td>0</td>\n",
       "      <td>0</td>\n",
       "      <td>0</td>\n",
       "      <td>1</td>\n",
       "      <td>No</td>\n",
       "    </tr>\n",
       "    <tr>\n",
       "      <th>110526</th>\n",
       "      <td>3.775120e+14</td>\n",
       "      <td>5629448</td>\n",
       "      <td>F</td>\n",
       "      <td>2016-04-27T13:30:56Z</td>\n",
       "      <td>2016-06-07T00:00:00Z</td>\n",
       "      <td>54</td>\n",
       "      <td>MARIA ORTIZ</td>\n",
       "      <td>0</td>\n",
       "      <td>0</td>\n",
       "      <td>0</td>\n",
       "      <td>0</td>\n",
       "      <td>0</td>\n",
       "      <td>1</td>\n",
       "      <td>No</td>\n",
       "    </tr>\n",
       "  </tbody>\n",
       "</table>\n",
       "</div>"
      ],
      "text/plain": [
       "           PatientId  AppointmentID Gender          ScheduledDay  \\\n",
       "110522  2.572130e+12        5651768      F  2016-05-03T09:15:35Z   \n",
       "110523  3.596270e+12        5650093      F  2016-05-03T07:27:33Z   \n",
       "110524  1.557660e+13        5630692      F  2016-04-27T16:03:52Z   \n",
       "110525  9.213490e+13        5630323      F  2016-04-27T15:09:23Z   \n",
       "110526  3.775120e+14        5629448      F  2016-04-27T13:30:56Z   \n",
       "\n",
       "              AppointmentDay  Age Neighbourhood  Scholarship  Hipertension  \\\n",
       "110522  2016-06-07T00:00:00Z   56   MARIA ORTIZ            0             0   \n",
       "110523  2016-06-07T00:00:00Z   51   MARIA ORTIZ            0             0   \n",
       "110524  2016-06-07T00:00:00Z   21   MARIA ORTIZ            0             0   \n",
       "110525  2016-06-07T00:00:00Z   38   MARIA ORTIZ            0             0   \n",
       "110526  2016-06-07T00:00:00Z   54   MARIA ORTIZ            0             0   \n",
       "\n",
       "        Diabetes  Alcoholism  Handcap  SMS_received No-show  \n",
       "110522         0           0        0             1      No  \n",
       "110523         0           0        0             1      No  \n",
       "110524         0           0        0             1      No  \n",
       "110525         0           0        0             1      No  \n",
       "110526         0           0        0             1      No  "
      ]
     },
     "execution_count": 61,
     "metadata": {},
     "output_type": "execute_result"
    }
   ],
   "source": [
    "df.tail()"
   ]
  },
  {
   "cell_type": "code",
   "execution_count": 62,
   "id": "92a56e30-2299-4d1a-88c9-83bcb5fc640e",
   "metadata": {},
   "outputs": [
    {
     "data": {
      "text/plain": [
       "('2016-04-29T00:00:00Z', '2016-06-08T00:00:00Z')"
      ]
     },
     "execution_count": 62,
     "metadata": {},
     "output_type": "execute_result"
    }
   ],
   "source": [
    "#Time of first and last appointment in data\n",
    "df.AppointmentDay.min(),df.AppointmentDay.max()"
   ]
  },
  {
   "cell_type": "code",
   "execution_count": 63,
   "id": "12e0a9f1-d438-4413-a166-fe0bde071a53",
   "metadata": {},
   "outputs": [
    {
     "data": {
      "text/plain": [
       "(110527, 14)"
      ]
     },
     "execution_count": 63,
     "metadata": {},
     "output_type": "execute_result"
    }
   ],
   "source": [
    "df.shape"
   ]
  },
  {
   "cell_type": "code",
   "execution_count": 64,
   "id": "618c7e03-be99-4212-b7af-c7e97af8bdec",
   "metadata": {},
   "outputs": [
    {
     "data": {
      "text/html": [
       "<div>\n",
       "<style scoped>\n",
       "    .dataframe tbody tr th:only-of-type {\n",
       "        vertical-align: middle;\n",
       "    }\n",
       "\n",
       "    .dataframe tbody tr th {\n",
       "        vertical-align: top;\n",
       "    }\n",
       "\n",
       "    .dataframe thead th {\n",
       "        text-align: right;\n",
       "    }\n",
       "</style>\n",
       "<table border=\"1\" class=\"dataframe\">\n",
       "  <thead>\n",
       "    <tr style=\"text-align: right;\">\n",
       "      <th></th>\n",
       "      <th>PatientId</th>\n",
       "      <th>AppointmentID</th>\n",
       "      <th>Age</th>\n",
       "      <th>Scholarship</th>\n",
       "      <th>Hipertension</th>\n",
       "      <th>Diabetes</th>\n",
       "      <th>Alcoholism</th>\n",
       "      <th>Handcap</th>\n",
       "      <th>SMS_received</th>\n",
       "    </tr>\n",
       "  </thead>\n",
       "  <tbody>\n",
       "    <tr>\n",
       "      <th>count</th>\n",
       "      <td>1.105270e+05</td>\n",
       "      <td>1.105270e+05</td>\n",
       "      <td>110527.000000</td>\n",
       "      <td>110527.000000</td>\n",
       "      <td>110527.000000</td>\n",
       "      <td>110527.000000</td>\n",
       "      <td>110527.000000</td>\n",
       "      <td>110527.000000</td>\n",
       "      <td>110527.000000</td>\n",
       "    </tr>\n",
       "    <tr>\n",
       "      <th>mean</th>\n",
       "      <td>1.474963e+14</td>\n",
       "      <td>5.675305e+06</td>\n",
       "      <td>37.088874</td>\n",
       "      <td>0.098266</td>\n",
       "      <td>0.197246</td>\n",
       "      <td>0.071865</td>\n",
       "      <td>0.030400</td>\n",
       "      <td>0.022248</td>\n",
       "      <td>0.321026</td>\n",
       "    </tr>\n",
       "    <tr>\n",
       "      <th>std</th>\n",
       "      <td>2.560949e+14</td>\n",
       "      <td>7.129575e+04</td>\n",
       "      <td>23.110205</td>\n",
       "      <td>0.297675</td>\n",
       "      <td>0.397921</td>\n",
       "      <td>0.258265</td>\n",
       "      <td>0.171686</td>\n",
       "      <td>0.161543</td>\n",
       "      <td>0.466873</td>\n",
       "    </tr>\n",
       "    <tr>\n",
       "      <th>min</th>\n",
       "      <td>3.920000e+04</td>\n",
       "      <td>5.030230e+06</td>\n",
       "      <td>-1.000000</td>\n",
       "      <td>0.000000</td>\n",
       "      <td>0.000000</td>\n",
       "      <td>0.000000</td>\n",
       "      <td>0.000000</td>\n",
       "      <td>0.000000</td>\n",
       "      <td>0.000000</td>\n",
       "    </tr>\n",
       "    <tr>\n",
       "      <th>25%</th>\n",
       "      <td>4.172615e+12</td>\n",
       "      <td>5.640286e+06</td>\n",
       "      <td>18.000000</td>\n",
       "      <td>0.000000</td>\n",
       "      <td>0.000000</td>\n",
       "      <td>0.000000</td>\n",
       "      <td>0.000000</td>\n",
       "      <td>0.000000</td>\n",
       "      <td>0.000000</td>\n",
       "    </tr>\n",
       "    <tr>\n",
       "      <th>50%</th>\n",
       "      <td>3.173180e+13</td>\n",
       "      <td>5.680573e+06</td>\n",
       "      <td>37.000000</td>\n",
       "      <td>0.000000</td>\n",
       "      <td>0.000000</td>\n",
       "      <td>0.000000</td>\n",
       "      <td>0.000000</td>\n",
       "      <td>0.000000</td>\n",
       "      <td>0.000000</td>\n",
       "    </tr>\n",
       "    <tr>\n",
       "      <th>75%</th>\n",
       "      <td>9.439170e+13</td>\n",
       "      <td>5.725524e+06</td>\n",
       "      <td>55.000000</td>\n",
       "      <td>0.000000</td>\n",
       "      <td>0.000000</td>\n",
       "      <td>0.000000</td>\n",
       "      <td>0.000000</td>\n",
       "      <td>0.000000</td>\n",
       "      <td>1.000000</td>\n",
       "    </tr>\n",
       "    <tr>\n",
       "      <th>max</th>\n",
       "      <td>9.999820e+14</td>\n",
       "      <td>5.790484e+06</td>\n",
       "      <td>115.000000</td>\n",
       "      <td>1.000000</td>\n",
       "      <td>1.000000</td>\n",
       "      <td>1.000000</td>\n",
       "      <td>1.000000</td>\n",
       "      <td>4.000000</td>\n",
       "      <td>1.000000</td>\n",
       "    </tr>\n",
       "  </tbody>\n",
       "</table>\n",
       "</div>"
      ],
      "text/plain": [
       "          PatientId  AppointmentID            Age    Scholarship  \\\n",
       "count  1.105270e+05   1.105270e+05  110527.000000  110527.000000   \n",
       "mean   1.474963e+14   5.675305e+06      37.088874       0.098266   \n",
       "std    2.560949e+14   7.129575e+04      23.110205       0.297675   \n",
       "min    3.920000e+04   5.030230e+06      -1.000000       0.000000   \n",
       "25%    4.172615e+12   5.640286e+06      18.000000       0.000000   \n",
       "50%    3.173180e+13   5.680573e+06      37.000000       0.000000   \n",
       "75%    9.439170e+13   5.725524e+06      55.000000       0.000000   \n",
       "max    9.999820e+14   5.790484e+06     115.000000       1.000000   \n",
       "\n",
       "        Hipertension       Diabetes     Alcoholism        Handcap  \\\n",
       "count  110527.000000  110527.000000  110527.000000  110527.000000   \n",
       "mean        0.197246       0.071865       0.030400       0.022248   \n",
       "std         0.397921       0.258265       0.171686       0.161543   \n",
       "min         0.000000       0.000000       0.000000       0.000000   \n",
       "25%         0.000000       0.000000       0.000000       0.000000   \n",
       "50%         0.000000       0.000000       0.000000       0.000000   \n",
       "75%         0.000000       0.000000       0.000000       0.000000   \n",
       "max         1.000000       1.000000       1.000000       4.000000   \n",
       "\n",
       "        SMS_received  \n",
       "count  110527.000000  \n",
       "mean        0.321026  \n",
       "std         0.466873  \n",
       "min         0.000000  \n",
       "25%         0.000000  \n",
       "50%         0.000000  \n",
       "75%         1.000000  \n",
       "max         1.000000  "
      ]
     },
     "execution_count": 64,
     "metadata": {},
     "output_type": "execute_result"
    }
   ],
   "source": [
    "df.describe()"
   ]
  },
  {
   "cell_type": "code",
   "execution_count": 65,
   "id": "85f4ebba-8482-4a2b-a6ad-5612234f1560",
   "metadata": {},
   "outputs": [
    {
     "name": "stdout",
     "output_type": "stream",
     "text": [
      "<class 'pandas.core.frame.DataFrame'>\n",
      "RangeIndex: 110527 entries, 0 to 110526\n",
      "Data columns (total 14 columns):\n",
      " #   Column          Non-Null Count   Dtype  \n",
      "---  ------          --------------   -----  \n",
      " 0   PatientId       110527 non-null  float64\n",
      " 1   AppointmentID   110527 non-null  int64  \n",
      " 2   Gender          110527 non-null  object \n",
      " 3   ScheduledDay    110527 non-null  object \n",
      " 4   AppointmentDay  110527 non-null  object \n",
      " 5   Age             110527 non-null  int64  \n",
      " 6   Neighbourhood   110527 non-null  object \n",
      " 7   Scholarship     110527 non-null  int64  \n",
      " 8   Hipertension    110527 non-null  int64  \n",
      " 9   Diabetes        110527 non-null  int64  \n",
      " 10  Alcoholism      110527 non-null  int64  \n",
      " 11  Handcap         110527 non-null  int64  \n",
      " 12  SMS_received    110527 non-null  int64  \n",
      " 13  No-show         110527 non-null  object \n",
      "dtypes: float64(1), int64(8), object(5)\n",
      "memory usage: 11.8+ MB\n"
     ]
    }
   ],
   "source": [
    "df.info()"
   ]
  },
  {
   "cell_type": "code",
   "execution_count": 66,
   "id": "06743bed-c277-4fb0-b5d1-b4394dd43a51",
   "metadata": {},
   "outputs": [
    {
     "data": {
      "text/html": [
       "<div>\n",
       "<style scoped>\n",
       "    .dataframe tbody tr th:only-of-type {\n",
       "        vertical-align: middle;\n",
       "    }\n",
       "\n",
       "    .dataframe tbody tr th {\n",
       "        vertical-align: top;\n",
       "    }\n",
       "\n",
       "    .dataframe thead th {\n",
       "        text-align: right;\n",
       "    }\n",
       "</style>\n",
       "<table border=\"1\" class=\"dataframe\">\n",
       "  <thead>\n",
       "    <tr style=\"text-align: right;\">\n",
       "      <th></th>\n",
       "      <th>PatientId</th>\n",
       "      <th>AppointmentID</th>\n",
       "      <th>Age</th>\n",
       "      <th>Scholarship</th>\n",
       "      <th>Hipertension</th>\n",
       "      <th>Diabetes</th>\n",
       "      <th>Alcoholism</th>\n",
       "      <th>Handcap</th>\n",
       "      <th>SMS_received</th>\n",
       "    </tr>\n",
       "  </thead>\n",
       "  <tbody>\n",
       "    <tr>\n",
       "      <th>count</th>\n",
       "      <td>1.105260e+05</td>\n",
       "      <td>1.105260e+05</td>\n",
       "      <td>110526.000000</td>\n",
       "      <td>110526.000000</td>\n",
       "      <td>110526.000000</td>\n",
       "      <td>110526.000000</td>\n",
       "      <td>110526.000000</td>\n",
       "      <td>110526.000000</td>\n",
       "      <td>110526.000000</td>\n",
       "    </tr>\n",
       "    <tr>\n",
       "      <th>mean</th>\n",
       "      <td>1.474934e+14</td>\n",
       "      <td>5.675304e+06</td>\n",
       "      <td>37.089219</td>\n",
       "      <td>0.098266</td>\n",
       "      <td>0.197248</td>\n",
       "      <td>0.071865</td>\n",
       "      <td>0.030400</td>\n",
       "      <td>0.022248</td>\n",
       "      <td>0.321029</td>\n",
       "    </tr>\n",
       "    <tr>\n",
       "      <th>std</th>\n",
       "      <td>2.560943e+14</td>\n",
       "      <td>7.129544e+04</td>\n",
       "      <td>23.110026</td>\n",
       "      <td>0.297676</td>\n",
       "      <td>0.397923</td>\n",
       "      <td>0.258266</td>\n",
       "      <td>0.171686</td>\n",
       "      <td>0.161543</td>\n",
       "      <td>0.466874</td>\n",
       "    </tr>\n",
       "    <tr>\n",
       "      <th>min</th>\n",
       "      <td>3.920000e+04</td>\n",
       "      <td>5.030230e+06</td>\n",
       "      <td>0.000000</td>\n",
       "      <td>0.000000</td>\n",
       "      <td>0.000000</td>\n",
       "      <td>0.000000</td>\n",
       "      <td>0.000000</td>\n",
       "      <td>0.000000</td>\n",
       "      <td>0.000000</td>\n",
       "    </tr>\n",
       "    <tr>\n",
       "      <th>25%</th>\n",
       "      <td>4.172538e+12</td>\n",
       "      <td>5.640285e+06</td>\n",
       "      <td>18.000000</td>\n",
       "      <td>0.000000</td>\n",
       "      <td>0.000000</td>\n",
       "      <td>0.000000</td>\n",
       "      <td>0.000000</td>\n",
       "      <td>0.000000</td>\n",
       "      <td>0.000000</td>\n",
       "    </tr>\n",
       "    <tr>\n",
       "      <th>50%</th>\n",
       "      <td>3.173180e+13</td>\n",
       "      <td>5.680572e+06</td>\n",
       "      <td>37.000000</td>\n",
       "      <td>0.000000</td>\n",
       "      <td>0.000000</td>\n",
       "      <td>0.000000</td>\n",
       "      <td>0.000000</td>\n",
       "      <td>0.000000</td>\n",
       "      <td>0.000000</td>\n",
       "    </tr>\n",
       "    <tr>\n",
       "      <th>75%</th>\n",
       "      <td>9.438960e+13</td>\n",
       "      <td>5.725523e+06</td>\n",
       "      <td>55.000000</td>\n",
       "      <td>0.000000</td>\n",
       "      <td>0.000000</td>\n",
       "      <td>0.000000</td>\n",
       "      <td>0.000000</td>\n",
       "      <td>0.000000</td>\n",
       "      <td>1.000000</td>\n",
       "    </tr>\n",
       "    <tr>\n",
       "      <th>max</th>\n",
       "      <td>9.999820e+14</td>\n",
       "      <td>5.790484e+06</td>\n",
       "      <td>115.000000</td>\n",
       "      <td>1.000000</td>\n",
       "      <td>1.000000</td>\n",
       "      <td>1.000000</td>\n",
       "      <td>1.000000</td>\n",
       "      <td>4.000000</td>\n",
       "      <td>1.000000</td>\n",
       "    </tr>\n",
       "  </tbody>\n",
       "</table>\n",
       "</div>"
      ],
      "text/plain": [
       "          PatientId  AppointmentID            Age    Scholarship  \\\n",
       "count  1.105260e+05   1.105260e+05  110526.000000  110526.000000   \n",
       "mean   1.474934e+14   5.675304e+06      37.089219       0.098266   \n",
       "std    2.560943e+14   7.129544e+04      23.110026       0.297676   \n",
       "min    3.920000e+04   5.030230e+06       0.000000       0.000000   \n",
       "25%    4.172538e+12   5.640285e+06      18.000000       0.000000   \n",
       "50%    3.173180e+13   5.680572e+06      37.000000       0.000000   \n",
       "75%    9.438960e+13   5.725523e+06      55.000000       0.000000   \n",
       "max    9.999820e+14   5.790484e+06     115.000000       1.000000   \n",
       "\n",
       "        Hipertension       Diabetes     Alcoholism        Handcap  \\\n",
       "count  110526.000000  110526.000000  110526.000000  110526.000000   \n",
       "mean        0.197248       0.071865       0.030400       0.022248   \n",
       "std         0.397923       0.258266       0.171686       0.161543   \n",
       "min         0.000000       0.000000       0.000000       0.000000   \n",
       "25%         0.000000       0.000000       0.000000       0.000000   \n",
       "50%         0.000000       0.000000       0.000000       0.000000   \n",
       "75%         0.000000       0.000000       0.000000       0.000000   \n",
       "max         1.000000       1.000000       1.000000       4.000000   \n",
       "\n",
       "        SMS_received  \n",
       "count  110526.000000  \n",
       "mean        0.321029  \n",
       "std         0.466874  \n",
       "min         0.000000  \n",
       "25%         0.000000  \n",
       "50%         0.000000  \n",
       "75%         1.000000  \n",
       "max         1.000000  "
      ]
     },
     "execution_count": 66,
     "metadata": {},
     "output_type": "execute_result"
    }
   ],
   "source": [
    "#Dropping rows with age less than zero\n",
    "df=df[df['Age']>=0]\n",
    "df.describe()"
   ]
  },
  {
   "cell_type": "code",
   "execution_count": 67,
   "id": "8ab4ac79-8eaf-440f-8ac1-67f47cbf698e",
   "metadata": {
    "tags": []
   },
   "outputs": [
    {
     "name": "stdout",
     "output_type": "stream",
     "text": [
      "0         False\n",
      "1         False\n",
      "2         False\n",
      "3         False\n",
      "4         False\n",
      "          ...  \n",
      "110522    False\n",
      "110523    False\n",
      "110524    False\n",
      "110525    False\n",
      "110526    False\n",
      "Length: 110526, dtype: bool\n"
     ]
    }
   ],
   "source": [
    "duplicates=df.duplicated()\n",
    "print(duplicates)"
   ]
  },
  {
   "cell_type": "code",
   "execution_count": 68,
   "id": "3646137e-9e2e-404a-91cd-cd92582ede24",
   "metadata": {},
   "outputs": [
    {
     "data": {
      "text/plain": [
       "False    110526\n",
       "dtype: int64"
      ]
     },
     "execution_count": 68,
     "metadata": {},
     "output_type": "execute_result"
    }
   ],
   "source": [
    "#Finding number of duplicated columns\n",
    "duplicates.value_counts()"
   ]
  },
  {
   "cell_type": "code",
   "execution_count": 69,
   "id": "d65ed770-d4c9-4d3e-8804-8b6d716fd958",
   "metadata": {},
   "outputs": [],
   "source": [
    "#changing some columns data types\n",
    "df['PatientId']=df['PatientId'].astype('string')\n",
    "df['ScheduledDay']=pd.to_datetime(df['ScheduledDay'])\n",
    "df['AppointmentDay']=pd.to_datetime(df['AppointmentDay'])"
   ]
  },
  {
   "cell_type": "code",
   "execution_count": 70,
   "id": "88f93aed-2279-47c9-8624-263b2c2514ed",
   "metadata": {},
   "outputs": [
    {
     "name": "stdout",
     "output_type": "stream",
     "text": [
      "<class 'pandas.core.frame.DataFrame'>\n",
      "Int64Index: 110526 entries, 0 to 110526\n",
      "Data columns (total 14 columns):\n",
      " #   Column          Non-Null Count   Dtype              \n",
      "---  ------          --------------   -----              \n",
      " 0   PatientId       110526 non-null  string             \n",
      " 1   AppointmentID   110526 non-null  int64              \n",
      " 2   Gender          110526 non-null  object             \n",
      " 3   ScheduledDay    110526 non-null  datetime64[ns, UTC]\n",
      " 4   AppointmentDay  110526 non-null  datetime64[ns, UTC]\n",
      " 5   Age             110526 non-null  int64              \n",
      " 6   Neighbourhood   110526 non-null  object             \n",
      " 7   Scholarship     110526 non-null  int64              \n",
      " 8   Hipertension    110526 non-null  int64              \n",
      " 9   Diabetes        110526 non-null  int64              \n",
      " 10  Alcoholism      110526 non-null  int64              \n",
      " 11  Handcap         110526 non-null  int64              \n",
      " 12  SMS_received    110526 non-null  int64              \n",
      " 13  No-show         110526 non-null  object             \n",
      "dtypes: datetime64[ns, UTC](2), int64(8), object(3), string(1)\n",
      "memory usage: 12.6+ MB\n"
     ]
    }
   ],
   "source": [
    "#Checking to confirm data types changed\n",
    "df.info()"
   ]
  },
  {
   "cell_type": "code",
   "execution_count": 71,
   "id": "291cdb19-5a2c-46db-985d-8b6985db4923",
   "metadata": {},
   "outputs": [
    {
     "data": {
      "text/html": [
       "<div>\n",
       "<style scoped>\n",
       "    .dataframe tbody tr th:only-of-type {\n",
       "        vertical-align: middle;\n",
       "    }\n",
       "\n",
       "    .dataframe tbody tr th {\n",
       "        vertical-align: top;\n",
       "    }\n",
       "\n",
       "    .dataframe thead th {\n",
       "        text-align: right;\n",
       "    }\n",
       "</style>\n",
       "<table border=\"1\" class=\"dataframe\">\n",
       "  <thead>\n",
       "    <tr style=\"text-align: right;\">\n",
       "      <th></th>\n",
       "      <th>PatientId</th>\n",
       "      <th>AppointmentID</th>\n",
       "      <th>Gender</th>\n",
       "      <th>ScheduledDay</th>\n",
       "      <th>AppointmentDay</th>\n",
       "      <th>Age</th>\n",
       "      <th>Neighbourhood</th>\n",
       "      <th>Scholarship</th>\n",
       "      <th>Hipertension</th>\n",
       "      <th>Diabetes</th>\n",
       "      <th>Alcoholism</th>\n",
       "      <th>Handcap</th>\n",
       "      <th>SMS_received</th>\n",
       "      <th>No-show</th>\n",
       "    </tr>\n",
       "  </thead>\n",
       "  <tbody>\n",
       "    <tr>\n",
       "      <th>0</th>\n",
       "      <td>29872500000000.0</td>\n",
       "      <td>5642903</td>\n",
       "      <td>F</td>\n",
       "      <td>2016-04-29 18:38:08+00:00</td>\n",
       "      <td>2016-04-29 00:00:00+00:00</td>\n",
       "      <td>62</td>\n",
       "      <td>JARDIM DA PENHA</td>\n",
       "      <td>0</td>\n",
       "      <td>1</td>\n",
       "      <td>0</td>\n",
       "      <td>0</td>\n",
       "      <td>0</td>\n",
       "      <td>0</td>\n",
       "      <td>No</td>\n",
       "    </tr>\n",
       "    <tr>\n",
       "      <th>1</th>\n",
       "      <td>558998000000000.0</td>\n",
       "      <td>5642503</td>\n",
       "      <td>M</td>\n",
       "      <td>2016-04-29 16:08:27+00:00</td>\n",
       "      <td>2016-04-29 00:00:00+00:00</td>\n",
       "      <td>56</td>\n",
       "      <td>JARDIM DA PENHA</td>\n",
       "      <td>0</td>\n",
       "      <td>0</td>\n",
       "      <td>0</td>\n",
       "      <td>0</td>\n",
       "      <td>0</td>\n",
       "      <td>0</td>\n",
       "      <td>No</td>\n",
       "    </tr>\n",
       "    <tr>\n",
       "      <th>2</th>\n",
       "      <td>4262960000000.0</td>\n",
       "      <td>5642549</td>\n",
       "      <td>F</td>\n",
       "      <td>2016-04-29 16:19:04+00:00</td>\n",
       "      <td>2016-04-29 00:00:00+00:00</td>\n",
       "      <td>62</td>\n",
       "      <td>MATA DA PRAIA</td>\n",
       "      <td>0</td>\n",
       "      <td>0</td>\n",
       "      <td>0</td>\n",
       "      <td>0</td>\n",
       "      <td>0</td>\n",
       "      <td>0</td>\n",
       "      <td>No</td>\n",
       "    </tr>\n",
       "    <tr>\n",
       "      <th>3</th>\n",
       "      <td>867951000000.0</td>\n",
       "      <td>5642828</td>\n",
       "      <td>F</td>\n",
       "      <td>2016-04-29 17:29:31+00:00</td>\n",
       "      <td>2016-04-29 00:00:00+00:00</td>\n",
       "      <td>8</td>\n",
       "      <td>PONTAL DE CAMBURI</td>\n",
       "      <td>0</td>\n",
       "      <td>0</td>\n",
       "      <td>0</td>\n",
       "      <td>0</td>\n",
       "      <td>0</td>\n",
       "      <td>0</td>\n",
       "      <td>No</td>\n",
       "    </tr>\n",
       "    <tr>\n",
       "      <th>4</th>\n",
       "      <td>8841190000000.0</td>\n",
       "      <td>5642494</td>\n",
       "      <td>F</td>\n",
       "      <td>2016-04-29 16:07:23+00:00</td>\n",
       "      <td>2016-04-29 00:00:00+00:00</td>\n",
       "      <td>56</td>\n",
       "      <td>JARDIM DA PENHA</td>\n",
       "      <td>0</td>\n",
       "      <td>1</td>\n",
       "      <td>1</td>\n",
       "      <td>0</td>\n",
       "      <td>0</td>\n",
       "      <td>0</td>\n",
       "      <td>No</td>\n",
       "    </tr>\n",
       "  </tbody>\n",
       "</table>\n",
       "</div>"
      ],
      "text/plain": [
       "           PatientId  AppointmentID Gender              ScheduledDay  \\\n",
       "0   29872500000000.0        5642903      F 2016-04-29 18:38:08+00:00   \n",
       "1  558998000000000.0        5642503      M 2016-04-29 16:08:27+00:00   \n",
       "2    4262960000000.0        5642549      F 2016-04-29 16:19:04+00:00   \n",
       "3     867951000000.0        5642828      F 2016-04-29 17:29:31+00:00   \n",
       "4    8841190000000.0        5642494      F 2016-04-29 16:07:23+00:00   \n",
       "\n",
       "             AppointmentDay  Age      Neighbourhood  Scholarship  \\\n",
       "0 2016-04-29 00:00:00+00:00   62    JARDIM DA PENHA            0   \n",
       "1 2016-04-29 00:00:00+00:00   56    JARDIM DA PENHA            0   \n",
       "2 2016-04-29 00:00:00+00:00   62      MATA DA PRAIA            0   \n",
       "3 2016-04-29 00:00:00+00:00    8  PONTAL DE CAMBURI            0   \n",
       "4 2016-04-29 00:00:00+00:00   56    JARDIM DA PENHA            0   \n",
       "\n",
       "   Hipertension  Diabetes  Alcoholism  Handcap  SMS_received No-show  \n",
       "0             1         0           0        0             0      No  \n",
       "1             0         0           0        0             0      No  \n",
       "2             0         0           0        0             0      No  \n",
       "3             0         0           0        0             0      No  \n",
       "4             1         1           0        0             0      No  "
      ]
     },
     "execution_count": 71,
     "metadata": {},
     "output_type": "execute_result"
    }
   ],
   "source": [
    "df.head(5)"
   ]
  },
  {
   "cell_type": "code",
   "execution_count": 72,
   "id": "b3ce6245-9a0d-4d16-a4ae-3d5ecb45351a",
   "metadata": {
    "tags": []
   },
   "outputs": [
    {
     "data": {
      "text/plain": [
       "0   -1 days +05:21:52\n",
       "1   -1 days +07:51:33\n",
       "2   -1 days +07:40:56\n",
       "3   -1 days +06:30:29\n",
       "4   -1 days +07:52:37\n",
       "Name: appointment_waiting_time, dtype: timedelta64[ns]"
      ]
     },
     "execution_count": 72,
     "metadata": {},
     "output_type": "execute_result"
    }
   ],
   "source": [
    "#Calculating appointment waiting times\n",
    "df['appointment_waiting_time']=df['AppointmentDay']-df['ScheduledDay']\n",
    "df.appointment_waiting_time.head()"
   ]
  },
  {
   "cell_type": "code",
   "execution_count": 73,
   "id": "bfc3e17a-0970-4b98-b5ef-440422e34459",
   "metadata": {},
   "outputs": [],
   "source": [
    "#Converting all waiting times to absolute days\n",
    "df['appointment_waiting_time']=df['appointment_waiting_time'].abs().dt.days"
   ]
  },
  {
   "cell_type": "code",
   "execution_count": 74,
   "id": "70cc1164-0bd0-4c46-bab7-e9e7fbfc97a7",
   "metadata": {},
   "outputs": [
    {
     "data": {
      "text/plain": [
       "array(['No', 'Yes'], dtype=object)"
      ]
     },
     "execution_count": 74,
     "metadata": {},
     "output_type": "execute_result"
    }
   ],
   "source": [
    "df['No-show'].unique()"
   ]
  },
  {
   "cell_type": "code",
   "execution_count": 75,
   "id": "1d2952a5-2a5d-4a14-984f-95a75d8366dd",
   "metadata": {},
   "outputs": [
    {
     "data": {
      "text/plain": [
       "No     0.798066\n",
       "Yes    0.201934\n",
       "Name: No-show, dtype: float64"
      ]
     },
     "execution_count": 75,
     "metadata": {},
     "output_type": "execute_result"
    }
   ],
   "source": [
    "#Finding Percentage of no-show and attended\n",
    "df['No-show'].value_counts(normalize=True)"
   ]
  },
  {
   "cell_type": "markdown",
   "id": "5ea1b211-227d-443b-97e7-410041660434",
   "metadata": {},
   "source": [
    "### There are higher percentage of no-show to those who attended. This is potentially are bad thing for the medical facility since most patients do not honor their appointments."
   ]
  },
  {
   "cell_type": "code",
   "execution_count": 76,
   "id": "e5aef483-dc4e-40c4-afb0-d69f423a9b20",
   "metadata": {},
   "outputs": [
    {
     "data": {
      "image/png": "[encoded data removed]",
      "text/plain": [
       "<Figure size 432x288 with 1 Axes>"
      ]
     },
     "metadata": {},
     "output_type": "display_data"
    }
   ],
   "source": [
    "#Checking the age group where there are no show for the appointment\n",
    "df[df['No-show']==\"Yes\"][\"Age\"].hist(alpha=1)\n",
    "df[df['No-show']==\"No\"][\"Age\"].hist(alpha=0.3)\n",
    "plt.legend([\"Yes\",\"No\"])\n",
    "plt.xlabel('Age')\n",
    "plt.ylabel('Total count')\n",
    "plt.show()"
   ]
  },
  {
   "cell_type": "markdown",
   "id": "c580693f-c330-48bd-86b7-e658783d78a5",
   "metadata": {},
   "source": [
    "It could be seen from the above that, the no show decreases as the person ages.\n",
    "Also, no show  is higher when the patient is young. It could potentially mean the parents/guardian  are not having much time to take the kids to their appointments."
   ]
  },
  {
   "cell_type": "code",
   "execution_count": 77,
   "id": "8905ece6-ee06-4bce-83b8-e8e0665a83f5",
   "metadata": {},
   "outputs": [
    {
     "data": {
      "image/png": "[encoded data removed]",
      "text/plain": [
       "<Figure size 432x288 with 1 Axes>"
      ]
     },
     "metadata": {},
     "output_type": "display_data"
    }
   ],
   "source": [
    "#Checking sms received as against no-show\n",
    "df[df['No-show']==\"Yes\"][\"SMS_received\"].hist(alpha=1)\n",
    "df[df['No-show']==\"No\"]['SMS_received'].hist(alpha=0.3)\n",
    "plt.legend([\"Yes\",\"No\"])\n",
    "plt.xlabel('SMS received')\n",
    "plt.ylabel('Total count')\n",
    "plt.show()"
   ]
  },
  {
   "cell_type": "markdown",
   "id": "9a461b6d-285a-412e-bc24-62563e350fc5",
   "metadata": {},
   "source": [
    "From the graph above, it does not give us any indication that receiving sms helps in patient going for appointments."
   ]
  },
  {
   "cell_type": "code",
   "execution_count": 78,
   "id": "18a87eef-ac31-49b8-a18d-b4a2ce04f72b",
   "metadata": {},
   "outputs": [
    {
     "data": {
      "image/png": "[encoded data removed]",
      "text/plain": [
       "<Figure size 432x288 with 1 Axes>"
      ]
     },
     "metadata": {},
     "output_type": "display_data"
    }
   ],
   "source": [
    "df[df['No-show']==\"Yes\"][\"Gender\"].hist(alpha=1)\n",
    "df[df['No-show']==\"No\"]['Gender'].hist(alpha=0.3)\n",
    "plt.legend([\"Yes\",\"No\"])\n",
    "plt.xlabel('Gender')\n",
    "plt.ylabel('Total count')\n",
    "plt.show()"
   ]
  },
  {
   "cell_type": "markdown",
   "id": "2cfaa07d-27a3-4a40-9976-461c93f5fd1a",
   "metadata": {},
   "source": [
    "From the above, it shows the women had the greater proportion of patients. It could be assumed that, women tend to care more about their health than men.However, the proportion of men showing up for their appointment was higher than women."
   ]
  },
  {
   "cell_type": "code",
   "execution_count": 79,
   "id": "513f08b7-ee18-47b9-a572-89ec3383be14",
   "metadata": {},
   "outputs": [
    {
     "data": {
      "text/html": [
       "<div>\n",
       "<style scoped>\n",
       "    .dataframe tbody tr th:only-of-type {\n",
       "        vertical-align: middle;\n",
       "    }\n",
       "\n",
       "    .dataframe tbody tr th {\n",
       "        vertical-align: top;\n",
       "    }\n",
       "\n",
       "    .dataframe thead th {\n",
       "        text-align: right;\n",
       "    }\n",
       "</style>\n",
       "<table border=\"1\" class=\"dataframe\">\n",
       "  <thead>\n",
       "    <tr style=\"text-align: right;\">\n",
       "      <th></th>\n",
       "      <th>PatientId</th>\n",
       "      <th>AppointmentID</th>\n",
       "      <th>Gender</th>\n",
       "      <th>ScheduledDay</th>\n",
       "      <th>AppointmentDay</th>\n",
       "      <th>Age</th>\n",
       "      <th>Neighbourhood</th>\n",
       "      <th>Scholarship</th>\n",
       "      <th>Hipertension</th>\n",
       "      <th>Diabetes</th>\n",
       "      <th>Alcoholism</th>\n",
       "      <th>Handcap</th>\n",
       "      <th>SMS_received</th>\n",
       "      <th>No-show</th>\n",
       "      <th>appointment_waiting_time</th>\n",
       "    </tr>\n",
       "  </thead>\n",
       "  <tbody>\n",
       "    <tr>\n",
       "      <th>0</th>\n",
       "      <td>29872500000000.0</td>\n",
       "      <td>5642903</td>\n",
       "      <td>F</td>\n",
       "      <td>2016-04-29 18:38:08+00:00</td>\n",
       "      <td>2016-04-29 00:00:00+00:00</td>\n",
       "      <td>62</td>\n",
       "      <td>JARDIM DA PENHA</td>\n",
       "      <td>0</td>\n",
       "      <td>1</td>\n",
       "      <td>0</td>\n",
       "      <td>0</td>\n",
       "      <td>0</td>\n",
       "      <td>0</td>\n",
       "      <td>0</td>\n",
       "      <td>0</td>\n",
       "    </tr>\n",
       "    <tr>\n",
       "      <th>1</th>\n",
       "      <td>558998000000000.0</td>\n",
       "      <td>5642503</td>\n",
       "      <td>M</td>\n",
       "      <td>2016-04-29 16:08:27+00:00</td>\n",
       "      <td>2016-04-29 00:00:00+00:00</td>\n",
       "      <td>56</td>\n",
       "      <td>JARDIM DA PENHA</td>\n",
       "      <td>0</td>\n",
       "      <td>0</td>\n",
       "      <td>0</td>\n",
       "      <td>0</td>\n",
       "      <td>0</td>\n",
       "      <td>0</td>\n",
       "      <td>0</td>\n",
       "      <td>0</td>\n",
       "    </tr>\n",
       "    <tr>\n",
       "      <th>2</th>\n",
       "      <td>4262960000000.0</td>\n",
       "      <td>5642549</td>\n",
       "      <td>F</td>\n",
       "      <td>2016-04-29 16:19:04+00:00</td>\n",
       "      <td>2016-04-29 00:00:00+00:00</td>\n",
       "      <td>62</td>\n",
       "      <td>MATA DA PRAIA</td>\n",
       "      <td>0</td>\n",
       "      <td>0</td>\n",
       "      <td>0</td>\n",
       "      <td>0</td>\n",
       "      <td>0</td>\n",
       "      <td>0</td>\n",
       "      <td>0</td>\n",
       "      <td>0</td>\n",
       "    </tr>\n",
       "    <tr>\n",
       "      <th>3</th>\n",
       "      <td>867951000000.0</td>\n",
       "      <td>5642828</td>\n",
       "      <td>F</td>\n",
       "      <td>2016-04-29 17:29:31+00:00</td>\n",
       "      <td>2016-04-29 00:00:00+00:00</td>\n",
       "      <td>8</td>\n",
       "      <td>PONTAL DE CAMBURI</td>\n",
       "      <td>0</td>\n",
       "      <td>0</td>\n",
       "      <td>0</td>\n",
       "      <td>0</td>\n",
       "      <td>0</td>\n",
       "      <td>0</td>\n",
       "      <td>0</td>\n",
       "      <td>0</td>\n",
       "    </tr>\n",
       "    <tr>\n",
       "      <th>4</th>\n",
       "      <td>8841190000000.0</td>\n",
       "      <td>5642494</td>\n",
       "      <td>F</td>\n",
       "      <td>2016-04-29 16:07:23+00:00</td>\n",
       "      <td>2016-04-29 00:00:00+00:00</td>\n",
       "      <td>56</td>\n",
       "      <td>JARDIM DA PENHA</td>\n",
       "      <td>0</td>\n",
       "      <td>1</td>\n",
       "      <td>1</td>\n",
       "      <td>0</td>\n",
       "      <td>0</td>\n",
       "      <td>0</td>\n",
       "      <td>0</td>\n",
       "      <td>0</td>\n",
       "    </tr>\n",
       "    <tr>\n",
       "      <th>...</th>\n",
       "      <td>...</td>\n",
       "      <td>...</td>\n",
       "      <td>...</td>\n",
       "      <td>...</td>\n",
       "      <td>...</td>\n",
       "      <td>...</td>\n",
       "      <td>...</td>\n",
       "      <td>...</td>\n",
       "      <td>...</td>\n",
       "      <td>...</td>\n",
       "      <td>...</td>\n",
       "      <td>...</td>\n",
       "      <td>...</td>\n",
       "      <td>...</td>\n",
       "      <td>...</td>\n",
       "    </tr>\n",
       "    <tr>\n",
       "      <th>110522</th>\n",
       "      <td>2572130000000.0</td>\n",
       "      <td>5651768</td>\n",
       "      <td>F</td>\n",
       "      <td>2016-05-03 09:15:35+00:00</td>\n",
       "      <td>2016-06-07 00:00:00+00:00</td>\n",
       "      <td>56</td>\n",
       "      <td>MARIA ORTIZ</td>\n",
       "      <td>0</td>\n",
       "      <td>0</td>\n",
       "      <td>0</td>\n",
       "      <td>0</td>\n",
       "      <td>0</td>\n",
       "      <td>1</td>\n",
       "      <td>0</td>\n",
       "      <td>34</td>\n",
       "    </tr>\n",
       "    <tr>\n",
       "      <th>110523</th>\n",
       "      <td>3596270000000.0</td>\n",
       "      <td>5650093</td>\n",
       "      <td>F</td>\n",
       "      <td>2016-05-03 07:27:33+00:00</td>\n",
       "      <td>2016-06-07 00:00:00+00:00</td>\n",
       "      <td>51</td>\n",
       "      <td>MARIA ORTIZ</td>\n",
       "      <td>0</td>\n",
       "      <td>0</td>\n",
       "      <td>0</td>\n",
       "      <td>0</td>\n",
       "      <td>0</td>\n",
       "      <td>1</td>\n",
       "      <td>0</td>\n",
       "      <td>34</td>\n",
       "    </tr>\n",
       "    <tr>\n",
       "      <th>110524</th>\n",
       "      <td>15576600000000.0</td>\n",
       "      <td>5630692</td>\n",
       "      <td>F</td>\n",
       "      <td>2016-04-27 16:03:52+00:00</td>\n",
       "      <td>2016-06-07 00:00:00+00:00</td>\n",
       "      <td>21</td>\n",
       "      <td>MARIA ORTIZ</td>\n",
       "      <td>0</td>\n",
       "      <td>0</td>\n",
       "      <td>0</td>\n",
       "      <td>0</td>\n",
       "      <td>0</td>\n",
       "      <td>1</td>\n",
       "      <td>0</td>\n",
       "      <td>40</td>\n",
       "    </tr>\n",
       "    <tr>\n",
       "      <th>110525</th>\n",
       "      <td>92134900000000.0</td>\n",
       "      <td>5630323</td>\n",
       "      <td>F</td>\n",
       "      <td>2016-04-27 15:09:23+00:00</td>\n",
       "      <td>2016-06-07 00:00:00+00:00</td>\n",
       "      <td>38</td>\n",
       "      <td>MARIA ORTIZ</td>\n",
       "      <td>0</td>\n",
       "      <td>0</td>\n",
       "      <td>0</td>\n",
       "      <td>0</td>\n",
       "      <td>0</td>\n",
       "      <td>1</td>\n",
       "      <td>0</td>\n",
       "      <td>40</td>\n",
       "    </tr>\n",
       "    <tr>\n",
       "      <th>110526</th>\n",
       "      <td>377512000000000.0</td>\n",
       "      <td>5629448</td>\n",
       "      <td>F</td>\n",
       "      <td>2016-04-27 13:30:56+00:00</td>\n",
       "      <td>2016-06-07 00:00:00+00:00</td>\n",
       "      <td>54</td>\n",
       "      <td>MARIA ORTIZ</td>\n",
       "      <td>0</td>\n",
       "      <td>0</td>\n",
       "      <td>0</td>\n",
       "      <td>0</td>\n",
       "      <td>0</td>\n",
       "      <td>1</td>\n",
       "      <td>0</td>\n",
       "      <td>40</td>\n",
       "    </tr>\n",
       "  </tbody>\n",
       "</table>\n",
       "<p>110526 rows × 15 columns</p>\n",
       "</div>"
      ],
      "text/plain": [
       "                PatientId  AppointmentID Gender              ScheduledDay  \\\n",
       "0        29872500000000.0        5642903      F 2016-04-29 18:38:08+00:00   \n",
       "1       558998000000000.0        5642503      M 2016-04-29 16:08:27+00:00   \n",
       "2         4262960000000.0        5642549      F 2016-04-29 16:19:04+00:00   \n",
       "3          867951000000.0        5642828      F 2016-04-29 17:29:31+00:00   \n",
       "4         8841190000000.0        5642494      F 2016-04-29 16:07:23+00:00   \n",
       "...                   ...            ...    ...                       ...   \n",
       "110522    2572130000000.0        5651768      F 2016-05-03 09:15:35+00:00   \n",
       "110523    3596270000000.0        5650093      F 2016-05-03 07:27:33+00:00   \n",
       "110524   15576600000000.0        5630692      F 2016-04-27 16:03:52+00:00   \n",
       "110525   92134900000000.0        5630323      F 2016-04-27 15:09:23+00:00   \n",
       "110526  377512000000000.0        5629448      F 2016-04-27 13:30:56+00:00   \n",
       "\n",
       "                  AppointmentDay  Age      Neighbourhood  Scholarship  \\\n",
       "0      2016-04-29 00:00:00+00:00   62    JARDIM DA PENHA            0   \n",
       "1      2016-04-29 00:00:00+00:00   56    JARDIM DA PENHA            0   \n",
       "2      2016-04-29 00:00:00+00:00   62      MATA DA PRAIA            0   \n",
       "3      2016-04-29 00:00:00+00:00    8  PONTAL DE CAMBURI            0   \n",
       "4      2016-04-29 00:00:00+00:00   56    JARDIM DA PENHA            0   \n",
       "...                          ...  ...                ...          ...   \n",
       "110522 2016-06-07 00:00:00+00:00   56        MARIA ORTIZ            0   \n",
       "110523 2016-06-07 00:00:00+00:00   51        MARIA ORTIZ            0   \n",
       "110524 2016-06-07 00:00:00+00:00   21        MARIA ORTIZ            0   \n",
       "110525 2016-06-07 00:00:00+00:00   38        MARIA ORTIZ            0   \n",
       "110526 2016-06-07 00:00:00+00:00   54        MARIA ORTIZ            0   \n",
       "\n",
       "        Hipertension  Diabetes  Alcoholism  Handcap  SMS_received  No-show  \\\n",
       "0                  1         0           0        0             0        0   \n",
       "1                  0         0           0        0             0        0   \n",
       "2                  0         0           0        0             0        0   \n",
       "3                  0         0           0        0             0        0   \n",
       "4                  1         1           0        0             0        0   \n",
       "...              ...       ...         ...      ...           ...      ...   \n",
       "110522             0         0           0        0             1        0   \n",
       "110523             0         0           0        0             1        0   \n",
       "110524             0         0           0        0             1        0   \n",
       "110525             0         0           0        0             1        0   \n",
       "110526             0         0           0        0             1        0   \n",
       "\n",
       "        appointment_waiting_time  \n",
       "0                              0  \n",
       "1                              0  \n",
       "2                              0  \n",
       "3                              0  \n",
       "4                              0  \n",
       "...                          ...  \n",
       "110522                        34  \n",
       "110523                        34  \n",
       "110524                        40  \n",
       "110525                        40  \n",
       "110526                        40  \n",
       "\n",
       "[110526 rows x 15 columns]"
      ]
     },
     "metadata": {},
     "output_type": "display_data"
    }
   ],
   "source": [
    "#Replacing yes wtih 1 and no with 0 on No-show column\n",
    "df2=df.replace({'No-show':{'Yes':1,'No':0}})\n",
    "display(df2)"
   ]
  },
  {
   "cell_type": "code",
   "execution_count": 80,
   "id": "87f413d3-87da-4c39-b7b6-cfec5be5973f",
   "metadata": {
    "tags": []
   },
   "outputs": [
    {
     "data": {
      "image/png": "[encoded data removed]",
      "text/plain": [
       "<Figure size 648x432 with 1 Axes>"
      ]
     },
     "metadata": {},
     "output_type": "display_data"
    }
   ],
   "source": [
    "#Checking the average waiting times as agains no show\n",
    "sns.set_style(\"whitegrid\")\n",
    "g=sns.relplot(x='appointment_waiting_time',y='No-show',height=6,aspect=1.5,data=df2,kind='line')\n",
    "\n",
    "g.fig.suptitle(\"Averages of Waiting Time Vrs No-Show\")\n",
    "              \n",
    "plt.show()"
   ]
  },
  {
   "cell_type": "markdown",
   "id": "bd958736-e8e2-4814-8bf7-e554f48a7773",
   "metadata": {},
   "source": [
    "The above shows that no showing increases when the appointment waiting time becomes too much. It starts to decline after 150days of waiting time.\n",
    "Also, the no show is very low when appointment days is within the first 50 days. It could potentially mean they are sicknesses that need immediate attention. eg is 0days ."
   ]
  },
  {
   "cell_type": "code",
   "execution_count": 82,
   "id": "09747c17-3f7f-455a-a417-7906e018f18a",
   "metadata": {},
   "outputs": [
    {
     "data": {
      "text/html": [
       "<div>\n",
       "<style scoped>\n",
       "    .dataframe tbody tr th:only-of-type {\n",
       "        vertical-align: middle;\n",
       "    }\n",
       "\n",
       "    .dataframe tbody tr th {\n",
       "        vertical-align: top;\n",
       "    }\n",
       "\n",
       "    .dataframe thead th {\n",
       "        text-align: right;\n",
       "    }\n",
       "</style>\n",
       "<table border=\"1\" class=\"dataframe\">\n",
       "  <thead>\n",
       "    <tr style=\"text-align: right;\">\n",
       "      <th></th>\n",
       "      <th>Neighbourhood</th>\n",
       "      <th>Not_attended</th>\n",
       "      <th>attended</th>\n",
       "    </tr>\n",
       "  </thead>\n",
       "  <tbody>\n",
       "    <tr>\n",
       "      <th>0</th>\n",
       "      <td>AEROPORTO</td>\n",
       "      <td>7.0</td>\n",
       "      <td>1.0</td>\n",
       "    </tr>\n",
       "    <tr>\n",
       "      <th>1</th>\n",
       "      <td>ANDORINHAS</td>\n",
       "      <td>1741.0</td>\n",
       "      <td>521.0</td>\n",
       "    </tr>\n",
       "    <tr>\n",
       "      <th>2</th>\n",
       "      <td>ANTÔNIO HONÓRIO</td>\n",
       "      <td>221.0</td>\n",
       "      <td>50.0</td>\n",
       "    </tr>\n",
       "    <tr>\n",
       "      <th>3</th>\n",
       "      <td>ARIOVALDO FAVALESSA</td>\n",
       "      <td>220.0</td>\n",
       "      <td>62.0</td>\n",
       "    </tr>\n",
       "    <tr>\n",
       "      <th>4</th>\n",
       "      <td>BARRO VERMELHO</td>\n",
       "      <td>332.0</td>\n",
       "      <td>91.0</td>\n",
       "    </tr>\n",
       "    <tr>\n",
       "      <th>...</th>\n",
       "      <td>...</td>\n",
       "      <td>...</td>\n",
       "      <td>...</td>\n",
       "    </tr>\n",
       "    <tr>\n",
       "      <th>76</th>\n",
       "      <td>SÃO JOSÉ</td>\n",
       "      <td>1549.0</td>\n",
       "      <td>428.0</td>\n",
       "    </tr>\n",
       "    <tr>\n",
       "      <th>77</th>\n",
       "      <td>SÃO PEDRO</td>\n",
       "      <td>1933.0</td>\n",
       "      <td>515.0</td>\n",
       "    </tr>\n",
       "    <tr>\n",
       "      <th>78</th>\n",
       "      <td>TABUAZEIRO</td>\n",
       "      <td>2559.0</td>\n",
       "      <td>573.0</td>\n",
       "    </tr>\n",
       "    <tr>\n",
       "      <th>79</th>\n",
       "      <td>UNIVERSITÁRIO</td>\n",
       "      <td>120.0</td>\n",
       "      <td>32.0</td>\n",
       "    </tr>\n",
       "    <tr>\n",
       "      <th>80</th>\n",
       "      <td>VILA RUBIM</td>\n",
       "      <td>710.0</td>\n",
       "      <td>141.0</td>\n",
       "    </tr>\n",
       "  </tbody>\n",
       "</table>\n",
       "<p>81 rows × 3 columns</p>\n",
       "</div>"
      ],
      "text/plain": [
       "          Neighbourhood  Not_attended  attended\n",
       "0             AEROPORTO           7.0       1.0\n",
       "1            ANDORINHAS        1741.0     521.0\n",
       "2       ANTÔNIO HONÓRIO         221.0      50.0\n",
       "3   ARIOVALDO FAVALESSA         220.0      62.0\n",
       "4        BARRO VERMELHO         332.0      91.0\n",
       "..                  ...           ...       ...\n",
       "76             SÃO JOSÉ        1549.0     428.0\n",
       "77            SÃO PEDRO        1933.0     515.0\n",
       "78           TABUAZEIRO        2559.0     573.0\n",
       "79        UNIVERSITÁRIO         120.0      32.0\n",
       "80           VILA RUBIM         710.0     141.0\n",
       "\n",
       "[81 rows x 3 columns]"
      ]
     },
     "execution_count": 82,
     "metadata": {},
     "output_type": "execute_result"
    }
   ],
   "source": [
    "df4=df2.groupby([\"Neighbourhood\",'No-show'])['No-show'].count().unstack().fillna(0).reset_index()\n",
    "df4.columns=['Neighbourhood','Not_attended','attended']\n",
    "df4.set_index('Neighbourhood')\n",
    "df4"
   ]
  },
  {
   "cell_type": "code",
   "execution_count": 83,
   "id": "e4e5b78c-2aad-4a23-a221-1a4d132f5ec1",
   "metadata": {},
   "outputs": [
    {
     "data": {
      "application/vnd.plotly.v1+json": {
       "config": {
        "plotlyServerURL": "https://plot.ly"
       },
       "data": [
        {
         "marker": {
          "color": "dodgerblue"
         },
         "name": "not-attended",
         "type": "bar",
         "x": [
          "AEROPORTO",
          "ANDORINHAS",
          "ANTÔNIO HONÓRIO",
          "ARIOVALDO FAVALESSA",
          "BARRO VERMELHO",
          "BELA VISTA",
          "BENTO FERREIRA",
          "BOA VISTA",
          "BONFIM",
          "CARATOÍRA",
          "CENTRO",
          "COMDUSA",
          "CONQUISTA",
          "CONSOLAÇÃO",
          "CRUZAMENTO",
          "DA PENHA",
          "DE LOURDES",
          "DO CABRAL",
          "DO MOSCOSO",
          "DO QUADRO",
          "ENSEADA DO SUÁ",
          "ESTRELINHA",
          "FONTE GRANDE",
          "FORTE SÃO JOÃO",
          "FRADINHOS",
          "GOIABEIRAS",
          "GRANDE VITÓRIA",
          "GURIGICA",
          "HORTO",
          "ILHA DAS CAIEIRAS",
          "ILHA DE SANTA MARIA",
          "ILHA DO BOI",
          "ILHA DO FRADE",
          "ILHA DO PRÍNCIPE",
          "ILHAS OCEÂNICAS DE TRINDADE",
          "INHANGUETÁ",
          "ITARARÉ",
          "JABOUR",
          "JARDIM CAMBURI",
          "JARDIM DA PENHA",
          "JESUS DE NAZARETH",
          "JOANA D´ARC",
          "JUCUTUQUARA",
          "MARIA ORTIZ",
          "MARUÍPE",
          "MATA DA PRAIA",
          "MONTE BELO",
          "MORADA DE CAMBURI",
          "MÁRIO CYPRESTE",
          "NAZARETH",
          "NOVA PALESTINA",
          "PARQUE INDUSTRIAL",
          "PARQUE MOSCOSO",
          "PIEDADE",
          "PONTAL DE CAMBURI",
          "PRAIA DO CANTO",
          "PRAIA DO SUÁ",
          "REDENÇÃO",
          "REPÚBLICA",
          "RESISTÊNCIA",
          "ROMÃO",
          "SANTA CECÍLIA",
          "SANTA CLARA",
          "SANTA HELENA",
          "SANTA LUÍZA",
          "SANTA LÚCIA",
          "SANTA MARTHA",
          "SANTA TEREZA",
          "SANTO ANDRÉ",
          "SANTO ANTÔNIO",
          "SANTOS DUMONT",
          "SANTOS REIS",
          "SEGURANÇA DO LAR",
          "SOLON BORGES",
          "SÃO BENEDITO",
          "SÃO CRISTÓVÃO",
          "SÃO JOSÉ",
          "SÃO PEDRO",
          "TABUAZEIRO",
          "UNIVERSITÁRIO",
          "VILA RUBIM"
         ],
         "y": [
          7,
          1741,
          221,
          220,
          332,
          1523,
          665,
          254,
          2223,
          1974,
          2631,
          254,
          689,
          1139,
          1094,
          1788,
          258,
          472,
          321,
          709,
          183,
          432,
          533,
          1543,
          210,
          563,
          854,
          1562,
          133,
          836,
          1524,
          32,
          8,
          1734,
          0,
          855,
          2591,
          2058,
          6252,
          3246,
          2157,
          1169,
          561,
          4586,
          1478,
          534,
          658,
          80,
          317,
          106,
          1862,
          1,
          623,
          364,
          57,
          845,
          994,
          1278,
          692,
          3525,
          1740,
          325,
          372,
          141,
          351,
          352,
          2635,
          1060,
          2063,
          2262,
          907,
          435,
          117,
          400,
          1152,
          1473,
          1549,
          1933,
          2559,
          120,
          710
         ]
        },
        {
         "marker": {
          "color": "lightsalmon"
         },
         "name": "attended",
         "type": "bar",
         "x": [
          "AEROPORTO",
          "ANDORINHAS",
          "ANTÔNIO HONÓRIO",
          "ARIOVALDO FAVALESSA",
          "BARRO VERMELHO",
          "BELA VISTA",
          "BENTO FERREIRA",
          "BOA VISTA",
          "BONFIM",
          "CARATOÍRA",
          "CENTRO",
          "COMDUSA",
          "CONQUISTA",
          "CONSOLAÇÃO",
          "CRUZAMENTO",
          "DA PENHA",
          "DE LOURDES",
          "DO CABRAL",
          "DO MOSCOSO",
          "DO QUADRO",
          "ENSEADA DO SUÁ",
          "ESTRELINHA",
          "FONTE GRANDE",
          "FORTE SÃO JOÃO",
          "FRADINHOS",
          "GOIABEIRAS",
          "GRANDE VITÓRIA",
          "GURIGICA",
          "HORTO",
          "ILHA DAS CAIEIRAS",
          "ILHA DE SANTA MARIA",
          "ILHA DO BOI",
          "ILHA DO FRADE",
          "ILHA DO PRÍNCIPE",
          "ILHAS OCEÂNICAS DE TRINDADE",
          "INHANGUETÁ",
          "ITARARÉ",
          "JABOUR",
          "JARDIM CAMBURI",
          "JARDIM DA PENHA",
          "JESUS DE NAZARETH",
          "JOANA D´ARC",
          "JUCUTUQUARA",
          "MARIA ORTIZ",
          "MARUÍPE",
          "MATA DA PRAIA",
          "MONTE BELO",
          "MORADA DE CAMBURI",
          "MÁRIO CYPRESTE",
          "NAZARETH",
          "NOVA PALESTINA",
          "PARQUE INDUSTRIAL",
          "PARQUE MOSCOSO",
          "PIEDADE",
          "PONTAL DE CAMBURI",
          "PRAIA DO CANTO",
          "PRAIA DO SUÁ",
          "REDENÇÃO",
          "REPÚBLICA",
          "RESISTÊNCIA",
          "ROMÃO",
          "SANTA CECÍLIA",
          "SANTA CLARA",
          "SANTA HELENA",
          "SANTA LUÍZA",
          "SANTA LÚCIA",
          "SANTA MARTHA",
          "SANTA TEREZA",
          "SANTO ANDRÉ",
          "SANTO ANTÔNIO",
          "SANTOS DUMONT",
          "SANTOS REIS",
          "SEGURANÇA DO LAR",
          "SOLON BORGES",
          "SÃO BENEDITO",
          "SÃO CRISTÓVÃO",
          "SÃO JOSÉ",
          "SÃO PEDRO",
          "TABUAZEIRO",
          "UNIVERSITÁRIO",
          "VILA RUBIM"
         ],
         "y": [
          1,
          521,
          50,
          62,
          91,
          384,
          193,
          58,
          550,
          591,
          703,
          56,
          160,
          237,
          304,
          429,
          47,
          88,
          92,
          140,
          52,
          106,
          149,
          346,
          48,
          137,
          217,
          456,
          42,
          235,
          361,
          3,
          2,
          532,
          2,
          202,
          923,
          451,
          1465,
          631,
          696,
          258,
          133,
          1219,
          424,
          110,
          166,
          16,
          54,
          29,
          402,
          0,
          179,
          88,
          12,
          190,
          294,
          275,
          143,
          906,
          474,
          123,
          134,
          37,
          77,
          86,
          496,
          272,
          508,
          484,
          369,
          112,
          28,
          69,
          287,
          363,
          428,
          515,
          573,
          32,
          141
         ]
        }
       ],
       "layout": {
        "autosize": true,
        "barmode": "stack",
        "template": {
         "data": {
          "bar": [
           {
            "error_x": {
             "color": "#2a3f5f"
            },
            "error_y": {
             "color": "#2a3f5f"
            },
            "marker": {
             "line": {
              "color": "#E5ECF6",
              "width": 0.5
             },
             "pattern": {
              "fillmode": "overlay",
              "size": 10,
              "solidity": 0.2
             }
            },
            "type": "bar"
           }
          ],
          "barpolar": [
           {
            "marker": {
             "line": {
              "color": "#E5ECF6",
              "width": 0.5
             },
             "pattern": {
              "fillmode": "overlay",
              "size": 10,
              "solidity": 0.2
             }
            },
            "type": "barpolar"
           }
          ],
          "carpet": [
           {
            "aaxis": {
             "endlinecolor": "#2a3f5f",
             "gridcolor": "white",
             "linecolor": "white",
             "minorgridcolor": "white",
             "startlinecolor": "#2a3f5f"
            },
            "baxis": {
             "endlinecolor": "#2a3f5f",
             "gridcolor": "white",
             "linecolor": "white",
             "minorgridcolor": "white",
             "startlinecolor": "#2a3f5f"
            },
            "type": "carpet"
           }
          ],
          "choropleth": [
           {
            "colorbar": {
             "outlinewidth": 0,
             "ticks": ""
            },
            "type": "choropleth"
           }
          ],
          "contour": [
           {
            "colorbar": {
             "outlinewidth": 0,
             "ticks": ""
            },
            "colorscale": [
             [
              0,
              "#0d0887"
             ],
             [
              0.1111111111111111,
              "#46039f"
             ],
             [
              0.2222222222222222,
              "#7201a8"
             ],
             [
              0.3333333333333333,
              "#9c179e"
             ],
             [
              0.4444444444444444,
              "#bd3786"
             ],
             [
              0.5555555555555556,
              "#d8576b"
             ],
             [
              0.6666666666666666,
              "#ed7953"
             ],
             [
              0.7777777777777778,
              "#fb9f3a"
             ],
             [
              0.8888888888888888,
              "#fdca26"
             ],
             [
              1,
              "#f0f921"
             ]
            ],
            "type": "contour"
           }
          ],
          "contourcarpet": [
           {
            "colorbar": {
             "outlinewidth": 0,
             "ticks": ""
            },
            "type": "contourcarpet"
           }
          ],
          "heatmap": [
           {
            "colorbar": {
             "outlinewidth": 0,
             "ticks": ""
            },
            "colorscale": [
             [
              0,
              "#0d0887"
             ],
             [
              0.1111111111111111,
              "#46039f"
             ],
             [
              0.2222222222222222,
              "#7201a8"
             ],
             [
              0.3333333333333333,
              "#9c179e"
             ],
             [
              0.4444444444444444,
              "#bd3786"
             ],
             [
              0.5555555555555556,
              "#d8576b"
             ],
             [
              0.6666666666666666,
              "#ed7953"
             ],
             [
              0.7777777777777778,
              "#fb9f3a"
             ],
             [
              0.8888888888888888,
              "#fdca26"
             ],
             [
              1,
              "#f0f921"
             ]
            ],
            "type": "heatmap"
           }
          ],
          "heatmapgl": [
           {
            "colorbar": {
             "outlinewidth": 0,
             "ticks": ""
            },
            "colorscale": [
             [
              0,
              "#0d0887"
             ],
             [
              0.1111111111111111,
              "#46039f"
             ],
             [
              0.2222222222222222,
              "#7201a8"
             ],
             [
              0.3333333333333333,
              "#9c179e"
             ],
             [
              0.4444444444444444,
              "#bd3786"
             ],
             [
              0.5555555555555556,
              "#d8576b"
             ],
             [
              0.6666666666666666,
              "#ed7953"
             ],
             [
              0.7777777777777778,
              "#fb9f3a"
             ],
             [
              0.8888888888888888,
              "#fdca26"
             ],
             [
              1,
              "#f0f921"
             ]
            ],
            "type": "heatmapgl"
           }
          ],
          "histogram": [
           {
            "marker": {
             "pattern": {
              "fillmode": "overlay",
              "size": 10,
              "solidity": 0.2
             }
            },
            "type": "histogram"
           }
          ],
          "histogram2d": [
           {
            "colorbar": {
             "outlinewidth": 0,
             "ticks": ""
            },
            "colorscale": [
             [
              0,
              "#0d0887"
             ],
             [
              0.1111111111111111,
              "#46039f"
             ],
             [
              0.2222222222222222,
              "#7201a8"
             ],
             [
              0.3333333333333333,
              "#9c179e"
             ],
             [
              0.4444444444444444,
              "#bd3786"
             ],
             [
              0.5555555555555556,
              "#d8576b"
             ],
             [
              0.6666666666666666,
              "#ed7953"
             ],
             [
              0.7777777777777778,
              "#fb9f3a"
             ],
             [
              0.8888888888888888,
              "#fdca26"
             ],
             [
              1,
              "#f0f921"
             ]
            ],
            "type": "histogram2d"
           }
          ],
          "histogram2dcontour": [
           {
            "colorbar": {
             "outlinewidth": 0,
             "ticks": ""
            },
            "colorscale": [
             [
              0,
              "#0d0887"
             ],
             [
              0.1111111111111111,
              "#46039f"
             ],
             [
              0.2222222222222222,
              "#7201a8"
             ],
             [
              0.3333333333333333,
              "#9c179e"
             ],
             [
              0.4444444444444444,
              "#bd3786"
             ],
             [
              0.5555555555555556,
              "#d8576b"
             ],
             [
              0.6666666666666666,
              "#ed7953"
             ],
             [
              0.7777777777777778,
              "#fb9f3a"
             ],
             [
              0.8888888888888888,
              "#fdca26"
             ],
             [
              1,
              "#f0f921"
             ]
            ],
            "type": "histogram2dcontour"
           }
          ],
          "mesh3d": [
           {
            "colorbar": {
             "outlinewidth": 0,
             "ticks": ""
            },
            "type": "mesh3d"
           }
          ],
          "parcoords": [
           {
            "line": {
             "colorbar": {
              "outlinewidth": 0,
              "ticks": ""
             }
            },
            "type": "parcoords"
           }
          ],
          "pie": [
           {
            "automargin": true,
            "type": "pie"
           }
          ],
          "scatter": [
           {
            "marker": {
             "colorbar": {
              "outlinewidth": 0,
              "ticks": ""
             }
            },
            "type": "scatter"
           }
          ],
          "scatter3d": [
           {
            "line": {
             "colorbar": {
              "outlinewidth": 0,
              "ticks": ""
             }
            },
            "marker": {
             "colorbar": {
              "outlinewidth": 0,
              "ticks": ""
             }
            },
            "type": "scatter3d"
           }
          ],
          "scattercarpet": [
           {
            "marker": {
             "colorbar": {
              "outlinewidth": 0,
              "ticks": ""
             }
            },
            "type": "scattercarpet"
           }
          ],
          "scattergeo": [
           {
            "marker": {
             "colorbar": {
              "outlinewidth": 0,
              "ticks": ""
             }
            },
            "type": "scattergeo"
           }
          ],
          "scattergl": [
           {
            "marker": {
             "colorbar": {
              "outlinewidth": 0,
              "ticks": ""
             }
            },
            "type": "scattergl"
           }
          ],
          "scattermapbox": [
           {
            "marker": {
             "colorbar": {
              "outlinewidth": 0,
              "ticks": ""
             }
            },
            "type": "scattermapbox"
           }
          ],
          "scatterpolar": [
           {
            "marker": {
             "colorbar": {
              "outlinewidth": 0,
              "ticks": ""
             }
            },
            "type": "scatterpolar"
           }
          ],
          "scatterpolargl": [
           {
            "marker": {
             "colorbar": {
              "outlinewidth": 0,
              "ticks": ""
             }
            },
            "type": "scatterpolargl"
           }
          ],
          "scatterternary": [
           {
            "marker": {
             "colorbar": {
              "outlinewidth": 0,
              "ticks": ""
             }
            },
            "type": "scatterternary"
           }
          ],
          "surface": [
           {
            "colorbar": {
             "outlinewidth": 0,
             "ticks": ""
            },
            "colorscale": [
             [
              0,
              "#0d0887"
             ],
             [
              0.1111111111111111,
              "#46039f"
             ],
             [
              0.2222222222222222,
              "#7201a8"
             ],
             [
              0.3333333333333333,
              "#9c179e"
             ],
             [
              0.4444444444444444,
              "#bd3786"
             ],
             [
              0.5555555555555556,
              "#d8576b"
             ],
             [
              0.6666666666666666,
              "#ed7953"
             ],
             [
              0.7777777777777778,
              "#fb9f3a"
             ],
             [
              0.8888888888888888,
              "#fdca26"
             ],
             [
              1,
              "#f0f921"
             ]
            ],
            "type": "surface"
           }
          ],
          "table": [
           {
            "cells": {
             "fill": {
              "color": "#EBF0F8"
             },
             "line": {
              "color": "white"
             }
            },
            "header": {
             "fill": {
              "color": "#C8D4E3"
             },
             "line": {
              "color": "white"
             }
            },
            "type": "table"
           }
          ]
         },
         "layout": {
          "annotationdefaults": {
           "arrowcolor": "#2a3f5f",
           "arrowhead": 0,
           "arrowwidth": 1
          },
          "autotypenumbers": "strict",
          "coloraxis": {
           "colorbar": {
            "outlinewidth": 0,
            "ticks": ""
           }
          },
          "colorscale": {
           "diverging": [
            [
             0,
             "#8e0152"
            ],
            [
             0.1,
             "#c51b7d"
            ],
            [
             0.2,
             "#de77ae"
            ],
            [
             0.3,
             "#f1b6da"
            ],
            [
             0.4,
             "#fde0ef"
            ],
            [
             0.5,
             "#f7f7f7"
            ],
            [
             0.6,
             "#e6f5d0"
            ],
            [
             0.7,
             "#b8e186"
            ],
            [
             0.8,
             "#7fbc41"
            ],
            [
             0.9,
             "#4d9221"
            ],
            [
             1,
             "#276419"
            ]
           ],
           "sequential": [
            [
             0,
             "#0d0887"
            ],
            [
             0.1111111111111111,
             "#46039f"
            ],
            [
             0.2222222222222222,
             "#7201a8"
            ],
            [
             0.3333333333333333,
             "#9c179e"
            ],
            [
             0.4444444444444444,
             "#bd3786"
            ],
            [
             0.5555555555555556,
             "#d8576b"
            ],
            [
             0.6666666666666666,
             "#ed7953"
            ],
            [
             0.7777777777777778,
             "#fb9f3a"
            ],
            [
             0.8888888888888888,
             "#fdca26"
            ],
            [
             1,
             "#f0f921"
            ]
           ],
           "sequentialminus": [
            [
             0,
             "#0d0887"
            ],
            [
             0.1111111111111111,
             "#46039f"
            ],
            [
             0.2222222222222222,
             "#7201a8"
            ],
            [
             0.3333333333333333,
             "#9c179e"
            ],
            [
             0.4444444444444444,
             "#bd3786"
            ],
            [
             0.5555555555555556,
             "#d8576b"
            ],
            [
             0.6666666666666666,
             "#ed7953"
            ],
            [
             0.7777777777777778,
             "#fb9f3a"
            ],
            [
             0.8888888888888888,
             "#fdca26"
            ],
            [
             1,
             "#f0f921"
            ]
           ]
          },
          "colorway": [
           "#636efa",
           "#EF553B",
           "#00cc96",
           "#ab63fa",
           "#FFA15A",
           "#19d3f3",
           "#FF6692",
           "#B6E880",
           "#FF97FF",
           "#FECB52"
          ],
          "font": {
           "color": "#2a3f5f"
          },
          "geo": {
           "bgcolor": "white",
           "lakecolor": "white",
           "landcolor": "#E5ECF6",
           "showlakes": true,
           "showland": true,
           "subunitcolor": "white"
          },
          "hoverlabel": {
           "align": "left"
          },
          "hovermode": "closest",
          "mapbox": {
           "style": "light"
          },
          "paper_bgcolor": "white",
          "plot_bgcolor": "#E5ECF6",
          "polar": {
           "angularaxis": {
            "gridcolor": "white",
            "linecolor": "white",
            "ticks": ""
           },
           "bgcolor": "#E5ECF6",
           "radialaxis": {
            "gridcolor": "white",
            "linecolor": "white",
            "ticks": ""
           }
          },
          "scene": {
           "xaxis": {
            "backgroundcolor": "#E5ECF6",
            "gridcolor": "white",
            "gridwidth": 2,
            "linecolor": "white",
            "showbackground": true,
            "ticks": "",
            "zerolinecolor": "white"
           },
           "yaxis": {
            "backgroundcolor": "#E5ECF6",
            "gridcolor": "white",
            "gridwidth": 2,
            "linecolor": "white",
            "showbackground": true,
            "ticks": "",
            "zerolinecolor": "white"
           },
           "zaxis": {
            "backgroundcolor": "#E5ECF6",
            "gridcolor": "white",
            "gridwidth": 2,
            "linecolor": "white",
            "showbackground": true,
            "ticks": "",
            "zerolinecolor": "white"
           }
          },
          "shapedefaults": {
           "line": {
            "color": "#2a3f5f"
           }
          },
          "ternary": {
           "aaxis": {
            "gridcolor": "white",
            "linecolor": "white",
            "ticks": ""
           },
           "baxis": {
            "gridcolor": "white",
            "linecolor": "white",
            "ticks": ""
           },
           "bgcolor": "#E5ECF6",
           "caxis": {
            "gridcolor": "white",
            "linecolor": "white",
            "ticks": ""
           }
          },
          "title": {
           "x": 0.05
          },
          "xaxis": {
           "automargin": true,
           "gridcolor": "white",
           "linecolor": "white",
           "ticks": "",
           "title": {
            "standoff": 15
           },
           "zerolinecolor": "white",
           "zerolinewidth": 2
          },
          "yaxis": {
           "automargin": true,
           "gridcolor": "white",
           "linecolor": "white",
           "ticks": "",
           "title": {
            "standoff": 15
           },
           "zerolinecolor": "white",
           "zerolinewidth": 2
          }
         }
        },
        "xaxis": {
         "autorange": true,
         "categoryorder": "total descending",
         "range": [
          -0.5,
          80.5
         ],
         "tickangle": -45,
         "title": {
          "text": "Neighbourhood"
         },
         "type": "category"
        },
        "yaxis": {
         "autorange": true,
         "range": [
          0,
          8123.157894736842
         ],
         "title": {
          "text": "Total Count"
         },
         "type": "linear"
        }
       }
      },
      "image/png": "[encoded data removed]",
      "text/html": [
       "<div>                            <div id=\"8e293705-79a4-4275-8969-4a06be9bf860\" class=\"plotly-graph-div\" style=\"height:525px; width:100%;\"></div>            <script type=\"text/javascript\">                require([\"plotly\"], function(Plotly) {                    window.PLOTLYENV=window.PLOTLYENV || {};                                    if (document.getElementById(\"8e293705-79a4-4275-8969-4a06be9bf860\")) {                    Plotly.newPlot(                        \"8e293705-79a4-4275-8969-4a06be9bf860\",                        [{\"marker\":{\"color\":\"dodgerblue\"},\"name\":\"not-attended\",\"x\":[\"AEROPORTO\",\"ANDORINHAS\",\"ANT\\u00d4NIO HON\\u00d3RIO\",\"ARIOVALDO FAVALESSA\",\"BARRO VERMELHO\",\"BELA VISTA\",\"BENTO FERREIRA\",\"BOA VISTA\",\"BONFIM\",\"CARATO\\u00cdRA\",\"CENTRO\",\"COMDUSA\",\"CONQUISTA\",\"CONSOLA\\u00c7\\u00c3O\",\"CRUZAMENTO\",\"DA PENHA\",\"DE LOURDES\",\"DO CABRAL\",\"DO MOSCOSO\",\"DO QUADRO\",\"ENSEADA DO SU\\u00c1\",\"ESTRELINHA\",\"FONTE GRANDE\",\"FORTE S\\u00c3O JO\\u00c3O\",\"FRADINHOS\",\"GOIABEIRAS\",\"GRANDE VIT\\u00d3RIA\",\"GURIGICA\",\"HORTO\",\"ILHA DAS CAIEIRAS\",\"ILHA DE SANTA MARIA\",\"ILHA DO BOI\",\"ILHA DO FRADE\",\"ILHA DO PR\\u00cdNCIPE\",\"ILHAS OCE\\u00c2NICAS DE TRINDADE\",\"INHANGUET\\u00c1\",\"ITARAR\\u00c9\",\"JABOUR\",\"JARDIM CAMBURI\",\"JARDIM DA PENHA\",\"JESUS DE NAZARETH\",\"JOANA D\\u00b4ARC\",\"JUCUTUQUARA\",\"MARIA ORTIZ\",\"MARU\\u00cdPE\",\"MATA DA PRAIA\",\"MONTE BELO\",\"MORADA DE CAMBURI\",\"M\\u00c1RIO CYPRESTE\",\"NAZARETH\",\"NOVA PALESTINA\",\"PARQUE INDUSTRIAL\",\"PARQUE MOSCOSO\",\"PIEDADE\",\"PONTAL DE CAMBURI\",\"PRAIA DO CANTO\",\"PRAIA DO SU\\u00c1\",\"REDEN\\u00c7\\u00c3O\",\"REP\\u00daBLICA\",\"RESIST\\u00caNCIA\",\"ROM\\u00c3O\",\"SANTA CEC\\u00cdLIA\",\"SANTA CLARA\",\"SANTA HELENA\",\"SANTA LU\\u00cdZA\",\"SANTA L\\u00daCIA\",\"SANTA MARTHA\",\"SANTA TEREZA\",\"SANTO ANDR\\u00c9\",\"SANTO ANT\\u00d4NIO\",\"SANTOS DUMONT\",\"SANTOS REIS\",\"SEGURAN\\u00c7A DO LAR\",\"SOLON BORGES\",\"S\\u00c3O BENEDITO\",\"S\\u00c3O CRIST\\u00d3V\\u00c3O\",\"S\\u00c3O JOS\\u00c9\",\"S\\u00c3O PEDRO\",\"TABUAZEIRO\",\"UNIVERSIT\\u00c1RIO\",\"VILA RUBIM\"],\"y\":[7.0,1741.0,221.0,220.0,332.0,1523.0,665.0,254.0,2223.0,1974.0,2631.0,254.0,689.0,1139.0,1094.0,1788.0,258.0,472.0,321.0,709.0,183.0,432.0,533.0,1543.0,210.0,563.0,854.0,1562.0,133.0,836.0,1524.0,32.0,8.0,1734.0,0.0,855.0,2591.0,2058.0,6252.0,3246.0,2157.0,1169.0,561.0,4586.0,1478.0,534.0,658.0,80.0,317.0,106.0,1862.0,1.0,623.0,364.0,57.0,845.0,994.0,1278.0,692.0,3525.0,1740.0,325.0,372.0,141.0,351.0,352.0,2635.0,1060.0,2063.0,2262.0,907.0,435.0,117.0,400.0,1152.0,1473.0,1549.0,1933.0,2559.0,120.0,710.0],\"type\":\"bar\"},{\"marker\":{\"color\":\"lightsalmon\"},\"name\":\"attended\",\"x\":[\"AEROPORTO\",\"ANDORINHAS\",\"ANT\\u00d4NIO HON\\u00d3RIO\",\"ARIOVALDO FAVALESSA\",\"BARRO VERMELHO\",\"BELA VISTA\",\"BENTO FERREIRA\",\"BOA VISTA\",\"BONFIM\",\"CARATO\\u00cdRA\",\"CENTRO\",\"COMDUSA\",\"CONQUISTA\",\"CONSOLA\\u00c7\\u00c3O\",\"CRUZAMENTO\",\"DA PENHA\",\"DE LOURDES\",\"DO CABRAL\",\"DO MOSCOSO\",\"DO QUADRO\",\"ENSEADA DO SU\\u00c1\",\"ESTRELINHA\",\"FONTE GRANDE\",\"FORTE S\\u00c3O JO\\u00c3O\",\"FRADINHOS\",\"GOIABEIRAS\",\"GRANDE VIT\\u00d3RIA\",\"GURIGICA\",\"HORTO\",\"ILHA DAS CAIEIRAS\",\"ILHA DE SANTA MARIA\",\"ILHA DO BOI\",\"ILHA DO FRADE\",\"ILHA DO PR\\u00cdNCIPE\",\"ILHAS OCE\\u00c2NICAS DE TRINDADE\",\"INHANGUET\\u00c1\",\"ITARAR\\u00c9\",\"JABOUR\",\"JARDIM CAMBURI\",\"JARDIM DA PENHA\",\"JESUS DE NAZARETH\",\"JOANA D\\u00b4ARC\",\"JUCUTUQUARA\",\"MARIA ORTIZ\",\"MARU\\u00cdPE\",\"MATA DA PRAIA\",\"MONTE BELO\",\"MORADA DE CAMBURI\",\"M\\u00c1RIO CYPRESTE\",\"NAZARETH\",\"NOVA PALESTINA\",\"PARQUE INDUSTRIAL\",\"PARQUE MOSCOSO\",\"PIEDADE\",\"PONTAL DE CAMBURI\",\"PRAIA DO CANTO\",\"PRAIA DO SU\\u00c1\",\"REDEN\\u00c7\\u00c3O\",\"REP\\u00daBLICA\",\"RESIST\\u00caNCIA\",\"ROM\\u00c3O\",\"SANTA CEC\\u00cdLIA\",\"SANTA CLARA\",\"SANTA HELENA\",\"SANTA LU\\u00cdZA\",\"SANTA L\\u00daCIA\",\"SANTA MARTHA\",\"SANTA TEREZA\",\"SANTO ANDR\\u00c9\",\"SANTO ANT\\u00d4NIO\",\"SANTOS DUMONT\",\"SANTOS REIS\",\"SEGURAN\\u00c7A DO LAR\",\"SOLON BORGES\",\"S\\u00c3O BENEDITO\",\"S\\u00c3O CRIST\\u00d3V\\u00c3O\",\"S\\u00c3O JOS\\u00c9\",\"S\\u00c3O PEDRO\",\"TABUAZEIRO\",\"UNIVERSIT\\u00c1RIO\",\"VILA RUBIM\"],\"y\":[1.0,521.0,50.0,62.0,91.0,384.0,193.0,58.0,550.0,591.0,703.0,56.0,160.0,237.0,304.0,429.0,47.0,88.0,92.0,140.0,52.0,106.0,149.0,346.0,48.0,137.0,217.0,456.0,42.0,235.0,361.0,3.0,2.0,532.0,2.0,202.0,923.0,451.0,1465.0,631.0,696.0,258.0,133.0,1219.0,424.0,110.0,166.0,16.0,54.0,29.0,402.0,0.0,179.0,88.0,12.0,190.0,294.0,275.0,143.0,906.0,474.0,123.0,134.0,37.0,77.0,86.0,496.0,272.0,508.0,484.0,369.0,112.0,28.0,69.0,287.0,363.0,428.0,515.0,573.0,32.0,141.0],\"type\":\"bar\"}],                        {\"template\":{\"data\":{\"bar\":[{\"error_x\":{\"color\":\"#2a3f5f\"},\"error_y\":{\"color\":\"#2a3f5f\"},\"marker\":{\"line\":{\"color\":\"#E5ECF6\",\"width\":0.5},\"pattern\":{\"fillmode\":\"overlay\",\"size\":10,\"solidity\":0.2}},\"type\":\"bar\"}],\"barpolar\":[{\"marker\":{\"line\":{\"color\":\"#E5ECF6\",\"width\":0.5},\"pattern\":{\"fillmode\":\"overlay\",\"size\":10,\"solidity\":0.2}},\"type\":\"barpolar\"}],\"carpet\":[{\"aaxis\":{\"endlinecolor\":\"#2a3f5f\",\"gridcolor\":\"white\",\"linecolor\":\"white\",\"minorgridcolor\":\"white\",\"startlinecolor\":\"#2a3f5f\"},\"baxis\":{\"endlinecolor\":\"#2a3f5f\",\"gridcolor\":\"white\",\"linecolor\":\"white\",\"minorgridcolor\":\"white\",\"startlinecolor\":\"#2a3f5f\"},\"type\":\"carpet\"}],\"choropleth\":[{\"colorbar\":{\"outlinewidth\":0,\"ticks\":\"\"},\"type\":\"choropleth\"}],\"contour\":[{\"colorbar\":{\"outlinewidth\":0,\"ticks\":\"\"},\"colorscale\":[[0.0,\"#0d0887\"],[0.1111111111111111,\"#46039f\"],[0.2222222222222222,\"#7201a8\"],[0.3333333333333333,\"#9c179e\"],[0.4444444444444444,\"#bd3786\"],[0.5555555555555556,\"#d8576b\"],[0.6666666666666666,\"#ed7953\"],[0.7777777777777778,\"#fb9f3a\"],[0.8888888888888888,\"#fdca26\"],[1.0,\"#f0f921\"]],\"type\":\"contour\"}],\"contourcarpet\":[{\"colorbar\":{\"outlinewidth\":0,\"ticks\":\"\"},\"type\":\"contourcarpet\"}],\"heatmap\":[{\"colorbar\":{\"outlinewidth\":0,\"ticks\":\"\"},\"colorscale\":[[0.0,\"#0d0887\"],[0.1111111111111111,\"#46039f\"],[0.2222222222222222,\"#7201a8\"],[0.3333333333333333,\"#9c179e\"],[0.4444444444444444,\"#bd3786\"],[0.5555555555555556,\"#d8576b\"],[0.6666666666666666,\"#ed7953\"],[0.7777777777777778,\"#fb9f3a\"],[0.8888888888888888,\"#fdca26\"],[1.0,\"#f0f921\"]],\"type\":\"heatmap\"}],\"heatmapgl\":[{\"colorbar\":{\"outlinewidth\":0,\"ticks\":\"\"},\"colorscale\":[[0.0,\"#0d0887\"],[0.1111111111111111,\"#46039f\"],[0.2222222222222222,\"#7201a8\"],[0.3333333333333333,\"#9c179e\"],[0.4444444444444444,\"#bd3786\"],[0.5555555555555556,\"#d8576b\"],[0.6666666666666666,\"#ed7953\"],[0.7777777777777778,\"#fb9f3a\"],[0.8888888888888888,\"#fdca26\"],[1.0,\"#f0f921\"]],\"type\":\"heatmapgl\"}],\"histogram\":[{\"marker\":{\"pattern\":{\"fillmode\":\"overlay\",\"size\":10,\"solidity\":0.2}},\"type\":\"histogram\"}],\"histogram2d\":[{\"colorbar\":{\"outlinewidth\":0,\"ticks\":\"\"},\"colorscale\":[[0.0,\"#0d0887\"],[0.1111111111111111,\"#46039f\"],[0.2222222222222222,\"#7201a8\"],[0.3333333333333333,\"#9c179e\"],[0.4444444444444444,\"#bd3786\"],[0.5555555555555556,\"#d8576b\"],[0.6666666666666666,\"#ed7953\"],[0.7777777777777778,\"#fb9f3a\"],[0.8888888888888888,\"#fdca26\"],[1.0,\"#f0f921\"]],\"type\":\"histogram2d\"}],\"histogram2dcontour\":[{\"colorbar\":{\"outlinewidth\":0,\"ticks\":\"\"},\"colorscale\":[[0.0,\"#0d0887\"],[0.1111111111111111,\"#46039f\"],[0.2222222222222222,\"#7201a8\"],[0.3333333333333333,\"#9c179e\"],[0.4444444444444444,\"#bd3786\"],[0.5555555555555556,\"#d8576b\"],[0.6666666666666666,\"#ed7953\"],[0.7777777777777778,\"#fb9f3a\"],[0.8888888888888888,\"#fdca26\"],[1.0,\"#f0f921\"]],\"type\":\"histogram2dcontour\"}],\"mesh3d\":[{\"colorbar\":{\"outlinewidth\":0,\"ticks\":\"\"},\"type\":\"mesh3d\"}],\"parcoords\":[{\"line\":{\"colorbar\":{\"outlinewidth\":0,\"ticks\":\"\"}},\"type\":\"parcoords\"}],\"pie\":[{\"automargin\":true,\"type\":\"pie\"}],\"scatter\":[{\"marker\":{\"colorbar\":{\"outlinewidth\":0,\"ticks\":\"\"}},\"type\":\"scatter\"}],\"scatter3d\":[{\"line\":{\"colorbar\":{\"outlinewidth\":0,\"ticks\":\"\"}},\"marker\":{\"colorbar\":{\"outlinewidth\":0,\"ticks\":\"\"}},\"type\":\"scatter3d\"}],\"scattercarpet\":[{\"marker\":{\"colorbar\":{\"outlinewidth\":0,\"ticks\":\"\"}},\"type\":\"scattercarpet\"}],\"scattergeo\":[{\"marker\":{\"colorbar\":{\"outlinewidth\":0,\"ticks\":\"\"}},\"type\":\"scattergeo\"}],\"scattergl\":[{\"marker\":{\"colorbar\":{\"outlinewidth\":0,\"ticks\":\"\"}},\"type\":\"scattergl\"}],\"scattermapbox\":[{\"marker\":{\"colorbar\":{\"outlinewidth\":0,\"ticks\":\"\"}},\"type\":\"scattermapbox\"}],\"scatterpolar\":[{\"marker\":{\"colorbar\":{\"outlinewidth\":0,\"ticks\":\"\"}},\"type\":\"scatterpolar\"}],\"scatterpolargl\":[{\"marker\":{\"colorbar\":{\"outlinewidth\":0,\"ticks\":\"\"}},\"type\":\"scatterpolargl\"}],\"scatterternary\":[{\"marker\":{\"colorbar\":{\"outlinewidth\":0,\"ticks\":\"\"}},\"type\":\"scatterternary\"}],\"surface\":[{\"colorbar\":{\"outlinewidth\":0,\"ticks\":\"\"},\"colorscale\":[[0.0,\"#0d0887\"],[0.1111111111111111,\"#46039f\"],[0.2222222222222222,\"#7201a8\"],[0.3333333333333333,\"#9c179e\"],[0.4444444444444444,\"#bd3786\"],[0.5555555555555556,\"#d8576b\"],[0.6666666666666666,\"#ed7953\"],[0.7777777777777778,\"#fb9f3a\"],[0.8888888888888888,\"#fdca26\"],[1.0,\"#f0f921\"]],\"type\":\"surface\"}],\"table\":[{\"cells\":{\"fill\":{\"color\":\"#EBF0F8\"},\"line\":{\"color\":\"white\"}},\"header\":{\"fill\":{\"color\":\"#C8D4E3\"},\"line\":{\"color\":\"white\"}},\"type\":\"table\"}]},\"layout\":{\"annotationdefaults\":{\"arrowcolor\":\"#2a3f5f\",\"arrowhead\":0,\"arrowwidth\":1},\"autotypenumbers\":\"strict\",\"coloraxis\":{\"colorbar\":{\"outlinewidth\":0,\"ticks\":\"\"}},\"colorscale\":{\"diverging\":[[0,\"#8e0152\"],[0.1,\"#c51b7d\"],[0.2,\"#de77ae\"],[0.3,\"#f1b6da\"],[0.4,\"#fde0ef\"],[0.5,\"#f7f7f7\"],[0.6,\"#e6f5d0\"],[0.7,\"#b8e186\"],[0.8,\"#7fbc41\"],[0.9,\"#4d9221\"],[1,\"#276419\"]],\"sequential\":[[0.0,\"#0d0887\"],[0.1111111111111111,\"#46039f\"],[0.2222222222222222,\"#7201a8\"],[0.3333333333333333,\"#9c179e\"],[0.4444444444444444,\"#bd3786\"],[0.5555555555555556,\"#d8576b\"],[0.6666666666666666,\"#ed7953\"],[0.7777777777777778,\"#fb9f3a\"],[0.8888888888888888,\"#fdca26\"],[1.0,\"#f0f921\"]],\"sequentialminus\":[[0.0,\"#0d0887\"],[0.1111111111111111,\"#46039f\"],[0.2222222222222222,\"#7201a8\"],[0.3333333333333333,\"#9c179e\"],[0.4444444444444444,\"#bd3786\"],[0.5555555555555556,\"#d8576b\"],[0.6666666666666666,\"#ed7953\"],[0.7777777777777778,\"#fb9f3a\"],[0.8888888888888888,\"#fdca26\"],[1.0,\"#f0f921\"]]},\"colorway\":[\"#636efa\",\"#EF553B\",\"#00cc96\",\"#ab63fa\",\"#FFA15A\",\"#19d3f3\",\"#FF6692\",\"#B6E880\",\"#FF97FF\",\"#FECB52\"],\"font\":{\"color\":\"#2a3f5f\"},\"geo\":{\"bgcolor\":\"white\",\"lakecolor\":\"white\",\"landcolor\":\"#E5ECF6\",\"showlakes\":true,\"showland\":true,\"subunitcolor\":\"white\"},\"hoverlabel\":{\"align\":\"left\"},\"hovermode\":\"closest\",\"mapbox\":{\"style\":\"light\"},\"paper_bgcolor\":\"white\",\"plot_bgcolor\":\"#E5ECF6\",\"polar\":{\"angularaxis\":{\"gridcolor\":\"white\",\"linecolor\":\"white\",\"ticks\":\"\"},\"bgcolor\":\"#E5ECF6\",\"radialaxis\":{\"gridcolor\":\"white\",\"linecolor\":\"white\",\"ticks\":\"\"}},\"scene\":{\"xaxis\":{\"backgroundcolor\":\"#E5ECF6\",\"gridcolor\":\"white\",\"gridwidth\":2,\"linecolor\":\"white\",\"showbackground\":true,\"ticks\":\"\",\"zerolinecolor\":\"white\"},\"yaxis\":{\"backgroundcolor\":\"#E5ECF6\",\"gridcolor\":\"white\",\"gridwidth\":2,\"linecolor\":\"white\",\"showbackground\":true,\"ticks\":\"\",\"zerolinecolor\":\"white\"},\"zaxis\":{\"backgroundcolor\":\"#E5ECF6\",\"gridcolor\":\"white\",\"gridwidth\":2,\"linecolor\":\"white\",\"showbackground\":true,\"ticks\":\"\",\"zerolinecolor\":\"white\"}},\"shapedefaults\":{\"line\":{\"color\":\"#2a3f5f\"}},\"ternary\":{\"aaxis\":{\"gridcolor\":\"white\",\"linecolor\":\"white\",\"ticks\":\"\"},\"baxis\":{\"gridcolor\":\"white\",\"linecolor\":\"white\",\"ticks\":\"\"},\"bgcolor\":\"#E5ECF6\",\"caxis\":{\"gridcolor\":\"white\",\"linecolor\":\"white\",\"ticks\":\"\"}},\"title\":{\"x\":0.05},\"xaxis\":{\"automargin\":true,\"gridcolor\":\"white\",\"linecolor\":\"white\",\"ticks\":\"\",\"title\":{\"standoff\":15},\"zerolinecolor\":\"white\",\"zerolinewidth\":2},\"yaxis\":{\"automargin\":true,\"gridcolor\":\"white\",\"linecolor\":\"white\",\"ticks\":\"\",\"title\":{\"standoff\":15},\"zerolinecolor\":\"white\",\"zerolinewidth\":2}}},\"xaxis\":{\"tickangle\":-45,\"title\":{\"text\":\"Neighbourhood\"},\"categoryorder\":\"total descending\"},\"barmode\":\"stack\",\"yaxis\":{\"title\":{\"text\":\"Total Count\"}}},                        {\"responsive\": true}                    ).then(function(){\n",
       "                            \n",
       "var gd = document.getElementById('8e293705-79a4-4275-8969-4a06be9bf860');\n",
       "var x = new MutationObserver(function (mutations, observer) {{\n",
       "        var display = window.getComputedStyle(gd).display;\n",
       "        if (!display || display === 'none') {{\n",
       "            console.log([gd, 'removed!']);\n",
       "            Plotly.purge(gd);\n",
       "            observer.disconnect();\n",
       "        }}\n",
       "}});\n",
       "\n",
       "// Listen for the removal of the full notebook cells\n",
       "var notebookContainer = gd.closest('#notebook-container');\n",
       "if (notebookContainer) {{\n",
       "    x.observe(notebookContainer, {childList: true});\n",
       "}}\n",
       "\n",
       "// Listen for the clearing of the current output cell\n",
       "var outputEl = gd.closest('.output');\n",
       "if (outputEl) {{\n",
       "    x.observe(outputEl, {childList: true});\n",
       "}}\n",
       "\n",
       "                        })                };                });            </script>        </div>"
      ]
     },
     "metadata": {},
     "output_type": "display_data"
    }
   ],
   "source": [
    "import plotly.graph_objects as go\n",
    "\n",
    "fig = go.Figure()\n",
    "\n",
    "fig.add_trace(go.Bar(\n",
    "    x=df4.Neighbourhood,\n",
    "    y=df4.Not_attended,\n",
    "    name='not-attended',\n",
    "    marker_color='dodgerblue'\n",
    "))\n",
    "\n",
    "\n",
    "fig.add_trace(go.Bar(\n",
    "    x=df4.Neighbourhood,\n",
    "    y=df4.attended,\n",
    "    name='attended',\n",
    "    marker_color='lightsalmon'\n",
    "))\n",
    "\n",
    "fig.update_layout(barmode='stack', xaxis_tickangle=-45,\n",
    "                  xaxis_title=\"Neighbourhood\",yaxis_title=\"Total Count\",\n",
    "                  xaxis={'categoryorder':'total descending'})\n",
    "fig.show()"
   ]
  },
  {
   "cell_type": "markdown",
   "id": "770771bc-6d7b-4488-922c-8e3aa8c04804",
   "metadata": {},
   "source": [
    "This shows as Jardim Camburi is the most populated area in the state.\n",
    "We will soon find out the ratio of attended to not attended based on state."
   ]
  },
  {
   "cell_type": "code",
   "execution_count": 84,
   "id": "954e79f5-d2e9-4458-b5a2-5f64cf0f0295",
   "metadata": {},
   "outputs": [
    {
     "data": {
      "text/html": [
       "<div>\n",
       "<style scoped>\n",
       "    .dataframe tbody tr th:only-of-type {\n",
       "        vertical-align: middle;\n",
       "    }\n",
       "\n",
       "    .dataframe tbody tr th {\n",
       "        vertical-align: top;\n",
       "    }\n",
       "\n",
       "    .dataframe thead th {\n",
       "        text-align: right;\n",
       "    }\n",
       "</style>\n",
       "<table border=\"1\" class=\"dataframe\">\n",
       "  <thead>\n",
       "    <tr style=\"text-align: right;\">\n",
       "      <th></th>\n",
       "      <th>Neighbourhood</th>\n",
       "      <th>Not_attended</th>\n",
       "      <th>attended</th>\n",
       "      <th>sum</th>\n",
       "      <th>ratio</th>\n",
       "    </tr>\n",
       "  </thead>\n",
       "  <tbody>\n",
       "    <tr>\n",
       "      <th>0</th>\n",
       "      <td>AEROPORTO</td>\n",
       "      <td>7.0</td>\n",
       "      <td>1.0</td>\n",
       "      <td>8.0</td>\n",
       "      <td>0.875000</td>\n",
       "    </tr>\n",
       "    <tr>\n",
       "      <th>1</th>\n",
       "      <td>ANDORINHAS</td>\n",
       "      <td>1741.0</td>\n",
       "      <td>521.0</td>\n",
       "      <td>2262.0</td>\n",
       "      <td>0.769673</td>\n",
       "    </tr>\n",
       "    <tr>\n",
       "      <th>2</th>\n",
       "      <td>ANTÔNIO HONÓRIO</td>\n",
       "      <td>221.0</td>\n",
       "      <td>50.0</td>\n",
       "      <td>271.0</td>\n",
       "      <td>0.815498</td>\n",
       "    </tr>\n",
       "    <tr>\n",
       "      <th>3</th>\n",
       "      <td>ARIOVALDO FAVALESSA</td>\n",
       "      <td>220.0</td>\n",
       "      <td>62.0</td>\n",
       "      <td>282.0</td>\n",
       "      <td>0.780142</td>\n",
       "    </tr>\n",
       "    <tr>\n",
       "      <th>4</th>\n",
       "      <td>BARRO VERMELHO</td>\n",
       "      <td>332.0</td>\n",
       "      <td>91.0</td>\n",
       "      <td>423.0</td>\n",
       "      <td>0.784870</td>\n",
       "    </tr>\n",
       "    <tr>\n",
       "      <th>...</th>\n",
       "      <td>...</td>\n",
       "      <td>...</td>\n",
       "      <td>...</td>\n",
       "      <td>...</td>\n",
       "      <td>...</td>\n",
       "    </tr>\n",
       "    <tr>\n",
       "      <th>76</th>\n",
       "      <td>SÃO JOSÉ</td>\n",
       "      <td>1549.0</td>\n",
       "      <td>428.0</td>\n",
       "      <td>1977.0</td>\n",
       "      <td>0.783510</td>\n",
       "    </tr>\n",
       "    <tr>\n",
       "      <th>77</th>\n",
       "      <td>SÃO PEDRO</td>\n",
       "      <td>1933.0</td>\n",
       "      <td>515.0</td>\n",
       "      <td>2448.0</td>\n",
       "      <td>0.789624</td>\n",
       "    </tr>\n",
       "    <tr>\n",
       "      <th>78</th>\n",
       "      <td>TABUAZEIRO</td>\n",
       "      <td>2559.0</td>\n",
       "      <td>573.0</td>\n",
       "      <td>3132.0</td>\n",
       "      <td>0.817050</td>\n",
       "    </tr>\n",
       "    <tr>\n",
       "      <th>79</th>\n",
       "      <td>UNIVERSITÁRIO</td>\n",
       "      <td>120.0</td>\n",
       "      <td>32.0</td>\n",
       "      <td>152.0</td>\n",
       "      <td>0.789474</td>\n",
       "    </tr>\n",
       "    <tr>\n",
       "      <th>80</th>\n",
       "      <td>VILA RUBIM</td>\n",
       "      <td>710.0</td>\n",
       "      <td>141.0</td>\n",
       "      <td>851.0</td>\n",
       "      <td>0.834313</td>\n",
       "    </tr>\n",
       "  </tbody>\n",
       "</table>\n",
       "<p>81 rows × 5 columns</p>\n",
       "</div>"
      ],
      "text/plain": [
       "          Neighbourhood  Not_attended  attended     sum     ratio\n",
       "0             AEROPORTO           7.0       1.0     8.0  0.875000\n",
       "1            ANDORINHAS        1741.0     521.0  2262.0  0.769673\n",
       "2       ANTÔNIO HONÓRIO         221.0      50.0   271.0  0.815498\n",
       "3   ARIOVALDO FAVALESSA         220.0      62.0   282.0  0.780142\n",
       "4        BARRO VERMELHO         332.0      91.0   423.0  0.784870\n",
       "..                  ...           ...       ...     ...       ...\n",
       "76             SÃO JOSÉ        1549.0     428.0  1977.0  0.783510\n",
       "77            SÃO PEDRO        1933.0     515.0  2448.0  0.789624\n",
       "78           TABUAZEIRO        2559.0     573.0  3132.0  0.817050\n",
       "79        UNIVERSITÁRIO         120.0      32.0   152.0  0.789474\n",
       "80           VILA RUBIM         710.0     141.0   851.0  0.834313\n",
       "\n",
       "[81 rows x 5 columns]"
      ]
     },
     "execution_count": 84,
     "metadata": {},
     "output_type": "execute_result"
    }
   ],
   "source": [
    "df4['sum']=df4['Not_attended']+df4['attended']\n",
    "df4['ratio']=df4['Not_attended']/df4['sum']\n",
    "df4"
   ]
  },
  {
   "cell_type": "code",
   "execution_count": 87,
   "id": "a344500f-4daa-4783-8c3f-d54ad853847d",
   "metadata": {},
   "outputs": [
    {
     "data": {
      "application/vnd.plotly.v1+json": {
       "config": {
        "plotlyServerURL": "https://plot.ly"
       },
       "data": [
        {
         "alignmentgroup": "True",
         "hovertemplate": "Neighbourhood=%{x}<br>ratio=%{y}<extra></extra>",
         "legendgroup": "",
         "marker": {
          "color": "#636efa",
          "pattern": {
           "shape": ""
          }
         },
         "name": "",
         "offsetgroup": "",
         "orientation": "v",
         "showlegend": false,
         "textposition": "auto",
         "type": "bar",
         "x": [
          "PARQUE INDUSTRIAL",
          "ILHA DO BOI",
          "AEROPORTO",
          "MÁRIO CYPRESTE",
          "SOLON BORGES",
          "DE LOURDES",
          "DO CABRAL",
          "SANTA MARTHA",
          "JARDIM DA PENHA",
          "DO QUADRO",
          "VILA RUBIM",
          "MORADA DE CAMBURI",
          "MATA DA PRAIA",
          "REPÚBLICA",
          "CONSOLAÇÃO",
          "PONTAL DE CAMBURI",
          "SANTO ANTÔNIO",
          "REDENÇÃO",
          "NOVA PALESTINA",
          "JABOUR",
          "SANTA LUÍZA",
          "COMDUSA",
          "JOANA D´ARC",
          "TABUAZEIRO",
          "FORTE SÃO JOÃO",
          "PRAIA DO CANTO",
          "ANTÔNIO HONÓRIO",
          "BOA VISTA",
          "FRADINHOS",
          "CONQUISTA",
          "JARDIM CAMBURI",
          "INHANGUETÁ",
          "ILHA DE SANTA MARIA",
          "JUCUTUQUARA",
          "SEGURANÇA DO LAR",
          "DA PENHA",
          "PIEDADE",
          "GOIABEIRAS",
          "SANTA LÚCIA",
          "ESTRELINHA",
          "SANTO ANDRÉ",
          "SÃO CRISTÓVÃO",
          "BONFIM",
          "SÃO BENEDITO",
          "ILHA DO FRADE",
          "BELA VISTA",
          "MONTE BELO",
          "GRANDE VITÓRIA",
          "SANTA TEREZA",
          "RESISTÊNCIA",
          "SANTOS REIS",
          "SANTA HELENA",
          "MARIA ORTIZ",
          "SÃO PEDRO",
          "UNIVERSITÁRIO",
          "CENTRO",
          "ROMÃO",
          "NAZARETH",
          "BARRO VERMELHO",
          "SÃO JOSÉ",
          "CRUZAMENTO",
          "FONTE GRANDE",
          "ILHA DAS CAIEIRAS",
          "ARIOVALDO FAVALESSA",
          "ENSEADA DO SUÁ",
          "DO MOSCOSO",
          "MARUÍPE",
          "PARQUE MOSCOSO",
          "BENTO FERREIRA",
          "GURIGICA",
          "PRAIA DO SUÁ",
          "ANDORINHAS",
          "CARATOÍRA",
          "ILHA DO PRÍNCIPE",
          "HORTO",
          "JESUS DE NAZARETH",
          "ITARARÉ",
          "SANTA CLARA",
          "SANTA CECÍLIA",
          "SANTOS DUMONT",
          "ILHAS OCEÂNICAS DE TRINDADE"
         ],
         "xaxis": "x",
         "y": [
          1,
          0.9142857142857143,
          0.875,
          0.8544474393530997,
          0.8528784648187633,
          0.8459016393442623,
          0.8428571428571429,
          0.8415841584158416,
          0.8372452927521279,
          0.8351001177856302,
          0.8343125734430082,
          0.8333333333333334,
          0.8291925465838509,
          0.8287425149700599,
          0.8277616279069767,
          0.8260869565217391,
          0.8237436270939549,
          0.8229233741146169,
          0.8224381625441696,
          0.8202471104025508,
          0.8200934579439252,
          0.8193548387096774,
          0.8192011212333566,
          0.8170498084291188,
          0.8168343038644785,
          0.8164251207729468,
          0.8154981549815498,
          0.8141025641025641,
          0.813953488372093,
          0.8115429917550059,
          0.8101593883633537,
          0.8088930936613056,
          0.8084880636604774,
          0.80835734870317,
          0.8068965517241379,
          0.8064952638700947,
          0.8053097345132744,
          0.8042857142857143,
          0.8036529680365296,
          0.8029739776951673,
          0.8024115130299494,
          0.8022875816993464,
          0.8016588532275514,
          0.8005559416261293,
          0.8,
          0.7986366019926586,
          0.7985436893203883,
          0.7973856209150327,
          0.7957957957957958,
          0.7955314827352742,
          0.7952468007312614,
          0.7921348314606742,
          0.7900086132644272,
          0.7896241830065359,
          0.7894736842105263,
          0.7891421715656869,
          0.7859078590785907,
          0.7851851851851852,
          0.7848699763593381,
          0.7835103692463329,
          0.7825464949928469,
          0.781524926686217,
          0.780578898225957,
          0.7801418439716312,
          0.7787234042553192,
          0.7772397094430993,
          0.7770767613038907,
          0.7768079800498753,
          0.7750582750582751,
          0.7740336967294351,
          0.7717391304347826,
          0.7696728558797524,
          0.7695906432748538,
          0.76522506619594,
          0.76,
          0.7560462670872765,
          0.7373363688104724,
          0.7351778656126482,
          0.7254464285714286,
          0.7108150470219435,
          0
         ],
         "yaxis": "y"
        }
       ],
       "layout": {
        "barmode": "relative",
        "height": 800,
        "legend": {
         "tracegroupgap": 0
        },
        "margin": {
         "t": 60
        },
        "template": {
         "data": {
          "bar": [
           {
            "error_x": {
             "color": "#2a3f5f"
            },
            "error_y": {
             "color": "#2a3f5f"
            },
            "marker": {
             "line": {
              "color": "#E5ECF6",
              "width": 0.5
             },
             "pattern": {
              "fillmode": "overlay",
              "size": 10,
              "solidity": 0.2
             }
            },
            "type": "bar"
           }
          ],
          "barpolar": [
           {
            "marker": {
             "line": {
              "color": "#E5ECF6",
              "width": 0.5
             },
             "pattern": {
              "fillmode": "overlay",
              "size": 10,
              "solidity": 0.2
             }
            },
            "type": "barpolar"
           }
          ],
          "carpet": [
           {
            "aaxis": {
             "endlinecolor": "#2a3f5f",
             "gridcolor": "white",
             "linecolor": "white",
             "minorgridcolor": "white",
             "startlinecolor": "#2a3f5f"
            },
            "baxis": {
             "endlinecolor": "#2a3f5f",
             "gridcolor": "white",
             "linecolor": "white",
             "minorgridcolor": "white",
             "startlinecolor": "#2a3f5f"
            },
            "type": "carpet"
           }
          ],
          "choropleth": [
           {
            "colorbar": {
             "outlinewidth": 0,
             "ticks": ""
            },
            "type": "choropleth"
           }
          ],
          "contour": [
           {
            "colorbar": {
             "outlinewidth": 0,
             "ticks": ""
            },
            "colorscale": [
             [
              0,
              "#0d0887"
             ],
             [
              0.1111111111111111,
              "#46039f"
             ],
             [
              0.2222222222222222,
              "#7201a8"
             ],
             [
              0.3333333333333333,
              "#9c179e"
             ],
             [
              0.4444444444444444,
              "#bd3786"
             ],
             [
              0.5555555555555556,
              "#d8576b"
             ],
             [
              0.6666666666666666,
              "#ed7953"
             ],
             [
              0.7777777777777778,
              "#fb9f3a"
             ],
             [
              0.8888888888888888,
              "#fdca26"
             ],
             [
              1,
              "#f0f921"
             ]
            ],
            "type": "contour"
           }
          ],
          "contourcarpet": [
           {
            "colorbar": {
             "outlinewidth": 0,
             "ticks": ""
            },
            "type": "contourcarpet"
           }
          ],
          "heatmap": [
           {
            "colorbar": {
             "outlinewidth": 0,
             "ticks": ""
            },
            "colorscale": [
             [
              0,
              "#0d0887"
             ],
             [
              0.1111111111111111,
              "#46039f"
             ],
             [
              0.2222222222222222,
              "#7201a8"
             ],
             [
              0.3333333333333333,
              "#9c179e"
             ],
             [
              0.4444444444444444,
              "#bd3786"
             ],
             [
              0.5555555555555556,
              "#d8576b"
             ],
             [
              0.6666666666666666,
              "#ed7953"
             ],
             [
              0.7777777777777778,
              "#fb9f3a"
             ],
             [
              0.8888888888888888,
              "#fdca26"
             ],
             [
              1,
              "#f0f921"
             ]
            ],
            "type": "heatmap"
           }
          ],
          "heatmapgl": [
           {
            "colorbar": {
             "outlinewidth": 0,
             "ticks": ""
            },
            "colorscale": [
             [
              0,
              "#0d0887"
             ],
             [
              0.1111111111111111,
              "#46039f"
             ],
             [
              0.2222222222222222,
              "#7201a8"
             ],
             [
              0.3333333333333333,
              "#9c179e"
             ],
             [
              0.4444444444444444,
              "#bd3786"
             ],
             [
              0.5555555555555556,
              "#d8576b"
             ],
             [
              0.6666666666666666,
              "#ed7953"
             ],
             [
              0.7777777777777778,
              "#fb9f3a"
             ],
             [
              0.8888888888888888,
              "#fdca26"
             ],
             [
              1,
              "#f0f921"
             ]
            ],
            "type": "heatmapgl"
           }
          ],
          "histogram": [
           {
            "marker": {
             "pattern": {
              "fillmode": "overlay",
              "size": 10,
              "solidity": 0.2
             }
            },
            "type": "histogram"
           }
          ],
          "histogram2d": [
           {
            "colorbar": {
             "outlinewidth": 0,
             "ticks": ""
            },
            "colorscale": [
             [
              0,
              "#0d0887"
             ],
             [
              0.1111111111111111,
              "#46039f"
             ],
             [
              0.2222222222222222,
              "#7201a8"
             ],
             [
              0.3333333333333333,
              "#9c179e"
             ],
             [
              0.4444444444444444,
              "#bd3786"
             ],
             [
              0.5555555555555556,
              "#d8576b"
             ],
             [
              0.6666666666666666,
              "#ed7953"
             ],
             [
              0.7777777777777778,
              "#fb9f3a"
             ],
             [
              0.8888888888888888,
              "#fdca26"
             ],
             [
              1,
              "#f0f921"
             ]
            ],
            "type": "histogram2d"
           }
          ],
          "histogram2dcontour": [
           {
            "colorbar": {
             "outlinewidth": 0,
             "ticks": ""
            },
            "colorscale": [
             [
              0,
              "#0d0887"
             ],
             [
              0.1111111111111111,
              "#46039f"
             ],
             [
              0.2222222222222222,
              "#7201a8"
             ],
             [
              0.3333333333333333,
              "#9c179e"
             ],
             [
              0.4444444444444444,
              "#bd3786"
             ],
             [
              0.5555555555555556,
              "#d8576b"
             ],
             [
              0.6666666666666666,
              "#ed7953"
             ],
             [
              0.7777777777777778,
              "#fb9f3a"
             ],
             [
              0.8888888888888888,
              "#fdca26"
             ],
             [
              1,
              "#f0f921"
             ]
            ],
            "type": "histogram2dcontour"
           }
          ],
          "mesh3d": [
           {
            "colorbar": {
             "outlinewidth": 0,
             "ticks": ""
            },
            "type": "mesh3d"
           }
          ],
          "parcoords": [
           {
            "line": {
             "colorbar": {
              "outlinewidth": 0,
              "ticks": ""
             }
            },
            "type": "parcoords"
           }
          ],
          "pie": [
           {
            "automargin": true,
            "type": "pie"
           }
          ],
          "scatter": [
           {
            "marker": {
             "colorbar": {
              "outlinewidth": 0,
              "ticks": ""
             }
            },
            "type": "scatter"
           }
          ],
          "scatter3d": [
           {
            "line": {
             "colorbar": {
              "outlinewidth": 0,
              "ticks": ""
             }
            },
            "marker": {
             "colorbar": {
              "outlinewidth": 0,
              "ticks": ""
             }
            },
            "type": "scatter3d"
           }
          ],
          "scattercarpet": [
           {
            "marker": {
             "colorbar": {
              "outlinewidth": 0,
              "ticks": ""
             }
            },
            "type": "scattercarpet"
           }
          ],
          "scattergeo": [
           {
            "marker": {
             "colorbar": {
              "outlinewidth": 0,
              "ticks": ""
             }
            },
            "type": "scattergeo"
           }
          ],
          "scattergl": [
           {
            "marker": {
             "colorbar": {
              "outlinewidth": 0,
              "ticks": ""
             }
            },
            "type": "scattergl"
           }
          ],
          "scattermapbox": [
           {
            "marker": {
             "colorbar": {
              "outlinewidth": 0,
              "ticks": ""
             }
            },
            "type": "scattermapbox"
           }
          ],
          "scatterpolar": [
           {
            "marker": {
             "colorbar": {
              "outlinewidth": 0,
              "ticks": ""
             }
            },
            "type": "scatterpolar"
           }
          ],
          "scatterpolargl": [
           {
            "marker": {
             "colorbar": {
              "outlinewidth": 0,
              "ticks": ""
             }
            },
            "type": "scatterpolargl"
           }
          ],
          "scatterternary": [
           {
            "marker": {
             "colorbar": {
              "outlinewidth": 0,
              "ticks": ""
             }
            },
            "type": "scatterternary"
           }
          ],
          "surface": [
           {
            "colorbar": {
             "outlinewidth": 0,
             "ticks": ""
            },
            "colorscale": [
             [
              0,
              "#0d0887"
             ],
             [
              0.1111111111111111,
              "#46039f"
             ],
             [
              0.2222222222222222,
              "#7201a8"
             ],
             [
              0.3333333333333333,
              "#9c179e"
             ],
             [
              0.4444444444444444,
              "#bd3786"
             ],
             [
              0.5555555555555556,
              "#d8576b"
             ],
             [
              0.6666666666666666,
              "#ed7953"
             ],
             [
              0.7777777777777778,
              "#fb9f3a"
             ],
             [
              0.8888888888888888,
              "#fdca26"
             ],
             [
              1,
              "#f0f921"
             ]
            ],
            "type": "surface"
           }
          ],
          "table": [
           {
            "cells": {
             "fill": {
              "color": "#EBF0F8"
             },
             "line": {
              "color": "white"
             }
            },
            "header": {
             "fill": {
              "color": "#C8D4E3"
             },
             "line": {
              "color": "white"
             }
            },
            "type": "table"
           }
          ]
         },
         "layout": {
          "annotationdefaults": {
           "arrowcolor": "#2a3f5f",
           "arrowhead": 0,
           "arrowwidth": 1
          },
          "autotypenumbers": "strict",
          "coloraxis": {
           "colorbar": {
            "outlinewidth": 0,
            "ticks": ""
           }
          },
          "colorscale": {
           "diverging": [
            [
             0,
             "#8e0152"
            ],
            [
             0.1,
             "#c51b7d"
            ],
            [
             0.2,
             "#de77ae"
            ],
            [
             0.3,
             "#f1b6da"
            ],
            [
             0.4,
             "#fde0ef"
            ],
            [
             0.5,
             "#f7f7f7"
            ],
            [
             0.6,
             "#e6f5d0"
            ],
            [
             0.7,
             "#b8e186"
            ],
            [
             0.8,
             "#7fbc41"
            ],
            [
             0.9,
             "#4d9221"
            ],
            [
             1,
             "#276419"
            ]
           ],
           "sequential": [
            [
             0,
             "#0d0887"
            ],
            [
             0.1111111111111111,
             "#46039f"
            ],
            [
             0.2222222222222222,
             "#7201a8"
            ],
            [
             0.3333333333333333,
             "#9c179e"
            ],
            [
             0.4444444444444444,
             "#bd3786"
            ],
            [
             0.5555555555555556,
             "#d8576b"
            ],
            [
             0.6666666666666666,
             "#ed7953"
            ],
            [
             0.7777777777777778,
             "#fb9f3a"
            ],
            [
             0.8888888888888888,
             "#fdca26"
            ],
            [
             1,
             "#f0f921"
            ]
           ],
           "sequentialminus": [
            [
             0,
             "#0d0887"
            ],
            [
             0.1111111111111111,
             "#46039f"
            ],
            [
             0.2222222222222222,
             "#7201a8"
            ],
            [
             0.3333333333333333,
             "#9c179e"
            ],
            [
             0.4444444444444444,
             "#bd3786"
            ],
            [
             0.5555555555555556,
             "#d8576b"
            ],
            [
             0.6666666666666666,
             "#ed7953"
            ],
            [
             0.7777777777777778,
             "#fb9f3a"
            ],
            [
             0.8888888888888888,
             "#fdca26"
            ],
            [
             1,
             "#f0f921"
            ]
           ]
          },
          "colorway": [
           "#636efa",
           "#EF553B",
           "#00cc96",
           "#ab63fa",
           "#FFA15A",
           "#19d3f3",
           "#FF6692",
           "#B6E880",
           "#FF97FF",
           "#FECB52"
          ],
          "font": {
           "color": "#2a3f5f"
          },
          "geo": {
           "bgcolor": "white",
           "lakecolor": "white",
           "landcolor": "#E5ECF6",
           "showlakes": true,
           "showland": true,
           "subunitcolor": "white"
          },
          "hoverlabel": {
           "align": "left"
          },
          "hovermode": "closest",
          "mapbox": {
           "style": "light"
          },
          "paper_bgcolor": "white",
          "plot_bgcolor": "#E5ECF6",
          "polar": {
           "angularaxis": {
            "gridcolor": "white",
            "linecolor": "white",
            "ticks": ""
           },
           "bgcolor": "#E5ECF6",
           "radialaxis": {
            "gridcolor": "white",
            "linecolor": "white",
            "ticks": ""
           }
          },
          "scene": {
           "xaxis": {
            "backgroundcolor": "#E5ECF6",
            "gridcolor": "white",
            "gridwidth": 2,
            "linecolor": "white",
            "showbackground": true,
            "ticks": "",
            "zerolinecolor": "white"
           },
           "yaxis": {
            "backgroundcolor": "#E5ECF6",
            "gridcolor": "white",
            "gridwidth": 2,
            "linecolor": "white",
            "showbackground": true,
            "ticks": "",
            "zerolinecolor": "white"
           },
           "zaxis": {
            "backgroundcolor": "#E5ECF6",
            "gridcolor": "white",
            "gridwidth": 2,
            "linecolor": "white",
            "showbackground": true,
            "ticks": "",
            "zerolinecolor": "white"
           }
          },
          "shapedefaults": {
           "line": {
            "color": "#2a3f5f"
           }
          },
          "ternary": {
           "aaxis": {
            "gridcolor": "white",
            "linecolor": "white",
            "ticks": ""
           },
           "baxis": {
            "gridcolor": "white",
            "linecolor": "white",
            "ticks": ""
           },
           "bgcolor": "#E5ECF6",
           "caxis": {
            "gridcolor": "white",
            "linecolor": "white",
            "ticks": ""
           }
          },
          "title": {
           "x": 0.05
          },
          "xaxis": {
           "automargin": true,
           "gridcolor": "white",
           "linecolor": "white",
           "ticks": "",
           "title": {
            "standoff": 15
           },
           "zerolinecolor": "white",
           "zerolinewidth": 2
          },
          "yaxis": {
           "automargin": true,
           "gridcolor": "white",
           "linecolor": "white",
           "ticks": "",
           "title": {
            "standoff": 15
           },
           "zerolinecolor": "white",
           "zerolinewidth": 2
          }
         }
        },
        "title": {
         "text": "Ratio of Non-attended",
         "x": 0.5
        },
        "width": 1400,
        "xaxis": {
         "anchor": "y",
         "autorange": true,
         "domain": [
          0,
          1
         ],
         "range": [
          -0.5,
          80.5
         ],
         "title": {
          "text": "Neighbourhood"
         },
         "type": "category"
        },
        "yaxis": {
         "anchor": "x",
         "autorange": true,
         "domain": [
          0,
          1
         ],
         "range": [
          0,
          1.0526315789473684
         ],
         "title": {
          "text": "ratio"
         },
         "type": "linear"
        }
       }
      },
      "image/png": "[encoded data removed]",
      "text/html": [
       "<div>                            <div id=\"cb7b3169-261c-41b4-b6ff-1a1d007cdc34\" class=\"plotly-graph-div\" style=\"height:800px; width:1400px;\"></div>            <script type=\"text/javascript\">                require([\"plotly\"], function(Plotly) {                    window.PLOTLYENV=window.PLOTLYENV || {};                                    if (document.getElementById(\"cb7b3169-261c-41b4-b6ff-1a1d007cdc34\")) {                    Plotly.newPlot(                        \"cb7b3169-261c-41b4-b6ff-1a1d007cdc34\",                        [{\"alignmentgroup\":\"True\",\"hovertemplate\":\"Neighbourhood=%{x}<br>ratio=%{y}<extra></extra>\",\"legendgroup\":\"\",\"marker\":{\"color\":\"#636efa\",\"pattern\":{\"shape\":\"\"}},\"name\":\"\",\"offsetgroup\":\"\",\"orientation\":\"v\",\"showlegend\":false,\"textposition\":\"auto\",\"x\":[\"PARQUE INDUSTRIAL\",\"ILHA DO BOI\",\"AEROPORTO\",\"M\\u00c1RIO CYPRESTE\",\"SOLON BORGES\",\"DE LOURDES\",\"DO CABRAL\",\"SANTA MARTHA\",\"JARDIM DA PENHA\",\"DO QUADRO\",\"VILA RUBIM\",\"MORADA DE CAMBURI\",\"MATA DA PRAIA\",\"REP\\u00daBLICA\",\"CONSOLA\\u00c7\\u00c3O\",\"PONTAL DE CAMBURI\",\"SANTO ANT\\u00d4NIO\",\"REDEN\\u00c7\\u00c3O\",\"NOVA PALESTINA\",\"JABOUR\",\"SANTA LU\\u00cdZA\",\"COMDUSA\",\"JOANA D\\u00b4ARC\",\"TABUAZEIRO\",\"FORTE S\\u00c3O JO\\u00c3O\",\"PRAIA DO CANTO\",\"ANT\\u00d4NIO HON\\u00d3RIO\",\"BOA VISTA\",\"FRADINHOS\",\"CONQUISTA\",\"JARDIM CAMBURI\",\"INHANGUET\\u00c1\",\"ILHA DE SANTA MARIA\",\"JUCUTUQUARA\",\"SEGURAN\\u00c7A DO LAR\",\"DA PENHA\",\"PIEDADE\",\"GOIABEIRAS\",\"SANTA L\\u00daCIA\",\"ESTRELINHA\",\"SANTO ANDR\\u00c9\",\"S\\u00c3O CRIST\\u00d3V\\u00c3O\",\"BONFIM\",\"S\\u00c3O BENEDITO\",\"ILHA DO FRADE\",\"BELA VISTA\",\"MONTE BELO\",\"GRANDE VIT\\u00d3RIA\",\"SANTA TEREZA\",\"RESIST\\u00caNCIA\",\"SANTOS REIS\",\"SANTA HELENA\",\"MARIA ORTIZ\",\"S\\u00c3O PEDRO\",\"UNIVERSIT\\u00c1RIO\",\"CENTRO\",\"ROM\\u00c3O\",\"NAZARETH\",\"BARRO VERMELHO\",\"S\\u00c3O JOS\\u00c9\",\"CRUZAMENTO\",\"FONTE GRANDE\",\"ILHA DAS CAIEIRAS\",\"ARIOVALDO FAVALESSA\",\"ENSEADA DO SU\\u00c1\",\"DO MOSCOSO\",\"MARU\\u00cdPE\",\"PARQUE MOSCOSO\",\"BENTO FERREIRA\",\"GURIGICA\",\"PRAIA DO SU\\u00c1\",\"ANDORINHAS\",\"CARATO\\u00cdRA\",\"ILHA DO PR\\u00cdNCIPE\",\"HORTO\",\"JESUS DE NAZARETH\",\"ITARAR\\u00c9\",\"SANTA CLARA\",\"SANTA CEC\\u00cdLIA\",\"SANTOS DUMONT\",\"ILHAS OCE\\u00c2NICAS DE TRINDADE\"],\"xaxis\":\"x\",\"y\":[1.0,0.9142857142857143,0.875,0.8544474393530997,0.8528784648187633,0.8459016393442623,0.8428571428571429,0.8415841584158416,0.8372452927521279,0.8351001177856302,0.8343125734430082,0.8333333333333334,0.8291925465838509,0.8287425149700599,0.8277616279069767,0.8260869565217391,0.8237436270939549,0.8229233741146169,0.8224381625441696,0.8202471104025508,0.8200934579439252,0.8193548387096774,0.8192011212333566,0.8170498084291188,0.8168343038644785,0.8164251207729468,0.8154981549815498,0.8141025641025641,0.813953488372093,0.8115429917550059,0.8101593883633537,0.8088930936613056,0.8084880636604774,0.80835734870317,0.8068965517241379,0.8064952638700947,0.8053097345132744,0.8042857142857143,0.8036529680365296,0.8029739776951673,0.8024115130299494,0.8022875816993464,0.8016588532275514,0.8005559416261293,0.8,0.7986366019926586,0.7985436893203883,0.7973856209150327,0.7957957957957958,0.7955314827352742,0.7952468007312614,0.7921348314606742,0.7900086132644272,0.7896241830065359,0.7894736842105263,0.7891421715656869,0.7859078590785907,0.7851851851851852,0.7848699763593381,0.7835103692463329,0.7825464949928469,0.781524926686217,0.780578898225957,0.7801418439716312,0.7787234042553192,0.7772397094430993,0.7770767613038907,0.7768079800498753,0.7750582750582751,0.7740336967294351,0.7717391304347826,0.7696728558797524,0.7695906432748538,0.76522506619594,0.76,0.7560462670872765,0.7373363688104724,0.7351778656126482,0.7254464285714286,0.7108150470219435,0.0],\"yaxis\":\"y\",\"type\":\"bar\"}],                        {\"template\":{\"data\":{\"bar\":[{\"error_x\":{\"color\":\"#2a3f5f\"},\"error_y\":{\"color\":\"#2a3f5f\"},\"marker\":{\"line\":{\"color\":\"#E5ECF6\",\"width\":0.5},\"pattern\":{\"fillmode\":\"overlay\",\"size\":10,\"solidity\":0.2}},\"type\":\"bar\"}],\"barpolar\":[{\"marker\":{\"line\":{\"color\":\"#E5ECF6\",\"width\":0.5},\"pattern\":{\"fillmode\":\"overlay\",\"size\":10,\"solidity\":0.2}},\"type\":\"barpolar\"}],\"carpet\":[{\"aaxis\":{\"endlinecolor\":\"#2a3f5f\",\"gridcolor\":\"white\",\"linecolor\":\"white\",\"minorgridcolor\":\"white\",\"startlinecolor\":\"#2a3f5f\"},\"baxis\":{\"endlinecolor\":\"#2a3f5f\",\"gridcolor\":\"white\",\"linecolor\":\"white\",\"minorgridcolor\":\"white\",\"startlinecolor\":\"#2a3f5f\"},\"type\":\"carpet\"}],\"choropleth\":[{\"colorbar\":{\"outlinewidth\":0,\"ticks\":\"\"},\"type\":\"choropleth\"}],\"contour\":[{\"colorbar\":{\"outlinewidth\":0,\"ticks\":\"\"},\"colorscale\":[[0.0,\"#0d0887\"],[0.1111111111111111,\"#46039f\"],[0.2222222222222222,\"#7201a8\"],[0.3333333333333333,\"#9c179e\"],[0.4444444444444444,\"#bd3786\"],[0.5555555555555556,\"#d8576b\"],[0.6666666666666666,\"#ed7953\"],[0.7777777777777778,\"#fb9f3a\"],[0.8888888888888888,\"#fdca26\"],[1.0,\"#f0f921\"]],\"type\":\"contour\"}],\"contourcarpet\":[{\"colorbar\":{\"outlinewidth\":0,\"ticks\":\"\"},\"type\":\"contourcarpet\"}],\"heatmap\":[{\"colorbar\":{\"outlinewidth\":0,\"ticks\":\"\"},\"colorscale\":[[0.0,\"#0d0887\"],[0.1111111111111111,\"#46039f\"],[0.2222222222222222,\"#7201a8\"],[0.3333333333333333,\"#9c179e\"],[0.4444444444444444,\"#bd3786\"],[0.5555555555555556,\"#d8576b\"],[0.6666666666666666,\"#ed7953\"],[0.7777777777777778,\"#fb9f3a\"],[0.8888888888888888,\"#fdca26\"],[1.0,\"#f0f921\"]],\"type\":\"heatmap\"}],\"heatmapgl\":[{\"colorbar\":{\"outlinewidth\":0,\"ticks\":\"\"},\"colorscale\":[[0.0,\"#0d0887\"],[0.1111111111111111,\"#46039f\"],[0.2222222222222222,\"#7201a8\"],[0.3333333333333333,\"#9c179e\"],[0.4444444444444444,\"#bd3786\"],[0.5555555555555556,\"#d8576b\"],[0.6666666666666666,\"#ed7953\"],[0.7777777777777778,\"#fb9f3a\"],[0.8888888888888888,\"#fdca26\"],[1.0,\"#f0f921\"]],\"type\":\"heatmapgl\"}],\"histogram\":[{\"marker\":{\"pattern\":{\"fillmode\":\"overlay\",\"size\":10,\"solidity\":0.2}},\"type\":\"histogram\"}],\"histogram2d\":[{\"colorbar\":{\"outlinewidth\":0,\"ticks\":\"\"},\"colorscale\":[[0.0,\"#0d0887\"],[0.1111111111111111,\"#46039f\"],[0.2222222222222222,\"#7201a8\"],[0.3333333333333333,\"#9c179e\"],[0.4444444444444444,\"#bd3786\"],[0.5555555555555556,\"#d8576b\"],[0.6666666666666666,\"#ed7953\"],[0.7777777777777778,\"#fb9f3a\"],[0.8888888888888888,\"#fdca26\"],[1.0,\"#f0f921\"]],\"type\":\"histogram2d\"}],\"histogram2dcontour\":[{\"colorbar\":{\"outlinewidth\":0,\"ticks\":\"\"},\"colorscale\":[[0.0,\"#0d0887\"],[0.1111111111111111,\"#46039f\"],[0.2222222222222222,\"#7201a8\"],[0.3333333333333333,\"#9c179e\"],[0.4444444444444444,\"#bd3786\"],[0.5555555555555556,\"#d8576b\"],[0.6666666666666666,\"#ed7953\"],[0.7777777777777778,\"#fb9f3a\"],[0.8888888888888888,\"#fdca26\"],[1.0,\"#f0f921\"]],\"type\":\"histogram2dcontour\"}],\"mesh3d\":[{\"colorbar\":{\"outlinewidth\":0,\"ticks\":\"\"},\"type\":\"mesh3d\"}],\"parcoords\":[{\"line\":{\"colorbar\":{\"outlinewidth\":0,\"ticks\":\"\"}},\"type\":\"parcoords\"}],\"pie\":[{\"automargin\":true,\"type\":\"pie\"}],\"scatter\":[{\"marker\":{\"colorbar\":{\"outlinewidth\":0,\"ticks\":\"\"}},\"type\":\"scatter\"}],\"scatter3d\":[{\"line\":{\"colorbar\":{\"outlinewidth\":0,\"ticks\":\"\"}},\"marker\":{\"colorbar\":{\"outlinewidth\":0,\"ticks\":\"\"}},\"type\":\"scatter3d\"}],\"scattercarpet\":[{\"marker\":{\"colorbar\":{\"outlinewidth\":0,\"ticks\":\"\"}},\"type\":\"scattercarpet\"}],\"scattergeo\":[{\"marker\":{\"colorbar\":{\"outlinewidth\":0,\"ticks\":\"\"}},\"type\":\"scattergeo\"}],\"scattergl\":[{\"marker\":{\"colorbar\":{\"outlinewidth\":0,\"ticks\":\"\"}},\"type\":\"scattergl\"}],\"scattermapbox\":[{\"marker\":{\"colorbar\":{\"outlinewidth\":0,\"ticks\":\"\"}},\"type\":\"scattermapbox\"}],\"scatterpolar\":[{\"marker\":{\"colorbar\":{\"outlinewidth\":0,\"ticks\":\"\"}},\"type\":\"scatterpolar\"}],\"scatterpolargl\":[{\"marker\":{\"colorbar\":{\"outlinewidth\":0,\"ticks\":\"\"}},\"type\":\"scatterpolargl\"}],\"scatterternary\":[{\"marker\":{\"colorbar\":{\"outlinewidth\":0,\"ticks\":\"\"}},\"type\":\"scatterternary\"}],\"surface\":[{\"colorbar\":{\"outlinewidth\":0,\"ticks\":\"\"},\"colorscale\":[[0.0,\"#0d0887\"],[0.1111111111111111,\"#46039f\"],[0.2222222222222222,\"#7201a8\"],[0.3333333333333333,\"#9c179e\"],[0.4444444444444444,\"#bd3786\"],[0.5555555555555556,\"#d8576b\"],[0.6666666666666666,\"#ed7953\"],[0.7777777777777778,\"#fb9f3a\"],[0.8888888888888888,\"#fdca26\"],[1.0,\"#f0f921\"]],\"type\":\"surface\"}],\"table\":[{\"cells\":{\"fill\":{\"color\":\"#EBF0F8\"},\"line\":{\"color\":\"white\"}},\"header\":{\"fill\":{\"color\":\"#C8D4E3\"},\"line\":{\"color\":\"white\"}},\"type\":\"table\"}]},\"layout\":{\"annotationdefaults\":{\"arrowcolor\":\"#2a3f5f\",\"arrowhead\":0,\"arrowwidth\":1},\"autotypenumbers\":\"strict\",\"coloraxis\":{\"colorbar\":{\"outlinewidth\":0,\"ticks\":\"\"}},\"colorscale\":{\"diverging\":[[0,\"#8e0152\"],[0.1,\"#c51b7d\"],[0.2,\"#de77ae\"],[0.3,\"#f1b6da\"],[0.4,\"#fde0ef\"],[0.5,\"#f7f7f7\"],[0.6,\"#e6f5d0\"],[0.7,\"#b8e186\"],[0.8,\"#7fbc41\"],[0.9,\"#4d9221\"],[1,\"#276419\"]],\"sequential\":[[0.0,\"#0d0887\"],[0.1111111111111111,\"#46039f\"],[0.2222222222222222,\"#7201a8\"],[0.3333333333333333,\"#9c179e\"],[0.4444444444444444,\"#bd3786\"],[0.5555555555555556,\"#d8576b\"],[0.6666666666666666,\"#ed7953\"],[0.7777777777777778,\"#fb9f3a\"],[0.8888888888888888,\"#fdca26\"],[1.0,\"#f0f921\"]],\"sequentialminus\":[[0.0,\"#0d0887\"],[0.1111111111111111,\"#46039f\"],[0.2222222222222222,\"#7201a8\"],[0.3333333333333333,\"#9c179e\"],[0.4444444444444444,\"#bd3786\"],[0.5555555555555556,\"#d8576b\"],[0.6666666666666666,\"#ed7953\"],[0.7777777777777778,\"#fb9f3a\"],[0.8888888888888888,\"#fdca26\"],[1.0,\"#f0f921\"]]},\"colorway\":[\"#636efa\",\"#EF553B\",\"#00cc96\",\"#ab63fa\",\"#FFA15A\",\"#19d3f3\",\"#FF6692\",\"#B6E880\",\"#FF97FF\",\"#FECB52\"],\"font\":{\"color\":\"#2a3f5f\"},\"geo\":{\"bgcolor\":\"white\",\"lakecolor\":\"white\",\"landcolor\":\"#E5ECF6\",\"showlakes\":true,\"showland\":true,\"subunitcolor\":\"white\"},\"hoverlabel\":{\"align\":\"left\"},\"hovermode\":\"closest\",\"mapbox\":{\"style\":\"light\"},\"paper_bgcolor\":\"white\",\"plot_bgcolor\":\"#E5ECF6\",\"polar\":{\"angularaxis\":{\"gridcolor\":\"white\",\"linecolor\":\"white\",\"ticks\":\"\"},\"bgcolor\":\"#E5ECF6\",\"radialaxis\":{\"gridcolor\":\"white\",\"linecolor\":\"white\",\"ticks\":\"\"}},\"scene\":{\"xaxis\":{\"backgroundcolor\":\"#E5ECF6\",\"gridcolor\":\"white\",\"gridwidth\":2,\"linecolor\":\"white\",\"showbackground\":true,\"ticks\":\"\",\"zerolinecolor\":\"white\"},\"yaxis\":{\"backgroundcolor\":\"#E5ECF6\",\"gridcolor\":\"white\",\"gridwidth\":2,\"linecolor\":\"white\",\"showbackground\":true,\"ticks\":\"\",\"zerolinecolor\":\"white\"},\"zaxis\":{\"backgroundcolor\":\"#E5ECF6\",\"gridcolor\":\"white\",\"gridwidth\":2,\"linecolor\":\"white\",\"showbackground\":true,\"ticks\":\"\",\"zerolinecolor\":\"white\"}},\"shapedefaults\":{\"line\":{\"color\":\"#2a3f5f\"}},\"ternary\":{\"aaxis\":{\"gridcolor\":\"white\",\"linecolor\":\"white\",\"ticks\":\"\"},\"baxis\":{\"gridcolor\":\"white\",\"linecolor\":\"white\",\"ticks\":\"\"},\"bgcolor\":\"#E5ECF6\",\"caxis\":{\"gridcolor\":\"white\",\"linecolor\":\"white\",\"ticks\":\"\"}},\"title\":{\"x\":0.05},\"xaxis\":{\"automargin\":true,\"gridcolor\":\"white\",\"linecolor\":\"white\",\"ticks\":\"\",\"title\":{\"standoff\":15},\"zerolinecolor\":\"white\",\"zerolinewidth\":2},\"yaxis\":{\"automargin\":true,\"gridcolor\":\"white\",\"linecolor\":\"white\",\"ticks\":\"\",\"title\":{\"standoff\":15},\"zerolinecolor\":\"white\",\"zerolinewidth\":2}}},\"xaxis\":{\"anchor\":\"y\",\"domain\":[0.0,1.0],\"title\":{\"text\":\"Neighbourhood\"}},\"yaxis\":{\"anchor\":\"x\",\"domain\":[0.0,1.0],\"title\":{\"text\":\"ratio\"}},\"legend\":{\"tracegroupgap\":0},\"margin\":{\"t\":60},\"barmode\":\"relative\",\"height\":800,\"width\":1400,\"title\":{\"text\":\"Ratio of Non-attended\",\"x\":0.5}},                        {\"responsive\": true}                    ).then(function(){\n",
       "                            \n",
       "var gd = document.getElementById('cb7b3169-261c-41b4-b6ff-1a1d007cdc34');\n",
       "var x = new MutationObserver(function (mutations, observer) {{\n",
       "        var display = window.getComputedStyle(gd).display;\n",
       "        if (!display || display === 'none') {{\n",
       "            console.log([gd, 'removed!']);\n",
       "            Plotly.purge(gd);\n",
       "            observer.disconnect();\n",
       "        }}\n",
       "}});\n",
       "\n",
       "// Listen for the removal of the full notebook cells\n",
       "var notebookContainer = gd.closest('#notebook-container');\n",
       "if (notebookContainer) {{\n",
       "    x.observe(notebookContainer, {childList: true});\n",
       "}}\n",
       "\n",
       "// Listen for the clearing of the current output cell\n",
       "var outputEl = gd.closest('.output');\n",
       "if (outputEl) {{\n",
       "    x.observe(outputEl, {childList: true});\n",
       "}}\n",
       "\n",
       "                        })                };                });            </script>        </div>"
      ]
     },
     "metadata": {},
     "output_type": "display_data"
    }
   ],
   "source": [
    "import plotly.express as px\n",
    "fd=df4.sort_values(by='ratio',ascending=False)\n",
    "fig=px.bar(fd,x='Neighbourhood',y='ratio',width=1400,height=800)\n",
    "\n",
    "fig.update_layout(title_text='Ratio of Non-attended',\n",
    "                 title_x=0.5)\n",
    "             \n",
    "                \n",
    "fig.show()\n"
   ]
  },
  {
   "cell_type": "markdown",
   "id": "2a2d1fc1-c135-41a1-88db-7e5569348a1e",
   "metadata": {
    "tags": []
   },
   "source": [
    "From the above, it can be concluded that Parque industrial Neighbourhood is likely not to attend an appointment. Moreover we need to see how many people from this neighbourhood to make a genuine conclusion "
   ]
  },
  {
   "cell_type": "code",
   "execution_count": 89,
   "id": "7b8c5d6c-9ceb-476a-9e1a-8585da190cf5",
   "metadata": {},
   "outputs": [
    {
     "data": {
      "application/vnd.plotly.v1+json": {
       "config": {
        "plotlyServerURL": "https://plot.ly"
       },
       "data": [
        {
         "marker": {
          "color": "lightsalmon"
         },
         "mode": "lines+markers",
         "name": "Total Patients",
         "opacity": 1,
         "type": "scatter",
         "visible": true,
         "x": [
          "AEROPORTO",
          "ANDORINHAS",
          "ANTÔNIO HONÓRIO",
          "ARIOVALDO FAVALESSA",
          "BARRO VERMELHO",
          "BELA VISTA",
          "BENTO FERREIRA",
          "BOA VISTA",
          "BONFIM",
          "CARATOÍRA",
          "CENTRO",
          "COMDUSA",
          "CONQUISTA",
          "CONSOLAÇÃO",
          "CRUZAMENTO",
          "DA PENHA",
          "DE LOURDES",
          "DO CABRAL",
          "DO MOSCOSO",
          "DO QUADRO",
          "ENSEADA DO SUÁ",
          "ESTRELINHA",
          "FONTE GRANDE",
          "FORTE SÃO JOÃO",
          "FRADINHOS",
          "GOIABEIRAS",
          "GRANDE VITÓRIA",
          "GURIGICA",
          "HORTO",
          "ILHA DAS CAIEIRAS",
          "ILHA DE SANTA MARIA",
          "ILHA DO BOI",
          "ILHA DO FRADE",
          "ILHA DO PRÍNCIPE",
          "ILHAS OCEÂNICAS DE TRINDADE",
          "INHANGUETÁ",
          "ITARARÉ",
          "JABOUR",
          "JARDIM CAMBURI",
          "JARDIM DA PENHA",
          "JESUS DE NAZARETH",
          "JOANA D´ARC",
          "JUCUTUQUARA",
          "MARIA ORTIZ",
          "MARUÍPE",
          "MATA DA PRAIA",
          "MONTE BELO",
          "MORADA DE CAMBURI",
          "MÁRIO CYPRESTE",
          "NAZARETH",
          "NOVA PALESTINA",
          "PARQUE INDUSTRIAL",
          "PARQUE MOSCOSO",
          "PIEDADE",
          "PONTAL DE CAMBURI",
          "PRAIA DO CANTO",
          "PRAIA DO SUÁ",
          "REDENÇÃO",
          "REPÚBLICA",
          "RESISTÊNCIA",
          "ROMÃO",
          "SANTA CECÍLIA",
          "SANTA CLARA",
          "SANTA HELENA",
          "SANTA LUÍZA",
          "SANTA LÚCIA",
          "SANTA MARTHA",
          "SANTA TEREZA",
          "SANTO ANDRÉ",
          "SANTO ANTÔNIO",
          "SANTOS DUMONT",
          "SANTOS REIS",
          "SEGURANÇA DO LAR",
          "SOLON BORGES",
          "SÃO BENEDITO",
          "SÃO CRISTÓVÃO",
          "SÃO JOSÉ",
          "SÃO PEDRO",
          "TABUAZEIRO",
          "UNIVERSITÁRIO",
          "VILA RUBIM"
         ],
         "xaxis": "x",
         "y": [
          8,
          2262,
          271,
          282,
          423,
          1907,
          858,
          312,
          2773,
          2565,
          3334,
          310,
          849,
          1376,
          1398,
          2217,
          305,
          560,
          413,
          849,
          235,
          538,
          682,
          1889,
          258,
          700,
          1071,
          2018,
          175,
          1071,
          1885,
          35,
          10,
          2266,
          2,
          1057,
          3514,
          2509,
          7717,
          3877,
          2853,
          1427,
          694,
          5805,
          1902,
          644,
          824,
          96,
          371,
          135,
          2264,
          1,
          802,
          452,
          69,
          1035,
          1288,
          1553,
          835,
          4431,
          2214,
          448,
          506,
          178,
          428,
          438,
          3131,
          1332,
          2571,
          2746,
          1276,
          547,
          145,
          469,
          1439,
          1836,
          1977,
          2448,
          3132,
          152,
          851
         ],
         "yaxis": "y"
        },
        {
         "marker": {
          "color": "dodgerblue"
         },
         "name": "ratio of not-attended",
         "opacity": 0.5,
         "type": "bar",
         "visible": true,
         "x": [
          "AEROPORTO",
          "ANDORINHAS",
          "ANTÔNIO HONÓRIO",
          "ARIOVALDO FAVALESSA",
          "BARRO VERMELHO",
          "BELA VISTA",
          "BENTO FERREIRA",
          "BOA VISTA",
          "BONFIM",
          "CARATOÍRA",
          "CENTRO",
          "COMDUSA",
          "CONQUISTA",
          "CONSOLAÇÃO",
          "CRUZAMENTO",
          "DA PENHA",
          "DE LOURDES",
          "DO CABRAL",
          "DO MOSCOSO",
          "DO QUADRO",
          "ENSEADA DO SUÁ",
          "ESTRELINHA",
          "FONTE GRANDE",
          "FORTE SÃO JOÃO",
          "FRADINHOS",
          "GOIABEIRAS",
          "GRANDE VITÓRIA",
          "GURIGICA",
          "HORTO",
          "ILHA DAS CAIEIRAS",
          "ILHA DE SANTA MARIA",
          "ILHA DO BOI",
          "ILHA DO FRADE",
          "ILHA DO PRÍNCIPE",
          "ILHAS OCEÂNICAS DE TRINDADE",
          "INHANGUETÁ",
          "ITARARÉ",
          "JABOUR",
          "JARDIM CAMBURI",
          "JARDIM DA PENHA",
          "JESUS DE NAZARETH",
          "JOANA D´ARC",
          "JUCUTUQUARA",
          "MARIA ORTIZ",
          "MARUÍPE",
          "MATA DA PRAIA",
          "MONTE BELO",
          "MORADA DE CAMBURI",
          "MÁRIO CYPRESTE",
          "NAZARETH",
          "NOVA PALESTINA",
          "PARQUE INDUSTRIAL",
          "PARQUE MOSCOSO",
          "PIEDADE",
          "PONTAL DE CAMBURI",
          "PRAIA DO CANTO",
          "PRAIA DO SUÁ",
          "REDENÇÃO",
          "REPÚBLICA",
          "RESISTÊNCIA",
          "ROMÃO",
          "SANTA CECÍLIA",
          "SANTA CLARA",
          "SANTA HELENA",
          "SANTA LUÍZA",
          "SANTA LÚCIA",
          "SANTA MARTHA",
          "SANTA TEREZA",
          "SANTO ANDRÉ",
          "SANTO ANTÔNIO",
          "SANTOS DUMONT",
          "SANTOS REIS",
          "SEGURANÇA DO LAR",
          "SOLON BORGES",
          "SÃO BENEDITO",
          "SÃO CRISTÓVÃO",
          "SÃO JOSÉ",
          "SÃO PEDRO",
          "TABUAZEIRO",
          "UNIVERSITÁRIO",
          "VILA RUBIM"
         ],
         "xaxis": "x",
         "y": [
          0.875,
          0.7696728558797524,
          0.8154981549815498,
          0.7801418439716312,
          0.7848699763593381,
          0.7986366019926586,
          0.7750582750582751,
          0.8141025641025641,
          0.8016588532275514,
          0.7695906432748538,
          0.7891421715656869,
          0.8193548387096774,
          0.8115429917550059,
          0.8277616279069767,
          0.7825464949928469,
          0.8064952638700947,
          0.8459016393442623,
          0.8428571428571429,
          0.7772397094430993,
          0.8351001177856302,
          0.7787234042553192,
          0.8029739776951673,
          0.781524926686217,
          0.8168343038644785,
          0.813953488372093,
          0.8042857142857143,
          0.7973856209150327,
          0.7740336967294351,
          0.76,
          0.780578898225957,
          0.8084880636604774,
          0.9142857142857143,
          0.8,
          0.76522506619594,
          0,
          0.8088930936613056,
          0.7373363688104724,
          0.8202471104025508,
          0.8101593883633537,
          0.8372452927521279,
          0.7560462670872765,
          0.8192011212333566,
          0.80835734870317,
          0.7900086132644272,
          0.7770767613038907,
          0.8291925465838509,
          0.7985436893203883,
          0.8333333333333334,
          0.8544474393530997,
          0.7851851851851852,
          0.8224381625441696,
          1,
          0.7768079800498753,
          0.8053097345132744,
          0.8260869565217391,
          0.8164251207729468,
          0.7717391304347826,
          0.8229233741146169,
          0.8287425149700599,
          0.7955314827352742,
          0.7859078590785907,
          0.7254464285714286,
          0.7351778656126482,
          0.7921348314606742,
          0.8200934579439252,
          0.8036529680365296,
          0.8415841584158416,
          0.7957957957957958,
          0.8024115130299494,
          0.8237436270939549,
          0.7108150470219435,
          0.7952468007312614,
          0.8068965517241379,
          0.8528784648187633,
          0.8005559416261293,
          0.8022875816993464,
          0.7835103692463329,
          0.7896241830065359,
          0.8170498084291188,
          0.7894736842105263,
          0.8343125734430082
         ],
         "yaxis": "y2"
        }
       ],
       "layout": {
        "autosize": false,
        "height": 800,
        "template": {
         "data": {
          "bar": [
           {
            "error_x": {
             "color": "#2a3f5f"
            },
            "error_y": {
             "color": "#2a3f5f"
            },
            "marker": {
             "line": {
              "color": "#E5ECF6",
              "width": 0.5
             },
             "pattern": {
              "fillmode": "overlay",
              "size": 10,
              "solidity": 0.2
             }
            },
            "type": "bar"
           }
          ],
          "barpolar": [
           {
            "marker": {
             "line": {
              "color": "#E5ECF6",
              "width": 0.5
             },
             "pattern": {
              "fillmode": "overlay",
              "size": 10,
              "solidity": 0.2
             }
            },
            "type": "barpolar"
           }
          ],
          "carpet": [
           {
            "aaxis": {
             "endlinecolor": "#2a3f5f",
             "gridcolor": "white",
             "linecolor": "white",
             "minorgridcolor": "white",
             "startlinecolor": "#2a3f5f"
            },
            "baxis": {
             "endlinecolor": "#2a3f5f",
             "gridcolor": "white",
             "linecolor": "white",
             "minorgridcolor": "white",
             "startlinecolor": "#2a3f5f"
            },
            "type": "carpet"
           }
          ],
          "choropleth": [
           {
            "colorbar": {
             "outlinewidth": 0,
             "ticks": ""
            },
            "type": "choropleth"
           }
          ],
          "contour": [
           {
            "colorbar": {
             "outlinewidth": 0,
             "ticks": ""
            },
            "colorscale": [
             [
              0,
              "#0d0887"
             ],
             [
              0.1111111111111111,
              "#46039f"
             ],
             [
              0.2222222222222222,
              "#7201a8"
             ],
             [
              0.3333333333333333,
              "#9c179e"
             ],
             [
              0.4444444444444444,
              "#bd3786"
             ],
             [
              0.5555555555555556,
              "#d8576b"
             ],
             [
              0.6666666666666666,
              "#ed7953"
             ],
             [
              0.7777777777777778,
              "#fb9f3a"
             ],
             [
              0.8888888888888888,
              "#fdca26"
             ],
             [
              1,
              "#f0f921"
             ]
            ],
            "type": "contour"
           }
          ],
          "contourcarpet": [
           {
            "colorbar": {
             "outlinewidth": 0,
             "ticks": ""
            },
            "type": "contourcarpet"
           }
          ],
          "heatmap": [
           {
            "colorbar": {
             "outlinewidth": 0,
             "ticks": ""
            },
            "colorscale": [
             [
              0,
              "#0d0887"
             ],
             [
              0.1111111111111111,
              "#46039f"
             ],
             [
              0.2222222222222222,
              "#7201a8"
             ],
             [
              0.3333333333333333,
              "#9c179e"
             ],
             [
              0.4444444444444444,
              "#bd3786"
             ],
             [
              0.5555555555555556,
              "#d8576b"
             ],
             [
              0.6666666666666666,
              "#ed7953"
             ],
             [
              0.7777777777777778,
              "#fb9f3a"
             ],
             [
              0.8888888888888888,
              "#fdca26"
             ],
             [
              1,
              "#f0f921"
             ]
            ],
            "type": "heatmap"
           }
          ],
          "heatmapgl": [
           {
            "colorbar": {
             "outlinewidth": 0,
             "ticks": ""
            },
            "colorscale": [
             [
              0,
              "#0d0887"
             ],
             [
              0.1111111111111111,
              "#46039f"
             ],
             [
              0.2222222222222222,
              "#7201a8"
             ],
             [
              0.3333333333333333,
              "#9c179e"
             ],
             [
              0.4444444444444444,
              "#bd3786"
             ],
             [
              0.5555555555555556,
              "#d8576b"
             ],
             [
              0.6666666666666666,
              "#ed7953"
             ],
             [
              0.7777777777777778,
              "#fb9f3a"
             ],
             [
              0.8888888888888888,
              "#fdca26"
             ],
             [
              1,
              "#f0f921"
             ]
            ],
            "type": "heatmapgl"
           }
          ],
          "histogram": [
           {
            "marker": {
             "pattern": {
              "fillmode": "overlay",
              "size": 10,
              "solidity": 0.2
             }
            },
            "type": "histogram"
           }
          ],
          "histogram2d": [
           {
            "colorbar": {
             "outlinewidth": 0,
             "ticks": ""
            },
            "colorscale": [
             [
              0,
              "#0d0887"
             ],
             [
              0.1111111111111111,
              "#46039f"
             ],
             [
              0.2222222222222222,
              "#7201a8"
             ],
             [
              0.3333333333333333,
              "#9c179e"
             ],
             [
              0.4444444444444444,
              "#bd3786"
             ],
             [
              0.5555555555555556,
              "#d8576b"
             ],
             [
              0.6666666666666666,
              "#ed7953"
             ],
             [
              0.7777777777777778,
              "#fb9f3a"
             ],
             [
              0.8888888888888888,
              "#fdca26"
             ],
             [
              1,
              "#f0f921"
             ]
            ],
            "type": "histogram2d"
           }
          ],
          "histogram2dcontour": [
           {
            "colorbar": {
             "outlinewidth": 0,
             "ticks": ""
            },
            "colorscale": [
             [
              0,
              "#0d0887"
             ],
             [
              0.1111111111111111,
              "#46039f"
             ],
             [
              0.2222222222222222,
              "#7201a8"
             ],
             [
              0.3333333333333333,
              "#9c179e"
             ],
             [
              0.4444444444444444,
              "#bd3786"
             ],
             [
              0.5555555555555556,
              "#d8576b"
             ],
             [
              0.6666666666666666,
              "#ed7953"
             ],
             [
              0.7777777777777778,
              "#fb9f3a"
             ],
             [
              0.8888888888888888,
              "#fdca26"
             ],
             [
              1,
              "#f0f921"
             ]
            ],
            "type": "histogram2dcontour"
           }
          ],
          "mesh3d": [
           {
            "colorbar": {
             "outlinewidth": 0,
             "ticks": ""
            },
            "type": "mesh3d"
           }
          ],
          "parcoords": [
           {
            "line": {
             "colorbar": {
              "outlinewidth": 0,
              "ticks": ""
             }
            },
            "type": "parcoords"
           }
          ],
          "pie": [
           {
            "automargin": true,
            "type": "pie"
           }
          ],
          "scatter": [
           {
            "marker": {
             "colorbar": {
              "outlinewidth": 0,
              "ticks": ""
             }
            },
            "type": "scatter"
           }
          ],
          "scatter3d": [
           {
            "line": {
             "colorbar": {
              "outlinewidth": 0,
              "ticks": ""
             }
            },
            "marker": {
             "colorbar": {
              "outlinewidth": 0,
              "ticks": ""
             }
            },
            "type": "scatter3d"
           }
          ],
          "scattercarpet": [
           {
            "marker": {
             "colorbar": {
              "outlinewidth": 0,
              "ticks": ""
             }
            },
            "type": "scattercarpet"
           }
          ],
          "scattergeo": [
           {
            "marker": {
             "colorbar": {
              "outlinewidth": 0,
              "ticks": ""
             }
            },
            "type": "scattergeo"
           }
          ],
          "scattergl": [
           {
            "marker": {
             "colorbar": {
              "outlinewidth": 0,
              "ticks": ""
             }
            },
            "type": "scattergl"
           }
          ],
          "scattermapbox": [
           {
            "marker": {
             "colorbar": {
              "outlinewidth": 0,
              "ticks": ""
             }
            },
            "type": "scattermapbox"
           }
          ],
          "scatterpolar": [
           {
            "marker": {
             "colorbar": {
              "outlinewidth": 0,
              "ticks": ""
             }
            },
            "type": "scatterpolar"
           }
          ],
          "scatterpolargl": [
           {
            "marker": {
             "colorbar": {
              "outlinewidth": 0,
              "ticks": ""
             }
            },
            "type": "scatterpolargl"
           }
          ],
          "scatterternary": [
           {
            "marker": {
             "colorbar": {
              "outlinewidth": 0,
              "ticks": ""
             }
            },
            "type": "scatterternary"
           }
          ],
          "surface": [
           {
            "colorbar": {
             "outlinewidth": 0,
             "ticks": ""
            },
            "colorscale": [
             [
              0,
              "#0d0887"
             ],
             [
              0.1111111111111111,
              "#46039f"
             ],
             [
              0.2222222222222222,
              "#7201a8"
             ],
             [
              0.3333333333333333,
              "#9c179e"
             ],
             [
              0.4444444444444444,
              "#bd3786"
             ],
             [
              0.5555555555555556,
              "#d8576b"
             ],
             [
              0.6666666666666666,
              "#ed7953"
             ],
             [
              0.7777777777777778,
              "#fb9f3a"
             ],
             [
              0.8888888888888888,
              "#fdca26"
             ],
             [
              1,
              "#f0f921"
             ]
            ],
            "type": "surface"
           }
          ],
          "table": [
           {
            "cells": {
             "fill": {
              "color": "#EBF0F8"
             },
             "line": {
              "color": "white"
             }
            },
            "header": {
             "fill": {
              "color": "#C8D4E3"
             },
             "line": {
              "color": "white"
             }
            },
            "type": "table"
           }
          ]
         },
         "layout": {
          "annotationdefaults": {
           "arrowcolor": "#2a3f5f",
           "arrowhead": 0,
           "arrowwidth": 1
          },
          "autotypenumbers": "strict",
          "coloraxis": {
           "colorbar": {
            "outlinewidth": 0,
            "ticks": ""
           }
          },
          "colorscale": {
           "diverging": [
            [
             0,
             "#8e0152"
            ],
            [
             0.1,
             "#c51b7d"
            ],
            [
             0.2,
             "#de77ae"
            ],
            [
             0.3,
             "#f1b6da"
            ],
            [
             0.4,
             "#fde0ef"
            ],
            [
             0.5,
             "#f7f7f7"
            ],
            [
             0.6,
             "#e6f5d0"
            ],
            [
             0.7,
             "#b8e186"
            ],
            [
             0.8,
             "#7fbc41"
            ],
            [
             0.9,
             "#4d9221"
            ],
            [
             1,
             "#276419"
            ]
           ],
           "sequential": [
            [
             0,
             "#0d0887"
            ],
            [
             0.1111111111111111,
             "#46039f"
            ],
            [
             0.2222222222222222,
             "#7201a8"
            ],
            [
             0.3333333333333333,
             "#9c179e"
            ],
            [
             0.4444444444444444,
             "#bd3786"
            ],
            [
             0.5555555555555556,
             "#d8576b"
            ],
            [
             0.6666666666666666,
             "#ed7953"
            ],
            [
             0.7777777777777778,
             "#fb9f3a"
            ],
            [
             0.8888888888888888,
             "#fdca26"
            ],
            [
             1,
             "#f0f921"
            ]
           ],
           "sequentialminus": [
            [
             0,
             "#0d0887"
            ],
            [
             0.1111111111111111,
             "#46039f"
            ],
            [
             0.2222222222222222,
             "#7201a8"
            ],
            [
             0.3333333333333333,
             "#9c179e"
            ],
            [
             0.4444444444444444,
             "#bd3786"
            ],
            [
             0.5555555555555556,
             "#d8576b"
            ],
            [
             0.6666666666666666,
             "#ed7953"
            ],
            [
             0.7777777777777778,
             "#fb9f3a"
            ],
            [
             0.8888888888888888,
             "#fdca26"
            ],
            [
             1,
             "#f0f921"
            ]
           ]
          },
          "colorway": [
           "#636efa",
           "#EF553B",
           "#00cc96",
           "#ab63fa",
           "#FFA15A",
           "#19d3f3",
           "#FF6692",
           "#B6E880",
           "#FF97FF",
           "#FECB52"
          ],
          "font": {
           "color": "#2a3f5f"
          },
          "geo": {
           "bgcolor": "white",
           "lakecolor": "white",
           "landcolor": "#E5ECF6",
           "showlakes": true,
           "showland": true,
           "subunitcolor": "white"
          },
          "hoverlabel": {
           "align": "left"
          },
          "hovermode": "closest",
          "mapbox": {
           "style": "light"
          },
          "paper_bgcolor": "white",
          "plot_bgcolor": "#E5ECF6",
          "polar": {
           "angularaxis": {
            "gridcolor": "white",
            "linecolor": "white",
            "ticks": ""
           },
           "bgcolor": "#E5ECF6",
           "radialaxis": {
            "gridcolor": "white",
            "linecolor": "white",
            "ticks": ""
           }
          },
          "scene": {
           "xaxis": {
            "backgroundcolor": "#E5ECF6",
            "gridcolor": "white",
            "gridwidth": 2,
            "linecolor": "white",
            "showbackground": true,
            "ticks": "",
            "zerolinecolor": "white"
           },
           "yaxis": {
            "backgroundcolor": "#E5ECF6",
            "gridcolor": "white",
            "gridwidth": 2,
            "linecolor": "white",
            "showbackground": true,
            "ticks": "",
            "zerolinecolor": "white"
           },
           "zaxis": {
            "backgroundcolor": "#E5ECF6",
            "gridcolor": "white",
            "gridwidth": 2,
            "linecolor": "white",
            "showbackground": true,
            "ticks": "",
            "zerolinecolor": "white"
           }
          },
          "shapedefaults": {
           "line": {
            "color": "#2a3f5f"
           }
          },
          "ternary": {
           "aaxis": {
            "gridcolor": "white",
            "linecolor": "white",
            "ticks": ""
           },
           "baxis": {
            "gridcolor": "white",
            "linecolor": "white",
            "ticks": ""
           },
           "bgcolor": "#E5ECF6",
           "caxis": {
            "gridcolor": "white",
            "linecolor": "white",
            "ticks": ""
           }
          },
          "title": {
           "x": 0.05
          },
          "xaxis": {
           "automargin": true,
           "gridcolor": "white",
           "linecolor": "white",
           "ticks": "",
           "title": {
            "standoff": 15
           },
           "zerolinecolor": "white",
           "zerolinewidth": 2
          },
          "yaxis": {
           "automargin": true,
           "gridcolor": "white",
           "linecolor": "white",
           "ticks": "",
           "title": {
            "standoff": 15
           },
           "zerolinecolor": "white",
           "zerolinewidth": 2
          }
         }
        },
        "title": {
         "text": "Total Patients and ratio of not_attended",
         "x": 0.5
        },
        "width": 1500,
        "xaxis": {
         "anchor": "y",
         "autorange": true,
         "domain": [
          0,
          0.94
         ],
         "range": [
          -4.771659510473172,
          84.77165951047317
         ],
         "title": {
          "text": "Neighbourhood"
         },
         "type": "category"
        },
        "yaxis": {
         "anchor": "x",
         "autorange": true,
         "domain": [
          0,
          1
         ],
         "range": [
          -508.00149925037476,
          8226.001499250375
         ],
         "title": {
          "text": "Total Patients"
         },
         "type": "linear"
        },
        "yaxis2": {
         "anchor": "x",
         "autorange": true,
         "overlaying": "y",
         "range": [
          0,
          1.0526315789473684
         ],
         "side": "right",
         "title": {
          "text": "ratio"
         },
         "type": "linear"
        }
       }
      },
      "image/png": "[encoded data removed]",
      "text/html": [
       "<div>                            <div id=\"710c30ca-ba9b-4c51-92d3-d6783684b183\" class=\"plotly-graph-div\" style=\"height:800px; width:1500px;\"></div>            <script type=\"text/javascript\">                require([\"plotly\"], function(Plotly) {                    window.PLOTLYENV=window.PLOTLYENV || {};                                    if (document.getElementById(\"710c30ca-ba9b-4c51-92d3-d6783684b183\")) {                    Plotly.newPlot(                        \"710c30ca-ba9b-4c51-92d3-d6783684b183\",                        [{\"marker\":{\"color\":\"lightsalmon\"},\"mode\":\"lines+markers\",\"name\":\"Total Patients\",\"opacity\":1,\"x\":[\"AEROPORTO\",\"ANDORINHAS\",\"ANT\\u00d4NIO HON\\u00d3RIO\",\"ARIOVALDO FAVALESSA\",\"BARRO VERMELHO\",\"BELA VISTA\",\"BENTO FERREIRA\",\"BOA VISTA\",\"BONFIM\",\"CARATO\\u00cdRA\",\"CENTRO\",\"COMDUSA\",\"CONQUISTA\",\"CONSOLA\\u00c7\\u00c3O\",\"CRUZAMENTO\",\"DA PENHA\",\"DE LOURDES\",\"DO CABRAL\",\"DO MOSCOSO\",\"DO QUADRO\",\"ENSEADA DO SU\\u00c1\",\"ESTRELINHA\",\"FONTE GRANDE\",\"FORTE S\\u00c3O JO\\u00c3O\",\"FRADINHOS\",\"GOIABEIRAS\",\"GRANDE VIT\\u00d3RIA\",\"GURIGICA\",\"HORTO\",\"ILHA DAS CAIEIRAS\",\"ILHA DE SANTA MARIA\",\"ILHA DO BOI\",\"ILHA DO FRADE\",\"ILHA DO PR\\u00cdNCIPE\",\"ILHAS OCE\\u00c2NICAS DE TRINDADE\",\"INHANGUET\\u00c1\",\"ITARAR\\u00c9\",\"JABOUR\",\"JARDIM CAMBURI\",\"JARDIM DA PENHA\",\"JESUS DE NAZARETH\",\"JOANA D\\u00b4ARC\",\"JUCUTUQUARA\",\"MARIA ORTIZ\",\"MARU\\u00cdPE\",\"MATA DA PRAIA\",\"MONTE BELO\",\"MORADA DE CAMBURI\",\"M\\u00c1RIO CYPRESTE\",\"NAZARETH\",\"NOVA PALESTINA\",\"PARQUE INDUSTRIAL\",\"PARQUE MOSCOSO\",\"PIEDADE\",\"PONTAL DE CAMBURI\",\"PRAIA DO CANTO\",\"PRAIA DO SU\\u00c1\",\"REDEN\\u00c7\\u00c3O\",\"REP\\u00daBLICA\",\"RESIST\\u00caNCIA\",\"ROM\\u00c3O\",\"SANTA CEC\\u00cdLIA\",\"SANTA CLARA\",\"SANTA HELENA\",\"SANTA LU\\u00cdZA\",\"SANTA L\\u00daCIA\",\"SANTA MARTHA\",\"SANTA TEREZA\",\"SANTO ANDR\\u00c9\",\"SANTO ANT\\u00d4NIO\",\"SANTOS DUMONT\",\"SANTOS REIS\",\"SEGURAN\\u00c7A DO LAR\",\"SOLON BORGES\",\"S\\u00c3O BENEDITO\",\"S\\u00c3O CRIST\\u00d3V\\u00c3O\",\"S\\u00c3O JOS\\u00c9\",\"S\\u00c3O PEDRO\",\"TABUAZEIRO\",\"UNIVERSIT\\u00c1RIO\",\"VILA RUBIM\"],\"y\":[8.0,2262.0,271.0,282.0,423.0,1907.0,858.0,312.0,2773.0,2565.0,3334.0,310.0,849.0,1376.0,1398.0,2217.0,305.0,560.0,413.0,849.0,235.0,538.0,682.0,1889.0,258.0,700.0,1071.0,2018.0,175.0,1071.0,1885.0,35.0,10.0,2266.0,2.0,1057.0,3514.0,2509.0,7717.0,3877.0,2853.0,1427.0,694.0,5805.0,1902.0,644.0,824.0,96.0,371.0,135.0,2264.0,1.0,802.0,452.0,69.0,1035.0,1288.0,1553.0,835.0,4431.0,2214.0,448.0,506.0,178.0,428.0,438.0,3131.0,1332.0,2571.0,2746.0,1276.0,547.0,145.0,469.0,1439.0,1836.0,1977.0,2448.0,3132.0,152.0,851.0],\"type\":\"scatter\",\"xaxis\":\"x\",\"yaxis\":\"y\"},{\"marker\":{\"color\":\"dodgerblue\"},\"name\":\"ratio of not-attended\",\"opacity\":0.5,\"x\":[\"AEROPORTO\",\"ANDORINHAS\",\"ANT\\u00d4NIO HON\\u00d3RIO\",\"ARIOVALDO FAVALESSA\",\"BARRO VERMELHO\",\"BELA VISTA\",\"BENTO FERREIRA\",\"BOA VISTA\",\"BONFIM\",\"CARATO\\u00cdRA\",\"CENTRO\",\"COMDUSA\",\"CONQUISTA\",\"CONSOLA\\u00c7\\u00c3O\",\"CRUZAMENTO\",\"DA PENHA\",\"DE LOURDES\",\"DO CABRAL\",\"DO MOSCOSO\",\"DO QUADRO\",\"ENSEADA DO SU\\u00c1\",\"ESTRELINHA\",\"FONTE GRANDE\",\"FORTE S\\u00c3O JO\\u00c3O\",\"FRADINHOS\",\"GOIABEIRAS\",\"GRANDE VIT\\u00d3RIA\",\"GURIGICA\",\"HORTO\",\"ILHA DAS CAIEIRAS\",\"ILHA DE SANTA MARIA\",\"ILHA DO BOI\",\"ILHA DO FRADE\",\"ILHA DO PR\\u00cdNCIPE\",\"ILHAS OCE\\u00c2NICAS DE TRINDADE\",\"INHANGUET\\u00c1\",\"ITARAR\\u00c9\",\"JABOUR\",\"JARDIM CAMBURI\",\"JARDIM DA PENHA\",\"JESUS DE NAZARETH\",\"JOANA D\\u00b4ARC\",\"JUCUTUQUARA\",\"MARIA ORTIZ\",\"MARU\\u00cdPE\",\"MATA DA PRAIA\",\"MONTE BELO\",\"MORADA DE CAMBURI\",\"M\\u00c1RIO CYPRESTE\",\"NAZARETH\",\"NOVA PALESTINA\",\"PARQUE INDUSTRIAL\",\"PARQUE MOSCOSO\",\"PIEDADE\",\"PONTAL DE CAMBURI\",\"PRAIA DO CANTO\",\"PRAIA DO SU\\u00c1\",\"REDEN\\u00c7\\u00c3O\",\"REP\\u00daBLICA\",\"RESIST\\u00caNCIA\",\"ROM\\u00c3O\",\"SANTA CEC\\u00cdLIA\",\"SANTA CLARA\",\"SANTA HELENA\",\"SANTA LU\\u00cdZA\",\"SANTA L\\u00daCIA\",\"SANTA MARTHA\",\"SANTA TEREZA\",\"SANTO ANDR\\u00c9\",\"SANTO ANT\\u00d4NIO\",\"SANTOS DUMONT\",\"SANTOS REIS\",\"SEGURAN\\u00c7A DO LAR\",\"SOLON BORGES\",\"S\\u00c3O BENEDITO\",\"S\\u00c3O CRIST\\u00d3V\\u00c3O\",\"S\\u00c3O JOS\\u00c9\",\"S\\u00c3O PEDRO\",\"TABUAZEIRO\",\"UNIVERSIT\\u00c1RIO\",\"VILA RUBIM\"],\"y\":[0.875,0.7696728558797524,0.8154981549815498,0.7801418439716312,0.7848699763593381,0.7986366019926586,0.7750582750582751,0.8141025641025641,0.8016588532275514,0.7695906432748538,0.7891421715656869,0.8193548387096774,0.8115429917550059,0.8277616279069767,0.7825464949928469,0.8064952638700947,0.8459016393442623,0.8428571428571429,0.7772397094430993,0.8351001177856302,0.7787234042553192,0.8029739776951673,0.781524926686217,0.8168343038644785,0.813953488372093,0.8042857142857143,0.7973856209150327,0.7740336967294351,0.76,0.780578898225957,0.8084880636604774,0.9142857142857143,0.8,0.76522506619594,0.0,0.8088930936613056,0.7373363688104724,0.8202471104025508,0.8101593883633537,0.8372452927521279,0.7560462670872765,0.8192011212333566,0.80835734870317,0.7900086132644272,0.7770767613038907,0.8291925465838509,0.7985436893203883,0.8333333333333334,0.8544474393530997,0.7851851851851852,0.8224381625441696,1.0,0.7768079800498753,0.8053097345132744,0.8260869565217391,0.8164251207729468,0.7717391304347826,0.8229233741146169,0.8287425149700599,0.7955314827352742,0.7859078590785907,0.7254464285714286,0.7351778656126482,0.7921348314606742,0.8200934579439252,0.8036529680365296,0.8415841584158416,0.7957957957957958,0.8024115130299494,0.8237436270939549,0.7108150470219435,0.7952468007312614,0.8068965517241379,0.8528784648187633,0.8005559416261293,0.8022875816993464,0.7835103692463329,0.7896241830065359,0.8170498084291188,0.7894736842105263,0.8343125734430082],\"type\":\"bar\",\"xaxis\":\"x\",\"yaxis\":\"y2\"}],                        {\"template\":{\"data\":{\"bar\":[{\"error_x\":{\"color\":\"#2a3f5f\"},\"error_y\":{\"color\":\"#2a3f5f\"},\"marker\":{\"line\":{\"color\":\"#E5ECF6\",\"width\":0.5},\"pattern\":{\"fillmode\":\"overlay\",\"size\":10,\"solidity\":0.2}},\"type\":\"bar\"}],\"barpolar\":[{\"marker\":{\"line\":{\"color\":\"#E5ECF6\",\"width\":0.5},\"pattern\":{\"fillmode\":\"overlay\",\"size\":10,\"solidity\":0.2}},\"type\":\"barpolar\"}],\"carpet\":[{\"aaxis\":{\"endlinecolor\":\"#2a3f5f\",\"gridcolor\":\"white\",\"linecolor\":\"white\",\"minorgridcolor\":\"white\",\"startlinecolor\":\"#2a3f5f\"},\"baxis\":{\"endlinecolor\":\"#2a3f5f\",\"gridcolor\":\"white\",\"linecolor\":\"white\",\"minorgridcolor\":\"white\",\"startlinecolor\":\"#2a3f5f\"},\"type\":\"carpet\"}],\"choropleth\":[{\"colorbar\":{\"outlinewidth\":0,\"ticks\":\"\"},\"type\":\"choropleth\"}],\"contour\":[{\"colorbar\":{\"outlinewidth\":0,\"ticks\":\"\"},\"colorscale\":[[0.0,\"#0d0887\"],[0.1111111111111111,\"#46039f\"],[0.2222222222222222,\"#7201a8\"],[0.3333333333333333,\"#9c179e\"],[0.4444444444444444,\"#bd3786\"],[0.5555555555555556,\"#d8576b\"],[0.6666666666666666,\"#ed7953\"],[0.7777777777777778,\"#fb9f3a\"],[0.8888888888888888,\"#fdca26\"],[1.0,\"#f0f921\"]],\"type\":\"contour\"}],\"contourcarpet\":[{\"colorbar\":{\"outlinewidth\":0,\"ticks\":\"\"},\"type\":\"contourcarpet\"}],\"heatmap\":[{\"colorbar\":{\"outlinewidth\":0,\"ticks\":\"\"},\"colorscale\":[[0.0,\"#0d0887\"],[0.1111111111111111,\"#46039f\"],[0.2222222222222222,\"#7201a8\"],[0.3333333333333333,\"#9c179e\"],[0.4444444444444444,\"#bd3786\"],[0.5555555555555556,\"#d8576b\"],[0.6666666666666666,\"#ed7953\"],[0.7777777777777778,\"#fb9f3a\"],[0.8888888888888888,\"#fdca26\"],[1.0,\"#f0f921\"]],\"type\":\"heatmap\"}],\"heatmapgl\":[{\"colorbar\":{\"outlinewidth\":0,\"ticks\":\"\"},\"colorscale\":[[0.0,\"#0d0887\"],[0.1111111111111111,\"#46039f\"],[0.2222222222222222,\"#7201a8\"],[0.3333333333333333,\"#9c179e\"],[0.4444444444444444,\"#bd3786\"],[0.5555555555555556,\"#d8576b\"],[0.6666666666666666,\"#ed7953\"],[0.7777777777777778,\"#fb9f3a\"],[0.8888888888888888,\"#fdca26\"],[1.0,\"#f0f921\"]],\"type\":\"heatmapgl\"}],\"histogram\":[{\"marker\":{\"pattern\":{\"fillmode\":\"overlay\",\"size\":10,\"solidity\":0.2}},\"type\":\"histogram\"}],\"histogram2d\":[{\"colorbar\":{\"outlinewidth\":0,\"ticks\":\"\"},\"colorscale\":[[0.0,\"#0d0887\"],[0.1111111111111111,\"#46039f\"],[0.2222222222222222,\"#7201a8\"],[0.3333333333333333,\"#9c179e\"],[0.4444444444444444,\"#bd3786\"],[0.5555555555555556,\"#d8576b\"],[0.6666666666666666,\"#ed7953\"],[0.7777777777777778,\"#fb9f3a\"],[0.8888888888888888,\"#fdca26\"],[1.0,\"#f0f921\"]],\"type\":\"histogram2d\"}],\"histogram2dcontour\":[{\"colorbar\":{\"outlinewidth\":0,\"ticks\":\"\"},\"colorscale\":[[0.0,\"#0d0887\"],[0.1111111111111111,\"#46039f\"],[0.2222222222222222,\"#7201a8\"],[0.3333333333333333,\"#9c179e\"],[0.4444444444444444,\"#bd3786\"],[0.5555555555555556,\"#d8576b\"],[0.6666666666666666,\"#ed7953\"],[0.7777777777777778,\"#fb9f3a\"],[0.8888888888888888,\"#fdca26\"],[1.0,\"#f0f921\"]],\"type\":\"histogram2dcontour\"}],\"mesh3d\":[{\"colorbar\":{\"outlinewidth\":0,\"ticks\":\"\"},\"type\":\"mesh3d\"}],\"parcoords\":[{\"line\":{\"colorbar\":{\"outlinewidth\":0,\"ticks\":\"\"}},\"type\":\"parcoords\"}],\"pie\":[{\"automargin\":true,\"type\":\"pie\"}],\"scatter\":[{\"marker\":{\"colorbar\":{\"outlinewidth\":0,\"ticks\":\"\"}},\"type\":\"scatter\"}],\"scatter3d\":[{\"line\":{\"colorbar\":{\"outlinewidth\":0,\"ticks\":\"\"}},\"marker\":{\"colorbar\":{\"outlinewidth\":0,\"ticks\":\"\"}},\"type\":\"scatter3d\"}],\"scattercarpet\":[{\"marker\":{\"colorbar\":{\"outlinewidth\":0,\"ticks\":\"\"}},\"type\":\"scattercarpet\"}],\"scattergeo\":[{\"marker\":{\"colorbar\":{\"outlinewidth\":0,\"ticks\":\"\"}},\"type\":\"scattergeo\"}],\"scattergl\":[{\"marker\":{\"colorbar\":{\"outlinewidth\":0,\"ticks\":\"\"}},\"type\":\"scattergl\"}],\"scattermapbox\":[{\"marker\":{\"colorbar\":{\"outlinewidth\":0,\"ticks\":\"\"}},\"type\":\"scattermapbox\"}],\"scatterpolar\":[{\"marker\":{\"colorbar\":{\"outlinewidth\":0,\"ticks\":\"\"}},\"type\":\"scatterpolar\"}],\"scatterpolargl\":[{\"marker\":{\"colorbar\":{\"outlinewidth\":0,\"ticks\":\"\"}},\"type\":\"scatterpolargl\"}],\"scatterternary\":[{\"marker\":{\"colorbar\":{\"outlinewidth\":0,\"ticks\":\"\"}},\"type\":\"scatterternary\"}],\"surface\":[{\"colorbar\":{\"outlinewidth\":0,\"ticks\":\"\"},\"colorscale\":[[0.0,\"#0d0887\"],[0.1111111111111111,\"#46039f\"],[0.2222222222222222,\"#7201a8\"],[0.3333333333333333,\"#9c179e\"],[0.4444444444444444,\"#bd3786\"],[0.5555555555555556,\"#d8576b\"],[0.6666666666666666,\"#ed7953\"],[0.7777777777777778,\"#fb9f3a\"],[0.8888888888888888,\"#fdca26\"],[1.0,\"#f0f921\"]],\"type\":\"surface\"}],\"table\":[{\"cells\":{\"fill\":{\"color\":\"#EBF0F8\"},\"line\":{\"color\":\"white\"}},\"header\":{\"fill\":{\"color\":\"#C8D4E3\"},\"line\":{\"color\":\"white\"}},\"type\":\"table\"}]},\"layout\":{\"annotationdefaults\":{\"arrowcolor\":\"#2a3f5f\",\"arrowhead\":0,\"arrowwidth\":1},\"autotypenumbers\":\"strict\",\"coloraxis\":{\"colorbar\":{\"outlinewidth\":0,\"ticks\":\"\"}},\"colorscale\":{\"diverging\":[[0,\"#8e0152\"],[0.1,\"#c51b7d\"],[0.2,\"#de77ae\"],[0.3,\"#f1b6da\"],[0.4,\"#fde0ef\"],[0.5,\"#f7f7f7\"],[0.6,\"#e6f5d0\"],[0.7,\"#b8e186\"],[0.8,\"#7fbc41\"],[0.9,\"#4d9221\"],[1,\"#276419\"]],\"sequential\":[[0.0,\"#0d0887\"],[0.1111111111111111,\"#46039f\"],[0.2222222222222222,\"#7201a8\"],[0.3333333333333333,\"#9c179e\"],[0.4444444444444444,\"#bd3786\"],[0.5555555555555556,\"#d8576b\"],[0.6666666666666666,\"#ed7953\"],[0.7777777777777778,\"#fb9f3a\"],[0.8888888888888888,\"#fdca26\"],[1.0,\"#f0f921\"]],\"sequentialminus\":[[0.0,\"#0d0887\"],[0.1111111111111111,\"#46039f\"],[0.2222222222222222,\"#7201a8\"],[0.3333333333333333,\"#9c179e\"],[0.4444444444444444,\"#bd3786\"],[0.5555555555555556,\"#d8576b\"],[0.6666666666666666,\"#ed7953\"],[0.7777777777777778,\"#fb9f3a\"],[0.8888888888888888,\"#fdca26\"],[1.0,\"#f0f921\"]]},\"colorway\":[\"#636efa\",\"#EF553B\",\"#00cc96\",\"#ab63fa\",\"#FFA15A\",\"#19d3f3\",\"#FF6692\",\"#B6E880\",\"#FF97FF\",\"#FECB52\"],\"font\":{\"color\":\"#2a3f5f\"},\"geo\":{\"bgcolor\":\"white\",\"lakecolor\":\"white\",\"landcolor\":\"#E5ECF6\",\"showlakes\":true,\"showland\":true,\"subunitcolor\":\"white\"},\"hoverlabel\":{\"align\":\"left\"},\"hovermode\":\"closest\",\"mapbox\":{\"style\":\"light\"},\"paper_bgcolor\":\"white\",\"plot_bgcolor\":\"#E5ECF6\",\"polar\":{\"angularaxis\":{\"gridcolor\":\"white\",\"linecolor\":\"white\",\"ticks\":\"\"},\"bgcolor\":\"#E5ECF6\",\"radialaxis\":{\"gridcolor\":\"white\",\"linecolor\":\"white\",\"ticks\":\"\"}},\"scene\":{\"xaxis\":{\"backgroundcolor\":\"#E5ECF6\",\"gridcolor\":\"white\",\"gridwidth\":2,\"linecolor\":\"white\",\"showbackground\":true,\"ticks\":\"\",\"zerolinecolor\":\"white\"},\"yaxis\":{\"backgroundcolor\":\"#E5ECF6\",\"gridcolor\":\"white\",\"gridwidth\":2,\"linecolor\":\"white\",\"showbackground\":true,\"ticks\":\"\",\"zerolinecolor\":\"white\"},\"zaxis\":{\"backgroundcolor\":\"#E5ECF6\",\"gridcolor\":\"white\",\"gridwidth\":2,\"linecolor\":\"white\",\"showbackground\":true,\"ticks\":\"\",\"zerolinecolor\":\"white\"}},\"shapedefaults\":{\"line\":{\"color\":\"#2a3f5f\"}},\"ternary\":{\"aaxis\":{\"gridcolor\":\"white\",\"linecolor\":\"white\",\"ticks\":\"\"},\"baxis\":{\"gridcolor\":\"white\",\"linecolor\":\"white\",\"ticks\":\"\"},\"bgcolor\":\"#E5ECF6\",\"caxis\":{\"gridcolor\":\"white\",\"linecolor\":\"white\",\"ticks\":\"\"}},\"title\":{\"x\":0.05},\"xaxis\":{\"automargin\":true,\"gridcolor\":\"white\",\"linecolor\":\"white\",\"ticks\":\"\",\"title\":{\"standoff\":15},\"zerolinecolor\":\"white\",\"zerolinewidth\":2},\"yaxis\":{\"automargin\":true,\"gridcolor\":\"white\",\"linecolor\":\"white\",\"ticks\":\"\",\"title\":{\"standoff\":15},\"zerolinecolor\":\"white\",\"zerolinewidth\":2}}},\"xaxis\":{\"anchor\":\"y\",\"domain\":[0.0,0.94],\"title\":{\"text\":\"Neighbourhood\"}},\"yaxis\":{\"anchor\":\"x\",\"domain\":[0.0,1.0],\"title\":{\"text\":\"Total Patients\"}},\"yaxis2\":{\"anchor\":\"x\",\"overlaying\":\"y\",\"side\":\"right\",\"title\":{\"text\":\"ratio\"}},\"title\":{\"text\":\"Total Patients and ratio of not_attended\",\"x\":0.5},\"autosize\":false,\"width\":1500,\"height\":800},                        {\"responsive\": true}                    ).then(function(){\n",
       "                            \n",
       "var gd = document.getElementById('710c30ca-ba9b-4c51-92d3-d6783684b183');\n",
       "var x = new MutationObserver(function (mutations, observer) {{\n",
       "        var display = window.getComputedStyle(gd).display;\n",
       "        if (!display || display === 'none') {{\n",
       "            console.log([gd, 'removed!']);\n",
       "            Plotly.purge(gd);\n",
       "            observer.disconnect();\n",
       "        }}\n",
       "}});\n",
       "\n",
       "// Listen for the removal of the full notebook cells\n",
       "var notebookContainer = gd.closest('#notebook-container');\n",
       "if (notebookContainer) {{\n",
       "    x.observe(notebookContainer, {childList: true});\n",
       "}}\n",
       "\n",
       "// Listen for the clearing of the current output cell\n",
       "var outputEl = gd.closest('.output');\n",
       "if (outputEl) {{\n",
       "    x.observe(outputEl, {childList: true});\n",
       "}}\n",
       "\n",
       "                        })                };                });            </script>        </div>"
      ]
     },
     "metadata": {},
     "output_type": "display_data"
    }
   ],
   "source": [
    "import plotly.graph_objects as go\n",
    "from plotly.subplots import make_subplots\n",
    "fd=df4.sort_values(by='sum',ascending=False)\n",
    "\n",
    "fig1=make_subplots(specs=[[{\"secondary_y\":True}]])\n",
    "\n",
    "\n",
    "fig1.add_trace(go.Scatter(\n",
    "    x=df4['Neighbourhood'],\n",
    "    y=df4['sum'],\n",
    "    name='Total Patients',\n",
    "    mode='lines+markers',marker_color='lightsalmon',opacity=1),\n",
    "    secondary_y=False,\n",
    ")\n",
    "        \n",
    "fig1.add_trace(go.Bar(\n",
    "    x=df4['Neighbourhood'],\n",
    "    y=df4['ratio'],\n",
    "    name='ratio of not-attended',\n",
    "    marker_color='dodgerblue',opacity=0.5),\n",
    "    secondary_y=True\n",
    ")\n",
    "\n",
    "fig1.update_layout(title_text ='Total Patients and ratio of not_attended',title_x=0.5,autosize=False,width=1500,height=800)\n",
    "fig1.update_xaxes(title_text=\"Neighbourhood\")\n",
    "            \n",
    "fig1.update_yaxes(title_text='Total Patients',secondary_y=False)\n",
    "fig1.update_yaxes(title_text='ratio',secondary_y=True)                 \n",
    "                                     \n",
    "                \n",
    "fig1.show()"
   ]
  },
  {
   "cell_type": "code",
   "execution_count": null,
   "id": "265f6c0a-994d-499f-b011-fa0c7f43ed54",
   "metadata": {},
   "outputs": [],
   "source": []
  }
 ],
 "metadata": {
  "kernelspec": {
   "display_name": "Python 3 (ipykernel)",
   "language": "python",
   "name": "python3"
  },
  "language_info": {
   "codemirror_mode": {
    "name": "ipython",
    "version": 3
   },
   "file_extension": ".py",
   "mimetype": "text/x-python",
   "name": "python",
   "nbconvert_exporter": "python",
   "pygments_lexer": "ipython3",
   "version": "3.9.7"
  }
 },
 "nbformat": 4,
 "nbformat_minor": 5
}
